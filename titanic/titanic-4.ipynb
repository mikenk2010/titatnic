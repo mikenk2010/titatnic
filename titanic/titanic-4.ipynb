{
 "cells": [
  {
   "cell_type": "markdown",
   "id": "5fd0282a",
   "metadata": {
    "papermill": {
     "duration": 0.013185,
     "end_time": "2022-10-19T12:08:12.466238",
     "exception": false,
     "start_time": "2022-10-19T12:08:12.453053",
     "status": "completed"
    },
    "tags": []
   },
   "source": [
    "This is my first Kaggle Competition Submission (8th attempt), where I implement grid search on random forest to achieve an accuracy score of 0.78708, and ranked #1502 at the time of submission (Oct. 19th, 2022) \n",
    "\n",
    "Previously, I used SVM to predict the survival rate of Titanic passengers, which had an accuracy score of 0.78229, and ranked #2474 at the time of submission (Oct. 16th, 2022). In the current version, I implemented grid search on SVM as well, but it did not improve the score."
   ]
  },
  {
   "cell_type": "markdown",
   "id": "bcdfd252",
   "metadata": {
    "papermill": {
     "duration": 0.011565,
     "end_time": "2022-10-19T12:08:12.489946",
     "exception": false,
     "start_time": "2022-10-19T12:08:12.478381",
     "status": "completed"
    },
    "tags": []
   },
   "source": [
    "# 1. Load Packages and Data"
   ]
  },
  {
   "cell_type": "code",
   "execution_count": 1,
   "id": "51f26bca",
   "metadata": {
    "_cell_guid": "b1076dfc-b9ad-4769-8c92-a6c4dae69d19",
    "_uuid": "8f2839f25d086af736a60e9eeb907d3b93b6e0e5",
    "execution": {
     "iopub.execute_input": "2022-10-19T12:08:12.518669Z",
     "iopub.status.busy": "2022-10-19T12:08:12.518088Z",
     "iopub.status.idle": "2022-10-19T12:08:12.557950Z",
     "shell.execute_reply": "2022-10-19T12:08:12.557026Z"
    },
    "papermill": {
     "duration": 0.056617,
     "end_time": "2022-10-19T12:08:12.560610",
     "exception": false,
     "start_time": "2022-10-19T12:08:12.503993",
     "status": "completed"
    },
    "tags": []
   },
   "outputs": [],
   "source": [
    "import numpy as np \n",
    "import pandas as pd \n",
    "import re as re\n",
    "import matplotlib.pyplot as plt\n",
    "%matplotlib inline\n",
    "\n",
    "train_df = pd.read_csv('data-4/train.csv')\n",
    "test_df = pd.read_csv('data-4/test.csv')"
   ]
  },
  {
   "cell_type": "code",
   "execution_count": 2,
   "id": "1a219b37",
   "metadata": {
    "execution": {
     "iopub.execute_input": "2022-10-19T12:08:12.587840Z",
     "iopub.status.busy": "2022-10-19T12:08:12.587427Z",
     "iopub.status.idle": "2022-10-19T12:08:12.617350Z",
     "shell.execute_reply": "2022-10-19T12:08:12.616190Z"
    },
    "papermill": {
     "duration": 0.04701,
     "end_time": "2022-10-19T12:08:12.620539",
     "exception": false,
     "start_time": "2022-10-19T12:08:12.573529",
     "status": "completed"
    },
    "tags": []
   },
   "outputs": [
    {
     "data": {
      "text/html": [
       "<div>\n",
       "<style scoped>\n",
       "    .dataframe tbody tr th:only-of-type {\n",
       "        vertical-align: middle;\n",
       "    }\n",
       "\n",
       "    .dataframe tbody tr th {\n",
       "        vertical-align: top;\n",
       "    }\n",
       "\n",
       "    .dataframe thead th {\n",
       "        text-align: right;\n",
       "    }\n",
       "</style>\n",
       "<table border=\"1\" class=\"dataframe\">\n",
       "  <thead>\n",
       "    <tr style=\"text-align: right;\">\n",
       "      <th></th>\n",
       "      <th>PassengerId</th>\n",
       "      <th>Survived</th>\n",
       "      <th>Pclass</th>\n",
       "      <th>Name</th>\n",
       "      <th>Sex</th>\n",
       "      <th>Age</th>\n",
       "      <th>SibSp</th>\n",
       "      <th>Parch</th>\n",
       "      <th>Ticket</th>\n",
       "      <th>Fare</th>\n",
       "      <th>Cabin</th>\n",
       "      <th>Embarked</th>\n",
       "    </tr>\n",
       "  </thead>\n",
       "  <tbody>\n",
       "    <tr>\n",
       "      <th>0</th>\n",
       "      <td>1</td>\n",
       "      <td>0</td>\n",
       "      <td>3</td>\n",
       "      <td>Braund, Mr. Owen Harris</td>\n",
       "      <td>male</td>\n",
       "      <td>22.0</td>\n",
       "      <td>1</td>\n",
       "      <td>0</td>\n",
       "      <td>A/5 21171</td>\n",
       "      <td>7.2500</td>\n",
       "      <td>NaN</td>\n",
       "      <td>S</td>\n",
       "    </tr>\n",
       "    <tr>\n",
       "      <th>1</th>\n",
       "      <td>2</td>\n",
       "      <td>1</td>\n",
       "      <td>1</td>\n",
       "      <td>Cumings, Mrs. John Bradley (Florence Briggs Th...</td>\n",
       "      <td>female</td>\n",
       "      <td>38.0</td>\n",
       "      <td>1</td>\n",
       "      <td>0</td>\n",
       "      <td>PC 17599</td>\n",
       "      <td>71.2833</td>\n",
       "      <td>C85</td>\n",
       "      <td>C</td>\n",
       "    </tr>\n",
       "    <tr>\n",
       "      <th>2</th>\n",
       "      <td>3</td>\n",
       "      <td>1</td>\n",
       "      <td>3</td>\n",
       "      <td>Heikkinen, Miss. Laina</td>\n",
       "      <td>female</td>\n",
       "      <td>26.0</td>\n",
       "      <td>0</td>\n",
       "      <td>0</td>\n",
       "      <td>STON/O2. 3101282</td>\n",
       "      <td>7.9250</td>\n",
       "      <td>NaN</td>\n",
       "      <td>S</td>\n",
       "    </tr>\n",
       "    <tr>\n",
       "      <th>3</th>\n",
       "      <td>4</td>\n",
       "      <td>1</td>\n",
       "      <td>1</td>\n",
       "      <td>Futrelle, Mrs. Jacques Heath (Lily May Peel)</td>\n",
       "      <td>female</td>\n",
       "      <td>35.0</td>\n",
       "      <td>1</td>\n",
       "      <td>0</td>\n",
       "      <td>113803</td>\n",
       "      <td>53.1000</td>\n",
       "      <td>C123</td>\n",
       "      <td>S</td>\n",
       "    </tr>\n",
       "    <tr>\n",
       "      <th>4</th>\n",
       "      <td>5</td>\n",
       "      <td>0</td>\n",
       "      <td>3</td>\n",
       "      <td>Allen, Mr. William Henry</td>\n",
       "      <td>male</td>\n",
       "      <td>35.0</td>\n",
       "      <td>0</td>\n",
       "      <td>0</td>\n",
       "      <td>373450</td>\n",
       "      <td>8.0500</td>\n",
       "      <td>NaN</td>\n",
       "      <td>S</td>\n",
       "    </tr>\n",
       "  </tbody>\n",
       "</table>\n",
       "</div>"
      ],
      "text/plain": [
       "   PassengerId  Survived  Pclass  \\\n",
       "0            1         0       3   \n",
       "1            2         1       1   \n",
       "2            3         1       3   \n",
       "3            4         1       1   \n",
       "4            5         0       3   \n",
       "\n",
       "                                                Name     Sex   Age  SibSp  \\\n",
       "0                            Braund, Mr. Owen Harris    male  22.0      1   \n",
       "1  Cumings, Mrs. John Bradley (Florence Briggs Th...  female  38.0      1   \n",
       "2                             Heikkinen, Miss. Laina  female  26.0      0   \n",
       "3       Futrelle, Mrs. Jacques Heath (Lily May Peel)  female  35.0      1   \n",
       "4                           Allen, Mr. William Henry    male  35.0      0   \n",
       "\n",
       "   Parch            Ticket     Fare Cabin Embarked  \n",
       "0      0         A/5 21171   7.2500   NaN        S  \n",
       "1      0          PC 17599  71.2833   C85        C  \n",
       "2      0  STON/O2. 3101282   7.9250   NaN        S  \n",
       "3      0            113803  53.1000  C123        S  \n",
       "4      0            373450   8.0500   NaN        S  "
      ]
     },
     "execution_count": 2,
     "metadata": {},
     "output_type": "execute_result"
    }
   ],
   "source": [
    "#Display the training and testing datasets\n",
    "train_df.head()"
   ]
  },
  {
   "cell_type": "code",
   "execution_count": 3,
   "id": "860a30f7",
   "metadata": {
    "execution": {
     "iopub.execute_input": "2022-10-19T12:08:12.647219Z",
     "iopub.status.busy": "2022-10-19T12:08:12.646596Z",
     "iopub.status.idle": "2022-10-19T12:08:12.662464Z",
     "shell.execute_reply": "2022-10-19T12:08:12.661313Z"
    },
    "papermill": {
     "duration": 0.031625,
     "end_time": "2022-10-19T12:08:12.664581",
     "exception": false,
     "start_time": "2022-10-19T12:08:12.632956",
     "status": "completed"
    },
    "tags": []
   },
   "outputs": [
    {
     "data": {
      "text/html": [
       "<div>\n",
       "<style scoped>\n",
       "    .dataframe tbody tr th:only-of-type {\n",
       "        vertical-align: middle;\n",
       "    }\n",
       "\n",
       "    .dataframe tbody tr th {\n",
       "        vertical-align: top;\n",
       "    }\n",
       "\n",
       "    .dataframe thead th {\n",
       "        text-align: right;\n",
       "    }\n",
       "</style>\n",
       "<table border=\"1\" class=\"dataframe\">\n",
       "  <thead>\n",
       "    <tr style=\"text-align: right;\">\n",
       "      <th></th>\n",
       "      <th>PassengerId</th>\n",
       "      <th>Pclass</th>\n",
       "      <th>Name</th>\n",
       "      <th>Sex</th>\n",
       "      <th>Age</th>\n",
       "      <th>SibSp</th>\n",
       "      <th>Parch</th>\n",
       "      <th>Ticket</th>\n",
       "      <th>Fare</th>\n",
       "      <th>Cabin</th>\n",
       "      <th>Embarked</th>\n",
       "    </tr>\n",
       "  </thead>\n",
       "  <tbody>\n",
       "    <tr>\n",
       "      <th>0</th>\n",
       "      <td>892</td>\n",
       "      <td>3</td>\n",
       "      <td>Kelly, Mr. James</td>\n",
       "      <td>male</td>\n",
       "      <td>34.5</td>\n",
       "      <td>0</td>\n",
       "      <td>0</td>\n",
       "      <td>330911</td>\n",
       "      <td>7.8292</td>\n",
       "      <td>NaN</td>\n",
       "      <td>Q</td>\n",
       "    </tr>\n",
       "    <tr>\n",
       "      <th>1</th>\n",
       "      <td>893</td>\n",
       "      <td>3</td>\n",
       "      <td>Wilkes, Mrs. James (Ellen Needs)</td>\n",
       "      <td>female</td>\n",
       "      <td>47.0</td>\n",
       "      <td>1</td>\n",
       "      <td>0</td>\n",
       "      <td>363272</td>\n",
       "      <td>7.0000</td>\n",
       "      <td>NaN</td>\n",
       "      <td>S</td>\n",
       "    </tr>\n",
       "    <tr>\n",
       "      <th>2</th>\n",
       "      <td>894</td>\n",
       "      <td>2</td>\n",
       "      <td>Myles, Mr. Thomas Francis</td>\n",
       "      <td>male</td>\n",
       "      <td>62.0</td>\n",
       "      <td>0</td>\n",
       "      <td>0</td>\n",
       "      <td>240276</td>\n",
       "      <td>9.6875</td>\n",
       "      <td>NaN</td>\n",
       "      <td>Q</td>\n",
       "    </tr>\n",
       "    <tr>\n",
       "      <th>3</th>\n",
       "      <td>895</td>\n",
       "      <td>3</td>\n",
       "      <td>Wirz, Mr. Albert</td>\n",
       "      <td>male</td>\n",
       "      <td>27.0</td>\n",
       "      <td>0</td>\n",
       "      <td>0</td>\n",
       "      <td>315154</td>\n",
       "      <td>8.6625</td>\n",
       "      <td>NaN</td>\n",
       "      <td>S</td>\n",
       "    </tr>\n",
       "    <tr>\n",
       "      <th>4</th>\n",
       "      <td>896</td>\n",
       "      <td>3</td>\n",
       "      <td>Hirvonen, Mrs. Alexander (Helga E Lindqvist)</td>\n",
       "      <td>female</td>\n",
       "      <td>22.0</td>\n",
       "      <td>1</td>\n",
       "      <td>1</td>\n",
       "      <td>3101298</td>\n",
       "      <td>12.2875</td>\n",
       "      <td>NaN</td>\n",
       "      <td>S</td>\n",
       "    </tr>\n",
       "  </tbody>\n",
       "</table>\n",
       "</div>"
      ],
      "text/plain": [
       "   PassengerId  Pclass                                          Name     Sex  \\\n",
       "0          892       3                              Kelly, Mr. James    male   \n",
       "1          893       3              Wilkes, Mrs. James (Ellen Needs)  female   \n",
       "2          894       2                     Myles, Mr. Thomas Francis    male   \n",
       "3          895       3                              Wirz, Mr. Albert    male   \n",
       "4          896       3  Hirvonen, Mrs. Alexander (Helga E Lindqvist)  female   \n",
       "\n",
       "    Age  SibSp  Parch   Ticket     Fare Cabin Embarked  \n",
       "0  34.5      0      0   330911   7.8292   NaN        Q  \n",
       "1  47.0      1      0   363272   7.0000   NaN        S  \n",
       "2  62.0      0      0   240276   9.6875   NaN        Q  \n",
       "3  27.0      0      0   315154   8.6625   NaN        S  \n",
       "4  22.0      1      1  3101298  12.2875   NaN        S  "
      ]
     },
     "execution_count": 3,
     "metadata": {},
     "output_type": "execute_result"
    }
   ],
   "source": [
    "test_df.head()"
   ]
  },
  {
   "cell_type": "markdown",
   "id": "c3c17a7e",
   "metadata": {
    "papermill": {
     "duration": 0.012032,
     "end_time": "2022-10-19T12:08:12.689136",
     "exception": false,
     "start_time": "2022-10-19T12:08:12.677104",
     "status": "completed"
    },
    "tags": []
   },
   "source": [
    "# 2. Handle Missing Values"
   ]
  },
  {
   "cell_type": "code",
   "execution_count": 4,
   "id": "b148aafb",
   "metadata": {
    "execution": {
     "iopub.execute_input": "2022-10-19T12:08:12.715898Z",
     "iopub.status.busy": "2022-10-19T12:08:12.715256Z",
     "iopub.status.idle": "2022-10-19T12:08:12.725037Z",
     "shell.execute_reply": "2022-10-19T12:08:12.723972Z"
    },
    "papermill": {
     "duration": 0.025877,
     "end_time": "2022-10-19T12:08:12.727304",
     "exception": false,
     "start_time": "2022-10-19T12:08:12.701427",
     "status": "completed"
    },
    "tags": []
   },
   "outputs": [
    {
     "data": {
      "text/plain": [
       "PassengerId    False\n",
       "Survived       False\n",
       "Pclass         False\n",
       "Name           False\n",
       "Sex            False\n",
       "Age             True\n",
       "SibSp          False\n",
       "Parch          False\n",
       "Ticket         False\n",
       "Fare           False\n",
       "Cabin           True\n",
       "Embarked        True\n",
       "dtype: bool"
      ]
     },
     "execution_count": 4,
     "metadata": {},
     "output_type": "execute_result"
    }
   ],
   "source": [
    "#Check whether the datasets contain missing values.\n",
    "train_df.isnull().any()"
   ]
  },
  {
   "cell_type": "code",
   "execution_count": 5,
   "id": "e80624de",
   "metadata": {
    "execution": {
     "iopub.execute_input": "2022-10-19T12:08:12.754257Z",
     "iopub.status.busy": "2022-10-19T12:08:12.753867Z",
     "iopub.status.idle": "2022-10-19T12:08:12.763214Z",
     "shell.execute_reply": "2022-10-19T12:08:12.762122Z"
    },
    "papermill": {
     "duration": 0.025699,
     "end_time": "2022-10-19T12:08:12.765614",
     "exception": false,
     "start_time": "2022-10-19T12:08:12.739915",
     "status": "completed"
    },
    "tags": []
   },
   "outputs": [
    {
     "data": {
      "text/plain": [
       "PassengerId    False\n",
       "Pclass         False\n",
       "Name           False\n",
       "Sex            False\n",
       "Age             True\n",
       "SibSp          False\n",
       "Parch          False\n",
       "Ticket         False\n",
       "Fare            True\n",
       "Cabin           True\n",
       "Embarked       False\n",
       "dtype: bool"
      ]
     },
     "execution_count": 5,
     "metadata": {},
     "output_type": "execute_result"
    }
   ],
   "source": [
    "#Check missing values in test_df\n",
    "test_df.isnull().any()"
   ]
  },
  {
   "cell_type": "markdown",
   "id": "4520e2eb",
   "metadata": {
    "papermill": {
     "duration": 0.014524,
     "end_time": "2022-10-19T12:08:12.793368",
     "exception": false,
     "start_time": "2022-10-19T12:08:12.778844",
     "status": "completed"
    },
    "tags": []
   },
   "source": [
    "The training set has missing values in the columns 'Age', 'Cabin', 'Embarked'. The testing set has missing values in the columns 'Age', 'Fare', 'Cabin'. Let's check what are the percentages of missing values in these columns."
   ]
  },
  {
   "cell_type": "code",
   "execution_count": 6,
   "id": "5c29575d",
   "metadata": {
    "execution": {
     "iopub.execute_input": "2022-10-19T12:08:12.821318Z",
     "iopub.status.busy": "2022-10-19T12:08:12.820657Z",
     "iopub.status.idle": "2022-10-19T12:08:12.835522Z",
     "shell.execute_reply": "2022-10-19T12:08:12.834446Z"
    },
    "papermill": {
     "duration": 0.031263,
     "end_time": "2022-10-19T12:08:12.837708",
     "exception": false,
     "start_time": "2022-10-19T12:08:12.806445",
     "status": "completed"
    },
    "tags": []
   },
   "outputs": [
    {
     "data": {
      "text/plain": [
       "Age         19.865320\n",
       "Cabin       77.104377\n",
       "Embarked     0.224467\n",
       "dtype: float64"
      ]
     },
     "execution_count": 6,
     "metadata": {},
     "output_type": "execute_result"
    }
   ],
   "source": [
    "train_df[['Age','Cabin','Embarked']].isnull().sum() * 100 / len(train_df)"
   ]
  },
  {
   "cell_type": "code",
   "execution_count": 7,
   "id": "7a1fcb5d",
   "metadata": {
    "execution": {
     "iopub.execute_input": "2022-10-19T12:08:12.865280Z",
     "iopub.status.busy": "2022-10-19T12:08:12.864632Z",
     "iopub.status.idle": "2022-10-19T12:08:12.874233Z",
     "shell.execute_reply": "2022-10-19T12:08:12.873183Z"
    },
    "papermill": {
     "duration": 0.025939,
     "end_time": "2022-10-19T12:08:12.876413",
     "exception": false,
     "start_time": "2022-10-19T12:08:12.850474",
     "status": "completed"
    },
    "tags": []
   },
   "outputs": [
    {
     "data": {
      "text/plain": [
       "Age         20.574163\n",
       "Cabin       78.229665\n",
       "Embarked     0.000000\n",
       "dtype: float64"
      ]
     },
     "execution_count": 7,
     "metadata": {},
     "output_type": "execute_result"
    }
   ],
   "source": [
    "test_df[['Age','Cabin','Embarked']].isnull().sum() * 100 / len(test_df)"
   ]
  },
  {
   "cell_type": "markdown",
   "id": "962027b1",
   "metadata": {
    "papermill": {
     "duration": 0.01277,
     "end_time": "2022-10-19T12:08:12.902103",
     "exception": false,
     "start_time": "2022-10-19T12:08:12.889333",
     "status": "completed"
    },
    "tags": []
   },
   "source": [
    "In both datasets, more than 77% of the values in the 'Cabin' columns are missing, *so I will drop 'Cabin' in the data cleaning step.* In the remainder of this section, I fill in the missing values in 'Age', 'Embarked' and 'Fare' in the respective dataset.\n"
   ]
  },
  {
   "cell_type": "code",
   "execution_count": 8,
   "id": "685dfc77",
   "metadata": {
    "execution": {
     "iopub.execute_input": "2022-10-19T12:08:12.929730Z",
     "iopub.status.busy": "2022-10-19T12:08:12.929312Z",
     "iopub.status.idle": "2022-10-19T12:08:12.945122Z",
     "shell.execute_reply": "2022-10-19T12:08:12.944151Z"
    },
    "papermill": {
     "duration": 0.032326,
     "end_time": "2022-10-19T12:08:12.947512",
     "exception": false,
     "start_time": "2022-10-19T12:08:12.915186",
     "status": "completed"
    },
    "tags": []
   },
   "outputs": [],
   "source": [
    "#1. Fill in missing 'Age' using random values based on the distribution of 'Age'\n",
    "all_df = [train_df, test_df]\n",
    "for data in all_df:\n",
    "    mean = data['Age'].mean()\n",
    "    std = data['Age'].std()\n",
    "    is_null = data['Age'].isnull().sum()\n",
    "    rand_age = np.random.randint(mean - std, mean + std, size = is_null)\n",
    "\n",
    "    age = data['Age'].copy()\n",
    "    age[np.isnan(age)] = rand_age\n",
    "    data['Age'] = age\n",
    "    data['Age'] = data['Age'].astype(int)"
   ]
  },
  {
   "cell_type": "code",
   "execution_count": 9,
   "id": "285a9122",
   "metadata": {
    "execution": {
     "iopub.execute_input": "2022-10-19T12:08:12.975970Z",
     "iopub.status.busy": "2022-10-19T12:08:12.975475Z",
     "iopub.status.idle": "2022-10-19T12:08:12.984025Z",
     "shell.execute_reply": "2022-10-19T12:08:12.982824Z"
    },
    "papermill": {
     "duration": 0.025612,
     "end_time": "2022-10-19T12:08:12.986523",
     "exception": false,
     "start_time": "2022-10-19T12:08:12.960911",
     "status": "completed"
    },
    "tags": []
   },
   "outputs": [],
   "source": [
    "#For train_df, fill in missing 'Embarked' using mode\n",
    "train_df['Embarked'] = train_df['Embarked'].fillna(train_df['Embarked'].mode()[0])"
   ]
  },
  {
   "cell_type": "markdown",
   "id": "63211025",
   "metadata": {
    "papermill": {
     "duration": 0.0126,
     "end_time": "2022-10-19T12:08:13.012646",
     "exception": false,
     "start_time": "2022-10-19T12:08:13.000046",
     "status": "completed"
    },
    "tags": []
   },
   "source": [
    "Since 'Fare' may be correlated with 'Pclass', we will deal with it in Section 3.f Fares."
   ]
  },
  {
   "cell_type": "markdown",
   "id": "5719c6ea",
   "metadata": {
    "papermill": {
     "duration": 0.012946,
     "end_time": "2022-10-19T12:08:13.039183",
     "exception": false,
     "start_time": "2022-10-19T12:08:13.026237",
     "status": "completed"
    },
    "tags": []
   },
   "source": [
    "# 3. Feature Engineering\n",
    "\n",
    "In this step, I will check whether the other columns are correlated to the passenger's survival.\n",
    "\n",
    "## a. Pclass"
   ]
  },
  {
   "cell_type": "code",
   "execution_count": 10,
   "id": "54f29177",
   "metadata": {
    "execution": {
     "iopub.execute_input": "2022-10-19T12:08:13.067347Z",
     "iopub.status.busy": "2022-10-19T12:08:13.066503Z",
     "iopub.status.idle": "2022-10-19T12:08:13.326375Z",
     "shell.execute_reply": "2022-10-19T12:08:13.325181Z"
    },
    "papermill": {
     "duration": 0.276593,
     "end_time": "2022-10-19T12:08:13.328667",
     "exception": false,
     "start_time": "2022-10-19T12:08:13.052074",
     "status": "completed"
    },
    "tags": []
   },
   "outputs": [
    {
     "data": {
      "image/png": "[encoded data removed]",
      "text/plain": [
       "<Figure size 640x480 with 1 Axes>"
      ]
     },
     "metadata": {},
     "output_type": "display_data"
    }
   ],
   "source": [
    "train_df[['Pclass', 'Survived']].groupby('Pclass').mean().plot(kind='bar');"
   ]
  },
  {
   "cell_type": "markdown",
   "id": "ac0ea628",
   "metadata": {
    "papermill": {
     "duration": 0.012952,
     "end_time": "2022-10-19T12:08:13.355278",
     "exception": false,
     "start_time": "2022-10-19T12:08:13.342326",
     "status": "completed"
    },
    "tags": []
   },
   "source": [
    "## b. Sex"
   ]
  },
  {
   "cell_type": "code",
   "execution_count": 11,
   "id": "3a1d7a78",
   "metadata": {
    "execution": {
     "iopub.execute_input": "2022-10-19T12:08:13.386318Z",
     "iopub.status.busy": "2022-10-19T12:08:13.385906Z",
     "iopub.status.idle": "2022-10-19T12:08:13.599473Z",
     "shell.execute_reply": "2022-10-19T12:08:13.598362Z"
    },
    "papermill": {
     "duration": 0.233127,
     "end_time": "2022-10-19T12:08:13.602222",
     "exception": false,
     "start_time": "2022-10-19T12:08:13.369095",
     "status": "completed"
    },
    "tags": []
   },
   "outputs": [
    {
     "data": {
      "image/png": "[encoded data removed]",
      "text/plain": [
       "<Figure size 640x480 with 1 Axes>"
      ]
     },
     "metadata": {},
     "output_type": "display_data"
    }
   ],
   "source": [
    "train_df[['Sex', 'Survived']].groupby('Sex').mean().plot(kind='bar');"
   ]
  },
  {
   "cell_type": "markdown",
   "id": "849a5a1a",
   "metadata": {
    "papermill": {
     "duration": 0.012901,
     "end_time": "2022-10-19T12:08:13.628618",
     "exception": false,
     "start_time": "2022-10-19T12:08:13.615717",
     "status": "completed"
    },
    "tags": []
   },
   "source": [
    "## b. Name"
   ]
  },
  {
   "cell_type": "markdown",
   "id": "17acfca5",
   "metadata": {
    "papermill": {
     "duration": 0.012762,
     "end_time": "2022-10-19T12:08:13.654492",
     "exception": false,
     "start_time": "2022-10-19T12:08:13.641730",
     "status": "completed"
    },
    "tags": []
   },
   "source": [
    "A quick glance over the first 5 rows in the datasets shows that the 'Name' columns also contain passenger titles, so we check whether the titles have impacts the survival."
   ]
  },
  {
   "cell_type": "code",
   "execution_count": 12,
   "id": "c33503ff",
   "metadata": {
    "execution": {
     "iopub.execute_input": "2022-10-19T12:08:13.683380Z",
     "iopub.status.busy": "2022-10-19T12:08:13.682293Z",
     "iopub.status.idle": "2022-10-19T12:08:13.696579Z",
     "shell.execute_reply": "2022-10-19T12:08:13.695714Z"
    },
    "papermill": {
     "duration": 0.03161,
     "end_time": "2022-10-19T12:08:13.699244",
     "exception": false,
     "start_time": "2022-10-19T12:08:13.667634",
     "status": "completed"
    },
    "tags": []
   },
   "outputs": [],
   "source": [
    "#Use regex to extract title \n",
    "def get_title(name):\n",
    "    find_title = re.search('([A-Z][a-z]+)\\.', name)\n",
    "    if find_title:\n",
    "        return find_title.group(1)\n",
    "    else:\n",
    "        return ''\n",
    "\n",
    "#Replace 'Name' column by 'Title' column.\n",
    "train_df['Title'] = train_df['Name'].apply(get_title)\n",
    "train_df = train_df.drop('Name', axis = 1)\n",
    "test_df['Title'] = test_df['Name'].apply(get_title)\n",
    "test_df = test_df.drop('Name', axis = 1)\n"
   ]
  },
  {
   "cell_type": "code",
   "execution_count": 13,
   "id": "ade16c8a",
   "metadata": {
    "execution": {
     "iopub.execute_input": "2022-10-19T12:08:13.728045Z",
     "iopub.status.busy": "2022-10-19T12:08:13.727156Z",
     "iopub.status.idle": "2022-10-19T12:08:13.739659Z",
     "shell.execute_reply": "2022-10-19T12:08:13.738648Z"
    },
    "papermill": {
     "duration": 0.02929,
     "end_time": "2022-10-19T12:08:13.741937",
     "exception": false,
     "start_time": "2022-10-19T12:08:13.712647",
     "status": "completed"
    },
    "tags": []
   },
   "outputs": [
    {
     "data": {
      "text/plain": [
       "Title     Sex   \n",
       "Mr        male      517\n",
       "Miss      female    182\n",
       "Mrs       female    125\n",
       "Master    male       40\n",
       "Rev       male        6\n",
       "Dr        male        6\n",
       "Mlle      female      2\n",
       "Major     male        2\n",
       "Col       male        2\n",
       "Ms        female      1\n",
       "Mme       female      1\n",
       "Capt      male        1\n",
       "Lady      female      1\n",
       "Jonkheer  male        1\n",
       "Dr        female      1\n",
       "Don       male        1\n",
       "Countess  female      1\n",
       "Sir       male        1\n",
       "dtype: int64"
      ]
     },
     "execution_count": 13,
     "metadata": {},
     "output_type": "execute_result"
    }
   ],
   "source": [
    "train_df[['Title','Sex']].value_counts()"
   ]
  },
  {
   "cell_type": "code",
   "execution_count": 14,
   "id": "b71850b7",
   "metadata": {
    "execution": {
     "iopub.execute_input": "2022-10-19T12:08:13.770809Z",
     "iopub.status.busy": "2022-10-19T12:08:13.770288Z",
     "iopub.status.idle": "2022-10-19T12:08:14.091587Z",
     "shell.execute_reply": "2022-10-19T12:08:14.090719Z"
    },
    "papermill": {
     "duration": 0.338238,
     "end_time": "2022-10-19T12:08:14.093674",
     "exception": false,
     "start_time": "2022-10-19T12:08:13.755436",
     "status": "completed"
    },
    "tags": []
   },
   "outputs": [
    {
     "data": {
      "image/png": "[encoded data removed]",
      "text/plain": [
       "<Figure size 640x480 with 1 Axes>"
      ]
     },
     "metadata": {},
     "output_type": "display_data"
    }
   ],
   "source": [
    "train_df[['Title', 'Survived']].groupby('Title').mean().plot(kind='bar');"
   ]
  },
  {
   "cell_type": "code",
   "execution_count": 15,
   "id": "7ddf7170",
   "metadata": {
    "execution": {
     "iopub.execute_input": "2022-10-19T12:08:14.123980Z",
     "iopub.status.busy": "2022-10-19T12:08:14.123268Z",
     "iopub.status.idle": "2022-10-19T12:08:14.133201Z",
     "shell.execute_reply": "2022-10-19T12:08:14.132428Z"
    },
    "papermill": {
     "duration": 0.027088,
     "end_time": "2022-10-19T12:08:14.135132",
     "exception": false,
     "start_time": "2022-10-19T12:08:14.108044",
     "status": "completed"
    },
    "tags": []
   },
   "outputs": [
    {
     "data": {
      "text/plain": [
       "Title   Sex   \n",
       "Mr      male      240\n",
       "Miss    female     78\n",
       "Mrs     female     72\n",
       "Master  male       21\n",
       "Col     male        2\n",
       "Rev     male        2\n",
       "Dona    female      1\n",
       "Dr      male        1\n",
       "Ms      female      1\n",
       "dtype: int64"
      ]
     },
     "execution_count": 15,
     "metadata": {},
     "output_type": "execute_result"
    }
   ],
   "source": [
    "test_df[['Title','Sex']].value_counts()"
   ]
  },
  {
   "cell_type": "markdown",
   "id": "af95fad2",
   "metadata": {
    "papermill": {
     "duration": 0.013411,
     "end_time": "2022-10-19T12:08:14.162508",
     "exception": false,
     "start_time": "2022-10-19T12:08:14.149097",
     "status": "completed"
    },
    "tags": []
   },
   "source": [
    "We replace titles by their respect mean survival rate."
   ]
  },
  {
   "cell_type": "code",
   "execution_count": 16,
   "id": "2383e92f",
   "metadata": {
    "execution": {
     "iopub.execute_input": "2022-10-19T12:08:14.192921Z",
     "iopub.status.busy": "2022-10-19T12:08:14.192239Z",
     "iopub.status.idle": "2022-10-19T12:08:14.200327Z",
     "shell.execute_reply": "2022-10-19T12:08:14.199058Z"
    },
    "papermill": {
     "duration": 0.025953,
     "end_time": "2022-10-19T12:08:14.202772",
     "exception": false,
     "start_time": "2022-10-19T12:08:14.176819",
     "status": "completed"
    },
    "tags": []
   },
   "outputs": [],
   "source": [
    "title_df = train_df[['Title', 'Survived']].groupby('Title').mean()"
   ]
  },
  {
   "cell_type": "code",
   "execution_count": 17,
   "id": "9951478a",
   "metadata": {
    "execution": {
     "iopub.execute_input": "2022-10-19T12:08:14.232603Z",
     "iopub.status.busy": "2022-10-19T12:08:14.232165Z",
     "iopub.status.idle": "2022-10-19T12:08:14.246551Z",
     "shell.execute_reply": "2022-10-19T12:08:14.245788Z"
    },
    "papermill": {
     "duration": 0.031896,
     "end_time": "2022-10-19T12:08:14.248643",
     "exception": false,
     "start_time": "2022-10-19T12:08:14.216747",
     "status": "completed"
    },
    "tags": []
   },
   "outputs": [],
   "source": [
    "title_dict = {}\n",
    "for i in range(len(list(title_df.index))):\n",
    "    title_dict[list(title_df.index)[i]] = title_df.iloc[i,0]\n",
    "title_dict['Dona']=0\n",
    "\n",
    "all_df = [train_df, test_df]\n",
    "for data in all_df:\n",
    "    data['Title']=data['Title'].replace(title_dict)"
   ]
  },
  {
   "cell_type": "markdown",
   "id": "9c7e3fd2",
   "metadata": {
    "papermill": {
     "duration": 0.014512,
     "end_time": "2022-10-19T12:08:14.277112",
     "exception": false,
     "start_time": "2022-10-19T12:08:14.262600",
     "status": "completed"
    },
    "tags": []
   },
   "source": [
    "## d. SibSp"
   ]
  },
  {
   "cell_type": "code",
   "execution_count": 18,
   "id": "7a66753e",
   "metadata": {
    "execution": {
     "iopub.execute_input": "2022-10-19T12:08:14.313147Z",
     "iopub.status.busy": "2022-10-19T12:08:14.311956Z",
     "iopub.status.idle": "2022-10-19T12:08:14.544899Z",
     "shell.execute_reply": "2022-10-19T12:08:14.543763Z"
    },
    "papermill": {
     "duration": 0.254836,
     "end_time": "2022-10-19T12:08:14.547222",
     "exception": false,
     "start_time": "2022-10-19T12:08:14.292386",
     "status": "completed"
    },
    "tags": []
   },
   "outputs": [
    {
     "data": {
      "image/png": "[encoded data removed]",
      "text/plain": [
       "<Figure size 640x480 with 1 Axes>"
      ]
     },
     "metadata": {},
     "output_type": "display_data"
    }
   ],
   "source": [
    "train_df[['SibSp', 'Survived']].groupby('SibSp').mean().plot(kind='bar');"
   ]
  },
  {
   "cell_type": "markdown",
   "id": "feb514c6",
   "metadata": {
    "papermill": {
     "duration": 0.013801,
     "end_time": "2022-10-19T12:08:14.575320",
     "exception": false,
     "start_time": "2022-10-19T12:08:14.561519",
     "status": "completed"
    },
    "tags": []
   },
   "source": [
    "## e. Parch"
   ]
  },
  {
   "cell_type": "code",
   "execution_count": 19,
   "id": "aced0c4f",
   "metadata": {
    "execution": {
     "iopub.execute_input": "2022-10-19T12:08:14.605691Z",
     "iopub.status.busy": "2022-10-19T12:08:14.605271Z",
     "iopub.status.idle": "2022-10-19T12:08:14.847253Z",
     "shell.execute_reply": "2022-10-19T12:08:14.846480Z"
    },
    "papermill": {
     "duration": 0.25996,
     "end_time": "2022-10-19T12:08:14.849414",
     "exception": false,
     "start_time": "2022-10-19T12:08:14.589454",
     "status": "completed"
    },
    "tags": []
   },
   "outputs": [
    {
     "data": {
      "image/png": "[encoded data removed]",
      "text/plain": [
       "<Figure size 640x480 with 1 Axes>"
      ]
     },
     "metadata": {},
     "output_type": "display_data"
    }
   ],
   "source": [
    "train_df[['Parch', 'Survived']].groupby('Parch').mean().plot(kind='bar');"
   ]
  },
  {
   "cell_type": "markdown",
   "id": "a962a3a8",
   "metadata": {
    "papermill": {
     "duration": 0.015316,
     "end_time": "2022-10-19T12:08:14.879230",
     "exception": false,
     "start_time": "2022-10-19T12:08:14.863914",
     "status": "completed"
    },
    "tags": []
   },
   "source": [
    "## f. Fare"
   ]
  },
  {
   "cell_type": "markdown",
   "id": "14de331e",
   "metadata": {
    "papermill": {
     "duration": 0.014613,
     "end_time": "2022-10-19T12:08:14.908281",
     "exception": false,
     "start_time": "2022-10-19T12:08:14.893668",
     "status": "completed"
    },
    "tags": []
   },
   "source": [
    "First, we check whether Fare is correlated with Pclass."
   ]
  },
  {
   "cell_type": "code",
   "execution_count": 20,
   "id": "f1bbd44b",
   "metadata": {
    "execution": {
     "iopub.execute_input": "2022-10-19T12:08:14.938975Z",
     "iopub.status.busy": "2022-10-19T12:08:14.938295Z",
     "iopub.status.idle": "2022-10-19T12:08:15.264797Z",
     "shell.execute_reply": "2022-10-19T12:08:15.263564Z"
    },
    "papermill": {
     "duration": 0.344757,
     "end_time": "2022-10-19T12:08:15.267354",
     "exception": false,
     "start_time": "2022-10-19T12:08:14.922597",
     "status": "completed"
    },
    "tags": []
   },
   "outputs": [
    {
     "data": {
      "image/png": "[encoded data removed]",
      "text/plain": [
       "<Figure size 640x480 with 1 Axes>"
      ]
     },
     "metadata": {},
     "output_type": "display_data"
    }
   ],
   "source": [
    "fig = plt.figure()\n",
    "ax = plt.subplot(111)\n",
    "for i in range(1,4):\n",
    "    ax.boxplot(train_df.loc[(train_df['Pclass']==i)][['Fare']], positions = [i])"
   ]
  },
  {
   "cell_type": "code",
   "execution_count": 21,
   "id": "d1ae8475",
   "metadata": {
    "execution": {
     "iopub.execute_input": "2022-10-19T12:08:15.297766Z",
     "iopub.status.busy": "2022-10-19T12:08:15.297383Z",
     "iopub.status.idle": "2022-10-19T12:08:15.315703Z",
     "shell.execute_reply": "2022-10-19T12:08:15.314562Z"
    },
    "papermill": {
     "duration": 0.036763,
     "end_time": "2022-10-19T12:08:15.318526",
     "exception": false,
     "start_time": "2022-10-19T12:08:15.281763",
     "status": "completed"
    },
    "tags": []
   },
   "outputs": [
    {
     "name": "stdout",
     "output_type": "stream",
     "text": [
      "Fare    False\n",
      "dtype: bool\n",
      "Fare    False\n",
      "dtype: bool\n",
      "Fare    True\n",
      "dtype: bool\n"
     ]
    },
    {
     "data": {
      "text/plain": [
       "1"
      ]
     },
     "execution_count": 21,
     "metadata": {},
     "output_type": "execute_result"
    }
   ],
   "source": [
    "for i in range(1,4):\n",
    "    print(test_df.loc[(test_df['Pclass']==i)][['Fare']].isnull().any())\n",
    "test_df[\"Fare\"].isnull().sum()"
   ]
  },
  {
   "cell_type": "markdown",
   "id": "592e84eb",
   "metadata": {
    "papermill": {
     "duration": 0.014305,
     "end_time": "2022-10-19T12:08:15.347209",
     "exception": false,
     "start_time": "2022-10-19T12:08:15.332904",
     "status": "completed"
    },
    "tags": []
   },
   "source": [
    "Indeed, there seems to be a correlation between Fare and Pclass. Moreover, the only missing value in 'Fare' shows up when 'Pclass' is 3. So we replace the missing value by the mean fare prices for Pclass == 3."
   ]
  },
  {
   "cell_type": "code",
   "execution_count": 22,
   "id": "dec2255d",
   "metadata": {
    "execution": {
     "iopub.execute_input": "2022-10-19T12:08:15.377992Z",
     "iopub.status.busy": "2022-10-19T12:08:15.377571Z",
     "iopub.status.idle": "2022-10-19T12:08:15.385927Z",
     "shell.execute_reply": "2022-10-19T12:08:15.385040Z"
    },
    "papermill": {
     "duration": 0.026578,
     "end_time": "2022-10-19T12:08:15.388342",
     "exception": false,
     "start_time": "2022-10-19T12:08:15.361764",
     "status": "completed"
    },
    "tags": []
   },
   "outputs": [],
   "source": [
    "mean = test_df.loc[(test_df['Pclass']==3)][['Fare']].mean()[0]\n",
    "test_df['Fare'] = test_df['Fare'].fillna(value=mean)"
   ]
  },
  {
   "cell_type": "markdown",
   "id": "8c21b71f",
   "metadata": {
    "papermill": {
     "duration": 0.014263,
     "end_time": "2022-10-19T12:08:15.418572",
     "exception": false,
     "start_time": "2022-10-19T12:08:15.404309",
     "status": "completed"
    },
    "tags": []
   },
   "source": [
    "## g. Embarked\n",
    "Note that we have already filled in the missing values in this column. So we check the mean survival rate on the original data and the modified data respectively."
   ]
  },
  {
   "cell_type": "code",
   "execution_count": 23,
   "id": "141b8c43",
   "metadata": {
    "execution": {
     "iopub.execute_input": "2022-10-19T12:08:15.449328Z",
     "iopub.status.busy": "2022-10-19T12:08:15.448931Z",
     "iopub.status.idle": "2022-10-19T12:08:15.658317Z",
     "shell.execute_reply": "2022-10-19T12:08:15.657241Z"
    },
    "papermill": {
     "duration": 0.227813,
     "end_time": "2022-10-19T12:08:15.660881",
     "exception": false,
     "start_time": "2022-10-19T12:08:15.433068",
     "status": "completed"
    },
    "tags": []
   },
   "outputs": [
    {
     "data": {
      "text/plain": [
       "<AxesSubplot:xlabel='Embarked'>"
      ]
     },
     "execution_count": 23,
     "metadata": {},
     "output_type": "execute_result"
    },
    {
     "data": {
      "image/png": "[encoded data removed]",
      "text/plain": [
       "<Figure size 640x480 with 1 Axes>"
      ]
     },
     "metadata": {},
     "output_type": "display_data"
    }
   ],
   "source": [
    "pd.read_csv('data-4/train.csv')[['Embarked', 'Survived']].groupby('Embarked').mean().plot(kind='bar')"
   ]
  },
  {
   "cell_type": "code",
   "execution_count": 24,
   "id": "0b58aff9",
   "metadata": {
    "execution": {
     "iopub.execute_input": "2022-10-19T12:08:15.693688Z",
     "iopub.status.busy": "2022-10-19T12:08:15.693267Z",
     "iopub.status.idle": "2022-10-19T12:08:15.909262Z",
     "shell.execute_reply": "2022-10-19T12:08:15.907925Z"
    },
    "papermill": {
     "duration": 0.235487,
     "end_time": "2022-10-19T12:08:15.911742",
     "exception": false,
     "start_time": "2022-10-19T12:08:15.676255",
     "status": "completed"
    },
    "tags": []
   },
   "outputs": [
    {
     "data": {
      "text/plain": [
       "<AxesSubplot:xlabel='Embarked'>"
      ]
     },
     "execution_count": 24,
     "metadata": {},
     "output_type": "execute_result"
    },
    {
     "data": {
      "image/png": "[encoded data removed]",
      "text/plain": [
       "<Figure size 640x480 with 1 Axes>"
      ]
     },
     "metadata": {},
     "output_type": "display_data"
    }
   ],
   "source": [
    "train_df[['Embarked', 'Survived']].groupby('Embarked').mean().plot(kind='bar')"
   ]
  },
  {
   "cell_type": "markdown",
   "id": "d30c0ba1",
   "metadata": {
    "papermill": {
     "duration": 0.017601,
     "end_time": "2022-10-19T12:08:15.950501",
     "exception": false,
     "start_time": "2022-10-19T12:08:15.932900",
     "status": "completed"
    },
    "tags": []
   },
   "source": [
    "There's no significant difference. It seems to have been a good idea to fill in the missing values by the mode."
   ]
  },
  {
   "cell_type": "markdown",
   "id": "17957d7d",
   "metadata": {
    "papermill": {
     "duration": 0.019727,
     "end_time": "2022-10-19T12:08:15.991755",
     "exception": false,
     "start_time": "2022-10-19T12:08:15.972028",
     "status": "completed"
    },
    "tags": []
   },
   "source": [
    "# 3. Data Cleaning"
   ]
  },
  {
   "cell_type": "markdown",
   "id": "5947c77f",
   "metadata": {
    "papermill": {
     "duration": 0.014931,
     "end_time": "2022-10-19T12:08:16.023694",
     "exception": false,
     "start_time": "2022-10-19T12:08:16.008763",
     "status": "completed"
    },
    "tags": []
   },
   "source": [
    "Now we are ready to drop the unnecessary columns: 'PassengerId', 'Ticket', 'Cabin'."
   ]
  },
  {
   "cell_type": "code",
   "execution_count": 25,
   "id": "a88d66e4",
   "metadata": {
    "execution": {
     "iopub.execute_input": "2022-10-19T12:08:16.055589Z",
     "iopub.status.busy": "2022-10-19T12:08:16.055181Z",
     "iopub.status.idle": "2022-10-19T12:08:16.071805Z",
     "shell.execute_reply": "2022-10-19T12:08:16.070769Z"
    },
    "papermill": {
     "duration": 0.035243,
     "end_time": "2022-10-19T12:08:16.073975",
     "exception": false,
     "start_time": "2022-10-19T12:08:16.038732",
     "status": "completed"
    },
    "tags": []
   },
   "outputs": [
    {
     "data": {
      "text/html": [
       "<div>\n",
       "<style scoped>\n",
       "    .dataframe tbody tr th:only-of-type {\n",
       "        vertical-align: middle;\n",
       "    }\n",
       "\n",
       "    .dataframe tbody tr th {\n",
       "        vertical-align: top;\n",
       "    }\n",
       "\n",
       "    .dataframe thead th {\n",
       "        text-align: right;\n",
       "    }\n",
       "</style>\n",
       "<table border=\"1\" class=\"dataframe\">\n",
       "  <thead>\n",
       "    <tr style=\"text-align: right;\">\n",
       "      <th></th>\n",
       "      <th>Survived</th>\n",
       "      <th>Pclass</th>\n",
       "      <th>Sex</th>\n",
       "      <th>Age</th>\n",
       "      <th>SibSp</th>\n",
       "      <th>Parch</th>\n",
       "      <th>Fare</th>\n",
       "      <th>Embarked</th>\n",
       "      <th>Title</th>\n",
       "    </tr>\n",
       "  </thead>\n",
       "  <tbody>\n",
       "    <tr>\n",
       "      <th>0</th>\n",
       "      <td>0</td>\n",
       "      <td>3</td>\n",
       "      <td>male</td>\n",
       "      <td>22</td>\n",
       "      <td>1</td>\n",
       "      <td>0</td>\n",
       "      <td>7.2500</td>\n",
       "      <td>S</td>\n",
       "      <td>0.156673</td>\n",
       "    </tr>\n",
       "    <tr>\n",
       "      <th>1</th>\n",
       "      <td>1</td>\n",
       "      <td>1</td>\n",
       "      <td>female</td>\n",
       "      <td>38</td>\n",
       "      <td>1</td>\n",
       "      <td>0</td>\n",
       "      <td>71.2833</td>\n",
       "      <td>C</td>\n",
       "      <td>0.792000</td>\n",
       "    </tr>\n",
       "    <tr>\n",
       "      <th>2</th>\n",
       "      <td>1</td>\n",
       "      <td>3</td>\n",
       "      <td>female</td>\n",
       "      <td>26</td>\n",
       "      <td>0</td>\n",
       "      <td>0</td>\n",
       "      <td>7.9250</td>\n",
       "      <td>S</td>\n",
       "      <td>0.697802</td>\n",
       "    </tr>\n",
       "    <tr>\n",
       "      <th>3</th>\n",
       "      <td>1</td>\n",
       "      <td>1</td>\n",
       "      <td>female</td>\n",
       "      <td>35</td>\n",
       "      <td>1</td>\n",
       "      <td>0</td>\n",
       "      <td>53.1000</td>\n",
       "      <td>S</td>\n",
       "      <td>0.792000</td>\n",
       "    </tr>\n",
       "    <tr>\n",
       "      <th>4</th>\n",
       "      <td>0</td>\n",
       "      <td>3</td>\n",
       "      <td>male</td>\n",
       "      <td>35</td>\n",
       "      <td>0</td>\n",
       "      <td>0</td>\n",
       "      <td>8.0500</td>\n",
       "      <td>S</td>\n",
       "      <td>0.156673</td>\n",
       "    </tr>\n",
       "  </tbody>\n",
       "</table>\n",
       "</div>"
      ],
      "text/plain": [
       "   Survived  Pclass     Sex  Age  SibSp  Parch     Fare Embarked     Title\n",
       "0         0       3    male   22      1      0   7.2500        S  0.156673\n",
       "1         1       1  female   38      1      0  71.2833        C  0.792000\n",
       "2         1       3  female   26      0      0   7.9250        S  0.697802\n",
       "3         1       1  female   35      1      0  53.1000        S  0.792000\n",
       "4         0       3    male   35      0      0   8.0500        S  0.156673"
      ]
     },
     "execution_count": 25,
     "metadata": {},
     "output_type": "execute_result"
    }
   ],
   "source": [
    "train_df = train_df.drop(['PassengerId','Ticket','Cabin'], axis=1)\n",
    "test_df = test_df.drop(['PassengerId','Ticket','Cabin'], axis=1)\n",
    "train_df.head()"
   ]
  },
  {
   "cell_type": "markdown",
   "id": "d3695851",
   "metadata": {
    "papermill": {
     "duration": 0.014952,
     "end_time": "2022-10-19T12:08:16.104419",
     "exception": false,
     "start_time": "2022-10-19T12:08:16.089467",
     "status": "completed"
    },
    "tags": []
   },
   "source": [
    "Finally, let's encode the categorical data."
   ]
  },
  {
   "cell_type": "code",
   "execution_count": 26,
   "id": "f0e3fbe0",
   "metadata": {
    "execution": {
     "iopub.execute_input": "2022-10-19T12:08:16.136810Z",
     "iopub.status.busy": "2022-10-19T12:08:16.136146Z",
     "iopub.status.idle": "2022-10-19T12:08:16.145614Z",
     "shell.execute_reply": "2022-10-19T12:08:16.144849Z"
    },
    "papermill": {
     "duration": 0.028003,
     "end_time": "2022-10-19T12:08:16.147655",
     "exception": false,
     "start_time": "2022-10-19T12:08:16.119652",
     "status": "completed"
    },
    "tags": []
   },
   "outputs": [],
   "source": [
    "#Encode categorical data\n",
    "train_df['Embarked'] = train_df['Embarked'].astype('category').cat.codes\n",
    "test_df['Embarked'] = test_df['Embarked'].astype('category').cat.codes\n",
    "train_df['Sex'] = train_df['Sex'].astype('category').cat.codes\n",
    "test_df['Sex'] = test_df['Sex'].astype('category').cat.codes"
   ]
  },
  {
   "cell_type": "markdown",
   "id": "8f375a65",
   "metadata": {
    "papermill": {
     "duration": 0.014944,
     "end_time": "2022-10-19T12:08:16.178092",
     "exception": false,
     "start_time": "2022-10-19T12:08:16.163148",
     "status": "completed"
    },
    "tags": []
   },
   "source": [
    "# 4a. Prediction using SVM (not submitted)"
   ]
  },
  {
   "cell_type": "code",
   "execution_count": 27,
   "id": "a9ca28b0",
   "metadata": {
    "execution": {
     "iopub.execute_input": "2022-10-19T12:08:16.210564Z",
     "iopub.status.busy": "2022-10-19T12:08:16.210111Z",
     "iopub.status.idle": "2022-10-19T12:08:16.217791Z",
     "shell.execute_reply": "2022-10-19T12:08:16.216641Z"
    },
    "papermill": {
     "duration": 0.026608,
     "end_time": "2022-10-19T12:08:16.220058",
     "exception": false,
     "start_time": "2022-10-19T12:08:16.193450",
     "status": "completed"
    },
    "tags": []
   },
   "outputs": [],
   "source": [
    "X_train = train_df.drop(\"Survived\", axis=1)\n",
    "y_train = train_df[\"Survived\"]\n",
    "X_test  = test_df"
   ]
  },
  {
   "cell_type": "code",
   "execution_count": 28,
   "id": "d337febc",
   "metadata": {
    "execution": {
     "iopub.execute_input": "2022-10-19T12:08:16.252553Z",
     "iopub.status.busy": "2022-10-19T12:08:16.252117Z",
     "iopub.status.idle": "2022-10-19T12:08:17.058529Z",
     "shell.execute_reply": "2022-10-19T12:08:17.057232Z"
    },
    "papermill": {
     "duration": 0.826015,
     "end_time": "2022-10-19T12:08:17.061508",
     "exception": false,
     "start_time": "2022-10-19T12:08:16.235493",
     "status": "completed"
    },
    "tags": []
   },
   "outputs": [],
   "source": [
    "#Feature Scaling\n",
    "from sklearn.preprocessing import StandardScaler\n",
    "sc = StandardScaler()\n",
    "X_train = sc.fit_transform(X_train)\n",
    "X_test = sc.transform(X_test)"
   ]
  },
  {
   "cell_type": "code",
   "execution_count": 29,
   "id": "79877d69",
   "metadata": {
    "execution": {
     "iopub.execute_input": "2022-10-19T12:08:17.094500Z",
     "iopub.status.busy": "2022-10-19T12:08:17.093861Z",
     "iopub.status.idle": "2022-10-19T12:08:17.257849Z",
     "shell.execute_reply": "2022-10-19T12:08:17.256700Z"
    },
    "papermill": {
     "duration": 0.183464,
     "end_time": "2022-10-19T12:08:17.260500",
     "exception": false,
     "start_time": "2022-10-19T12:08:17.077036",
     "status": "completed"
    },
    "tags": []
   },
   "outputs": [],
   "source": [
    "#Train model using SVM\n",
    "from sklearn.svm import SVC\n",
    "model = SVC()\n",
    "model.fit(X_train, y_train) \n",
    "y_pred = model.predict(X_test)"
   ]
  },
  {
   "cell_type": "code",
   "execution_count": 30,
   "id": "8924be91",
   "metadata": {
    "execution": {
     "iopub.execute_input": "2022-10-19T12:08:17.293034Z",
     "iopub.status.busy": "2022-10-19T12:08:17.292611Z",
     "iopub.status.idle": "2022-10-19T12:08:17.320720Z",
     "shell.execute_reply": "2022-10-19T12:08:17.319635Z"
    },
    "papermill": {
     "duration": 0.047012,
     "end_time": "2022-10-19T12:08:17.322917",
     "exception": false,
     "start_time": "2022-10-19T12:08:17.275905",
     "status": "completed"
    },
    "tags": []
   },
   "outputs": [
    {
     "data": {
      "text/plain": [
       "0.8439955106621774"
      ]
     },
     "execution_count": 30,
     "metadata": {},
     "output_type": "execute_result"
    }
   ],
   "source": [
    "#Check model accuracy\n",
    "from sklearn.metrics import accuracy_score\n",
    "model.score(X_train, y_train)"
   ]
  },
  {
   "cell_type": "code",
   "execution_count": 31,
   "id": "7a9a53ff",
   "metadata": {
    "execution": {
     "iopub.execute_input": "2022-10-19T12:08:17.356312Z",
     "iopub.status.busy": "2022-10-19T12:08:17.355651Z",
     "iopub.status.idle": "2022-10-19T12:08:18.627284Z",
     "shell.execute_reply": "2022-10-19T12:08:18.625741Z"
    },
    "papermill": {
     "duration": 1.291764,
     "end_time": "2022-10-19T12:08:18.630215",
     "exception": false,
     "start_time": "2022-10-19T12:08:17.338451",
     "status": "completed"
    },
    "tags": []
   },
   "outputs": [],
   "source": [
    "from sklearn.model_selection import GridSearchCV\n",
    "parameters = {'kernel':['linear', 'poly', 'rbf'],'C':[0.1, 1, 10]}\n",
    "\n",
    "from sklearn.metrics import make_scorer\n",
    "from sklearn.metrics import f1_score\n",
    "scorer = make_scorer(f1_score)\n",
    "\n",
    "grid_obj = GridSearchCV(model, parameters, scoring=scorer)\n",
    "grid_fit = grid_obj.fit(X_train, y_train)\n",
    "best_svm = grid_fit.best_estimator_"
   ]
  },
  {
   "cell_type": "code",
   "execution_count": 32,
   "id": "5771ecce",
   "metadata": {
    "execution": {
     "iopub.execute_input": "2022-10-19T12:08:18.664836Z",
     "iopub.status.busy": "2022-10-19T12:08:18.663716Z",
     "iopub.status.idle": "2022-10-19T12:08:18.693469Z",
     "shell.execute_reply": "2022-10-19T12:08:18.692315Z"
    },
    "papermill": {
     "duration": 0.049347,
     "end_time": "2022-10-19T12:08:18.696320",
     "exception": false,
     "start_time": "2022-10-19T12:08:18.646973",
     "status": "completed"
    },
    "tags": []
   },
   "outputs": [
    {
     "data": {
      "text/plain": [
       "0.8282828282828283"
      ]
     },
     "execution_count": 32,
     "metadata": {},
     "output_type": "execute_result"
    }
   ],
   "source": [
    "best_svm.score(X_train, y_train)"
   ]
  },
  {
   "cell_type": "markdown",
   "id": "5dc27677",
   "metadata": {
    "papermill": {
     "duration": 0.015969,
     "end_time": "2022-10-19T12:08:18.728316",
     "exception": false,
     "start_time": "2022-10-19T12:08:18.712347",
     "status": "completed"
    },
    "tags": []
   },
   "source": [
    "# 4b. Prediction using RandomForestClassifier (submitted version)"
   ]
  },
  {
   "cell_type": "code",
   "execution_count": 33,
   "id": "c88c9c8f",
   "metadata": {
    "execution": {
     "iopub.execute_input": "2022-10-19T12:08:18.761949Z",
     "iopub.status.busy": "2022-10-19T12:08:18.761164Z",
     "iopub.status.idle": "2022-10-19T12:08:19.147969Z",
     "shell.execute_reply": "2022-10-19T12:08:19.146655Z"
    },
    "papermill": {
     "duration": 0.407139,
     "end_time": "2022-10-19T12:08:19.150897",
     "exception": false,
     "start_time": "2022-10-19T12:08:18.743758",
     "status": "completed"
    },
    "tags": []
   },
   "outputs": [
    {
     "data": {
      "text/plain": [
       "0.9865319865319865"
      ]
     },
     "execution_count": 33,
     "metadata": {},
     "output_type": "execute_result"
    }
   ],
   "source": [
    "#Train model using random forest and check accuracy\n",
    "from sklearn.ensemble import RandomForestClassifier\n",
    "clf = RandomForestClassifier(random_state=42)\n",
    "clf.fit(X_train, y_train)\n",
    "y_pred_1 = clf.predict(X_test)\n",
    "clf.score(X_train, y_train)"
   ]
  },
  {
   "cell_type": "code",
   "execution_count": null,
   "id": "0b1a07a6",
   "metadata": {
    "execution": {
     "iopub.execute_input": "2022-10-19T12:08:19.185986Z",
     "iopub.status.busy": "2022-10-19T12:08:19.184851Z",
     "iopub.status.idle": "2022-10-19T12:09:47.614014Z",
     "shell.execute_reply": "2022-10-19T12:09:47.612913Z"
    },
    "papermill": {
     "duration": 88.449402,
     "end_time": "2022-10-19T12:09:47.616623",
     "exception": false,
     "start_time": "2022-10-19T12:08:19.167221",
     "status": "completed"
    },
    "tags": []
   },
   "outputs": [],
   "source": [
    "from sklearn.model_selection import GridSearchCV\n",
    "parameters = {'max_depth':[5, 6, 7, 8, 9],'min_samples_split':[2, 4, 8, 16],'min_samples_leaf':[2, 4, 8, 16, 32] }\n",
    "\n",
    "from sklearn.metrics import make_scorer\n",
    "from sklearn.metrics import f1_score\n",
    "scorer = make_scorer(f1_score)\n",
    "\n",
    "grid_obj = GridSearchCV(clf, parameters, scoring=scorer)\n",
    "grid_fit = grid_obj.fit(X_train, y_train)\n",
    "best_clf = grid_fit.best_estimator_"
   ]
  },
  {
   "cell_type": "code",
   "execution_count": null,
   "id": "516d331b",
   "metadata": {
    "execution": {
     "iopub.execute_input": "2022-10-19T12:09:47.651639Z",
     "iopub.status.busy": "2022-10-19T12:09:47.650864Z",
     "iopub.status.idle": "2022-10-19T12:09:47.684149Z",
     "shell.execute_reply": "2022-10-19T12:09:47.682951Z"
    },
    "papermill": {
     "duration": 0.053465,
     "end_time": "2022-10-19T12:09:47.686445",
     "exception": false,
     "start_time": "2022-10-19T12:09:47.632980",
     "status": "completed"
    },
    "tags": []
   },
   "outputs": [],
   "source": [
    "best_clf.score(X_train, y_train)"
   ]
  },
  {
   "cell_type": "code",
   "execution_count": null,
   "id": "471c0a30",
   "metadata": {
    "execution": {
     "iopub.execute_input": "2022-10-19T12:09:47.722321Z",
     "iopub.status.busy": "2022-10-19T12:09:47.721493Z",
     "iopub.status.idle": "2022-10-19T12:09:47.745540Z",
     "shell.execute_reply": "2022-10-19T12:09:47.744216Z"
    },
    "papermill": {
     "duration": 0.045168,
     "end_time": "2022-10-19T12:09:47.748775",
     "exception": false,
     "start_time": "2022-10-19T12:09:47.703607",
     "status": "completed"
    },
    "tags": []
   },
   "outputs": [],
   "source": [
    "y_submission = best_clf.predict(X_test) "
   ]
  },
  {
   "cell_type": "markdown",
   "id": "de9b89e2",
   "metadata": {
    "papermill": {
     "duration": 0.0159,
     "end_time": "2022-10-19T12:09:47.780923",
     "exception": false,
     "start_time": "2022-10-19T12:09:47.765023",
     "status": "completed"
    },
    "tags": []
   },
   "source": [
    "# 5. Create Submission File"
   ]
  },
  {
   "cell_type": "code",
   "execution_count": null,
   "id": "26dd8622",
   "metadata": {
    "execution": {
     "iopub.execute_input": "2022-10-19T12:09:47.815754Z",
     "iopub.status.busy": "2022-10-19T12:09:47.815331Z",
     "iopub.status.idle": "2022-10-19T12:09:47.830557Z",
     "shell.execute_reply": "2022-10-19T12:09:47.829411Z"
    },
    "papermill": {
     "duration": 0.035668,
     "end_time": "2022-10-19T12:09:47.833067",
     "exception": false,
     "start_time": "2022-10-19T12:09:47.797399",
     "status": "completed"
    },
    "tags": []
   },
   "outputs": [],
   "source": [
    "submission = pd.DataFrame({\n",
    "        \"PassengerId\": pd.read_csv('data-4/test.csv')[\"PassengerId\"],\n",
    "        \"Survived\": y_submission\n",
    "    })\n",
    "submission.to_csv('data-4/submission.csv', index=False)"
   ]
  },
  {
   "cell_type": "code",
   "execution_count": 42,
   "id": "ade2bd6a",
   "metadata": {},
   "outputs": [
    {
     "data": {
      "text/html": [
       "<div>\n",
       "<style scoped>\n",
       "    .dataframe tbody tr th:only-of-type {\n",
       "        vertical-align: middle;\n",
       "    }\n",
       "\n",
       "    .dataframe tbody tr th {\n",
       "        vertical-align: top;\n",
       "    }\n",
       "\n",
       "    .dataframe thead th {\n",
       "        text-align: right;\n",
       "    }\n",
       "</style>\n",
       "<table border=\"1\" class=\"dataframe\">\n",
       "  <thead>\n",
       "    <tr style=\"text-align: right;\">\n",
       "      <th></th>\n",
       "      <th>PassengerId</th>\n",
       "      <th>Survived</th>\n",
       "    </tr>\n",
       "  </thead>\n",
       "  <tbody>\n",
       "    <tr>\n",
       "      <th>0</th>\n",
       "      <td>892</td>\n",
       "      <td>0</td>\n",
       "    </tr>\n",
       "    <tr>\n",
       "      <th>1</th>\n",
       "      <td>893</td>\n",
       "      <td>0</td>\n",
       "    </tr>\n",
       "    <tr>\n",
       "      <th>2</th>\n",
       "      <td>894</td>\n",
       "      <td>0</td>\n",
       "    </tr>\n",
       "    <tr>\n",
       "      <th>3</th>\n",
       "      <td>895</td>\n",
       "      <td>0</td>\n",
       "    </tr>\n",
       "    <tr>\n",
       "      <th>4</th>\n",
       "      <td>896</td>\n",
       "      <td>1</td>\n",
       "    </tr>\n",
       "  </tbody>\n",
       "</table>\n",
       "</div>"
      ],
      "text/plain": [
       "   PassengerId  Survived\n",
       "0          892         0\n",
       "1          893         0\n",
       "2          894         0\n",
       "3          895         0\n",
       "4          896         1"
      ]
     },
     "execution_count": 42,
     "metadata": {},
     "output_type": "execute_result"
    }
   ],
   "source": [
    "submission.head()"
   ]
  },
  {
   "cell_type": "code",
   "execution_count": 44,
   "id": "334bb48b",
   "metadata": {},
   "outputs": [
    {
     "data": {
      "text/html": [
       "<div>\n",
       "<style scoped>\n",
       "    .dataframe tbody tr th:only-of-type {\n",
       "        vertical-align: middle;\n",
       "    }\n",
       "\n",
       "    .dataframe tbody tr th {\n",
       "        vertical-align: top;\n",
       "    }\n",
       "\n",
       "    .dataframe thead th {\n",
       "        text-align: right;\n",
       "    }\n",
       "</style>\n",
       "<table border=\"1\" class=\"dataframe\">\n",
       "  <thead>\n",
       "    <tr style=\"text-align: right;\">\n",
       "      <th></th>\n",
       "      <th>PassengerId</th>\n",
       "      <th>Survived</th>\n",
       "    </tr>\n",
       "  </thead>\n",
       "  <tbody>\n",
       "    <tr>\n",
       "      <th>count</th>\n",
       "      <td>418.000000</td>\n",
       "      <td>418.000000</td>\n",
       "    </tr>\n",
       "    <tr>\n",
       "      <th>mean</th>\n",
       "      <td>1100.500000</td>\n",
       "      <td>0.358852</td>\n",
       "    </tr>\n",
       "    <tr>\n",
       "      <th>std</th>\n",
       "      <td>120.810458</td>\n",
       "      <td>0.480238</td>\n",
       "    </tr>\n",
       "    <tr>\n",
       "      <th>min</th>\n",
       "      <td>892.000000</td>\n",
       "      <td>0.000000</td>\n",
       "    </tr>\n",
       "    <tr>\n",
       "      <th>25%</th>\n",
       "      <td>996.250000</td>\n",
       "      <td>0.000000</td>\n",
       "    </tr>\n",
       "    <tr>\n",
       "      <th>50%</th>\n",
       "      <td>1100.500000</td>\n",
       "      <td>0.000000</td>\n",
       "    </tr>\n",
       "    <tr>\n",
       "      <th>75%</th>\n",
       "      <td>1204.750000</td>\n",
       "      <td>1.000000</td>\n",
       "    </tr>\n",
       "    <tr>\n",
       "      <th>max</th>\n",
       "      <td>1309.000000</td>\n",
       "      <td>1.000000</td>\n",
       "    </tr>\n",
       "  </tbody>\n",
       "</table>\n",
       "</div>"
      ],
      "text/plain": [
       "       PassengerId    Survived\n",
       "count   418.000000  418.000000\n",
       "mean   1100.500000    0.358852\n",
       "std     120.810458    0.480238\n",
       "min     892.000000    0.000000\n",
       "25%     996.250000    0.000000\n",
       "50%    1100.500000    0.000000\n",
       "75%    1204.750000    1.000000\n",
       "max    1309.000000    1.000000"
      ]
     },
     "execution_count": 44,
     "metadata": {},
     "output_type": "execute_result"
    }
   ],
   "source": [
    "submission.describe()"
   ]
  },
  {
   "cell_type": "code",
   "execution_count": null,
   "id": "d949ee56",
   "metadata": {},
   "outputs": [],
   "source": []
  }
 ],
 "metadata": {
  "kernelspec": {
   "display_name": "Python 3 (ipykernel)",
   "language": "python",
   "name": "python3"
  },
  "language_info": {
   "codemirror_mode": {
    "name": "ipython",
    "version": 3
   },
   "file_extension": ".py",
   "mimetype": "text/x-python",
   "name": "python",
   "nbconvert_exporter": "python",
   "pygments_lexer": "ipython3",
   "version": "3.9.13"
  },
  "papermill": {
   "default_parameters": {},
   "duration": 104.790193,
   "end_time": "2022-10-19T12:09:48.671310",
   "environment_variables": {},
   "exception": null,
   "input_path": "__notebook__.ipynb",
   "output_path": "__notebook__.ipynb",
   "parameters": {},
   "start_time": "2022-10-19T12:08:03.881117",
   "version": "2.3.4"
  }
 },
 "nbformat": 4,
 "nbformat_minor": 5
}
