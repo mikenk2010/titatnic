{
 "cells": [
  {
   "cell_type": "code",
   "execution_count": 1,
   "id": "3866be6c",
   "metadata": {
    "execution": {
     "iopub.execute_input": "2022-10-31T16:40:58.089287Z",
     "iopub.status.busy": "2022-10-31T16:40:58.088610Z",
     "iopub.status.idle": "2022-10-31T16:40:59.562218Z",
     "shell.execute_reply": "2022-10-31T16:40:59.560843Z"
    },
    "papermill": {
     "duration": 1.488295,
     "end_time": "2022-10-31T16:40:59.565633",
     "exception": false,
     "start_time": "2022-10-31T16:40:58.077338",
     "status": "completed"
    },
    "tags": []
   },
   "outputs": [
    {
     "ename": "ModuleNotFoundError",
     "evalue": "No module named 'category_encoders'",
     "output_type": "error",
     "traceback": [
      "\u001b[0;31m---------------------------------------------------------------------------\u001b[0m",
      "\u001b[0;31mModuleNotFoundError\u001b[0m                       Traceback (most recent call last)",
      "\u001b[0;32m/var/folders/91/93qxh3_x21b0y8d5y4n0xgd00000gn/T/ipykernel_17418/2823662679.py\u001b[0m in \u001b[0;36m<module>\u001b[0;34m\u001b[0m\n\u001b[1;32m      5\u001b[0m \u001b[0;32mfrom\u001b[0m \u001b[0msklearn\u001b[0m\u001b[0;34m.\u001b[0m\u001b[0mpipeline\u001b[0m \u001b[0;32mimport\u001b[0m \u001b[0mPipeline\u001b[0m\u001b[0;34m,\u001b[0m \u001b[0mmake_pipeline\u001b[0m\u001b[0;34m\u001b[0m\u001b[0;34m\u001b[0m\u001b[0m\n\u001b[1;32m      6\u001b[0m \u001b[0;32mfrom\u001b[0m \u001b[0msklearn\u001b[0m\u001b[0;34m.\u001b[0m\u001b[0mimpute\u001b[0m \u001b[0;32mimport\u001b[0m \u001b[0mSimpleImputer\u001b[0m\u001b[0;34m\u001b[0m\u001b[0;34m\u001b[0m\u001b[0m\n\u001b[0;32m----> 7\u001b[0;31m \u001b[0;32mfrom\u001b[0m \u001b[0mcategory_encoders\u001b[0m \u001b[0;32mimport\u001b[0m \u001b[0mOneHotEncoder\u001b[0m\u001b[0;34m\u001b[0m\u001b[0;34m\u001b[0m\u001b[0m\n\u001b[0m\u001b[1;32m      8\u001b[0m \u001b[0;32mfrom\u001b[0m \u001b[0msklearn\u001b[0m\u001b[0;34m.\u001b[0m\u001b[0mlinear_model\u001b[0m \u001b[0;32mimport\u001b[0m \u001b[0mLogisticRegression\u001b[0m\u001b[0;34m\u001b[0m\u001b[0;34m\u001b[0m\u001b[0m\n\u001b[1;32m      9\u001b[0m \u001b[0;32mfrom\u001b[0m \u001b[0msklearn\u001b[0m\u001b[0;34m.\u001b[0m\u001b[0mmetrics\u001b[0m \u001b[0;32mimport\u001b[0m \u001b[0maccuracy_score\u001b[0m\u001b[0;34m\u001b[0m\u001b[0;34m\u001b[0m\u001b[0m\n",
      "\u001b[0;31mModuleNotFoundError\u001b[0m: No module named 'category_encoders'"
     ]
    }
   ],
   "source": [
    "import pandas as pd\n",
    "import numpy as np\n",
    "import matplotlib.pyplot as plt\n",
    "from sklearn.metrics import mean_absolute_error\n",
    "from sklearn.pipeline import Pipeline, make_pipeline\n",
    "from sklearn.impute import SimpleImputer\n",
    "from category_encoders import OneHotEncoder\n",
    "from sklearn.linear_model import LogisticRegression\n",
    "from sklearn.metrics import accuracy_score\n",
    "import seaborn as sns\n",
    "from sklearn.model_selection import train_test_split"
   ]
  },
  {
   "cell_type": "code",
   "execution_count": null,
   "id": "86ed3394",
   "metadata": {
    "execution": {
     "iopub.execute_input": "2022-10-31T16:40:59.584686Z",
     "iopub.status.busy": "2022-10-31T16:40:59.583590Z",
     "iopub.status.idle": "2022-10-31T16:40:59.625152Z",
     "shell.execute_reply": "2022-10-31T16:40:59.623890Z"
    },
    "papermill": {
     "duration": 0.053833,
     "end_time": "2022-10-31T16:40:59.628063",
     "exception": false,
     "start_time": "2022-10-31T16:40:59.574230",
     "status": "completed"
    },
    "tags": []
   },
   "outputs": [],
   "source": [
    "df = pd.read_csv(\"data-5/train.csv\")\n",
    "df.head()"
   ]
  },
  {
   "cell_type": "code",
   "execution_count": null,
   "id": "c33d4a44",
   "metadata": {
    "execution": {
     "iopub.execute_input": "2022-10-31T16:40:59.646385Z",
     "iopub.status.busy": "2022-10-31T16:40:59.645818Z",
     "iopub.status.idle": "2022-10-31T16:40:59.652497Z",
     "shell.execute_reply": "2022-10-31T16:40:59.651412Z"
    },
    "papermill": {
     "duration": 0.018147,
     "end_time": "2022-10-31T16:40:59.654522",
     "exception": false,
     "start_time": "2022-10-31T16:40:59.636375",
     "status": "completed"
    },
    "tags": []
   },
   "outputs": [],
   "source": [
    "df.shape"
   ]
  },
  {
   "cell_type": "code",
   "execution_count": null,
   "id": "7c2d843e",
   "metadata": {
    "execution": {
     "iopub.execute_input": "2022-10-31T16:40:59.671832Z",
     "iopub.status.busy": "2022-10-31T16:40:59.671467Z",
     "iopub.status.idle": "2022-10-31T16:40:59.694671Z",
     "shell.execute_reply": "2022-10-31T16:40:59.693253Z"
    },
    "papermill": {
     "duration": 0.034405,
     "end_time": "2022-10-31T16:40:59.696951",
     "exception": false,
     "start_time": "2022-10-31T16:40:59.662546",
     "status": "completed"
    },
    "tags": []
   },
   "outputs": [],
   "source": [
    "df.info()"
   ]
  },
  {
   "cell_type": "code",
   "execution_count": null,
   "id": "c5c41f39",
   "metadata": {
    "execution": {
     "iopub.execute_input": "2022-10-31T16:40:59.715562Z",
     "iopub.status.busy": "2022-10-31T16:40:59.714921Z",
     "iopub.status.idle": "2022-10-31T16:40:59.730412Z",
     "shell.execute_reply": "2022-10-31T16:40:59.729554Z"
    },
    "papermill": {
     "duration": 0.027089,
     "end_time": "2022-10-31T16:40:59.732451",
     "exception": false,
     "start_time": "2022-10-31T16:40:59.705362",
     "status": "completed"
    },
    "tags": []
   },
   "outputs": [],
   "source": [
    "df.head()"
   ]
  },
  {
   "cell_type": "code",
   "execution_count": null,
   "id": "f2f5d828",
   "metadata": {
    "execution": {
     "iopub.execute_input": "2022-10-31T16:40:59.752974Z",
     "iopub.status.busy": "2022-10-31T16:40:59.752300Z",
     "iopub.status.idle": "2022-10-31T16:40:59.758695Z",
     "shell.execute_reply": "2022-10-31T16:40:59.757850Z"
    },
    "papermill": {
     "duration": 0.018414,
     "end_time": "2022-10-31T16:40:59.760942",
     "exception": false,
     "start_time": "2022-10-31T16:40:59.742528",
     "status": "completed"
    },
    "tags": []
   },
   "outputs": [],
   "source": [
    "df.drop(columns =\"Ticket\", inplace=True)"
   ]
  },
  {
   "cell_type": "code",
   "execution_count": null,
   "id": "a8ba5a0a",
   "metadata": {
    "execution": {
     "iopub.execute_input": "2022-10-31T16:40:59.780252Z",
     "iopub.status.busy": "2022-10-31T16:40:59.779465Z",
     "iopub.status.idle": "2022-10-31T16:40:59.794193Z",
     "shell.execute_reply": "2022-10-31T16:40:59.793331Z"
    },
    "papermill": {
     "duration": 0.02643,
     "end_time": "2022-10-31T16:40:59.796099",
     "exception": false,
     "start_time": "2022-10-31T16:40:59.769669",
     "status": "completed"
    },
    "tags": []
   },
   "outputs": [],
   "source": [
    "df.head()"
   ]
  },
  {
   "cell_type": "code",
   "execution_count": null,
   "id": "136b139e",
   "metadata": {
    "execution": {
     "iopub.execute_input": "2022-10-31T16:40:59.815720Z",
     "iopub.status.busy": "2022-10-31T16:40:59.815115Z",
     "iopub.status.idle": "2022-10-31T16:40:59.820231Z",
     "shell.execute_reply": "2022-10-31T16:40:59.819553Z"
    },
    "papermill": {
     "duration": 0.017145,
     "end_time": "2022-10-31T16:40:59.822200",
     "exception": false,
     "start_time": "2022-10-31T16:40:59.805055",
     "status": "completed"
    },
    "tags": []
   },
   "outputs": [],
   "source": [
    "df.shape"
   ]
  },
  {
   "cell_type": "code",
   "execution_count": null,
   "id": "89aff0e0",
   "metadata": {
    "execution": {
     "iopub.execute_input": "2022-10-31T16:40:59.842179Z",
     "iopub.status.busy": "2022-10-31T16:40:59.841583Z",
     "iopub.status.idle": "2022-10-31T16:40:59.849448Z",
     "shell.execute_reply": "2022-10-31T16:40:59.848616Z"
    },
    "papermill": {
     "duration": 0.019943,
     "end_time": "2022-10-31T16:40:59.851393",
     "exception": false,
     "start_time": "2022-10-31T16:40:59.831450",
     "status": "completed"
    },
    "tags": []
   },
   "outputs": [],
   "source": [
    "df.isnull().sum()"
   ]
  },
  {
   "cell_type": "code",
   "execution_count": null,
   "id": "bdd2c144",
   "metadata": {
    "execution": {
     "iopub.execute_input": "2022-10-31T16:40:59.871443Z",
     "iopub.status.busy": "2022-10-31T16:40:59.870871Z",
     "iopub.status.idle": "2022-10-31T16:40:59.878655Z",
     "shell.execute_reply": "2022-10-31T16:40:59.877816Z"
    },
    "papermill": {
     "duration": 0.020038,
     "end_time": "2022-10-31T16:40:59.880540",
     "exception": false,
     "start_time": "2022-10-31T16:40:59.860502",
     "status": "completed"
    },
    "tags": []
   },
   "outputs": [],
   "source": [
    "round(df[\"Age\"].median(),0)"
   ]
  },
  {
   "cell_type": "code",
   "execution_count": null,
   "id": "dea93cae",
   "metadata": {
    "execution": {
     "iopub.execute_input": "2022-10-31T16:40:59.900818Z",
     "iopub.status.busy": "2022-10-31T16:40:59.900290Z",
     "iopub.status.idle": "2022-10-31T16:40:59.906341Z",
     "shell.execute_reply": "2022-10-31T16:40:59.905385Z"
    },
    "papermill": {
     "duration": 0.018581,
     "end_time": "2022-10-31T16:40:59.908326",
     "exception": false,
     "start_time": "2022-10-31T16:40:59.889745",
     "status": "completed"
    },
    "tags": []
   },
   "outputs": [],
   "source": [
    "df[\"Cabin\"].mode()[0]"
   ]
  },
  {
   "cell_type": "code",
   "execution_count": null,
   "id": "3dbb2eb5",
   "metadata": {
    "execution": {
     "iopub.execute_input": "2022-10-31T16:40:59.929354Z",
     "iopub.status.busy": "2022-10-31T16:40:59.928776Z",
     "iopub.status.idle": "2022-10-31T16:40:59.935088Z",
     "shell.execute_reply": "2022-10-31T16:40:59.934324Z"
    },
    "papermill": {
     "duration": 0.019071,
     "end_time": "2022-10-31T16:40:59.937077",
     "exception": false,
     "start_time": "2022-10-31T16:40:59.918006",
     "status": "completed"
    },
    "tags": []
   },
   "outputs": [],
   "source": [
    "df[\"Cabin\"] = df[\"Cabin\"].fillna(df[\"Cabin\"].mode()[0])\n",
    "df[\"Embarked\"] = df[\"Embarked\"].fillna(df[\"Embarked\"].mode()[0]) "
   ]
  },
  {
   "cell_type": "code",
   "execution_count": null,
   "id": "ebf29c07",
   "metadata": {
    "execution": {
     "iopub.execute_input": "2022-10-31T16:40:59.957887Z",
     "iopub.status.busy": "2022-10-31T16:40:59.957344Z",
     "iopub.status.idle": "2022-10-31T16:40:59.969581Z",
     "shell.execute_reply": "2022-10-31T16:40:59.968774Z"
    },
    "papermill": {
     "duration": 0.025345,
     "end_time": "2022-10-31T16:40:59.971829",
     "exception": false,
     "start_time": "2022-10-31T16:40:59.946484",
     "status": "completed"
    },
    "tags": []
   },
   "outputs": [],
   "source": [
    "df[\"Age\"] = df[\"Age\"].groupby([df[\"Pclass\"], df[\"Sex\"]]).apply(lambda x: x.fillna(x.mean()))"
   ]
  },
  {
   "cell_type": "code",
   "execution_count": null,
   "id": "3924fe71",
   "metadata": {
    "execution": {
     "iopub.execute_input": "2022-10-31T16:40:59.994049Z",
     "iopub.status.busy": "2022-10-31T16:40:59.993352Z",
     "iopub.status.idle": "2022-10-31T16:41:00.003046Z",
     "shell.execute_reply": "2022-10-31T16:41:00.001954Z"
    },
    "papermill": {
     "duration": 0.023485,
     "end_time": "2022-10-31T16:41:00.005346",
     "exception": false,
     "start_time": "2022-10-31T16:40:59.981861",
     "status": "completed"
    },
    "tags": []
   },
   "outputs": [],
   "source": [
    "df.isnull().sum()"
   ]
  },
  {
   "cell_type": "code",
   "execution_count": null,
   "id": "1ee3c4aa",
   "metadata": {
    "execution": {
     "iopub.execute_input": "2022-10-31T16:41:00.028010Z",
     "iopub.status.busy": "2022-10-31T16:41:00.027374Z",
     "iopub.status.idle": "2022-10-31T16:41:00.306719Z",
     "shell.execute_reply": "2022-10-31T16:41:00.305644Z"
    },
    "papermill": {
     "duration": 0.293591,
     "end_time": "2022-10-31T16:41:00.309131",
     "exception": false,
     "start_time": "2022-10-31T16:41:00.015540",
     "status": "completed"
    },
    "tags": []
   },
   "outputs": [],
   "source": [
    "correlation = df.select_dtypes(\"number\").drop(columns = \"Survived\").corr()\n",
    "sns.heatmap(correlation);"
   ]
  },
  {
   "cell_type": "code",
   "execution_count": null,
   "id": "a6aaba95",
   "metadata": {
    "execution": {
     "iopub.execute_input": "2022-10-31T16:41:00.331767Z",
     "iopub.status.busy": "2022-10-31T16:41:00.331366Z",
     "iopub.status.idle": "2022-10-31T16:41:00.339789Z",
     "shell.execute_reply": "2022-10-31T16:41:00.339150Z"
    },
    "papermill": {
     "duration": 0.022202,
     "end_time": "2022-10-31T16:41:00.341904",
     "exception": false,
     "start_time": "2022-10-31T16:41:00.319702",
     "status": "completed"
    },
    "tags": []
   },
   "outputs": [],
   "source": [
    "df[\"Survived\"].corr(df[\"Pclass\"])"
   ]
  },
  {
   "cell_type": "code",
   "execution_count": null,
   "id": "63c17756",
   "metadata": {
    "execution": {
     "iopub.execute_input": "2022-10-31T16:41:00.364068Z",
     "iopub.status.busy": "2022-10-31T16:41:00.363443Z",
     "iopub.status.idle": "2022-10-31T16:41:00.369832Z",
     "shell.execute_reply": "2022-10-31T16:41:00.369139Z"
    },
    "papermill": {
     "duration": 0.019492,
     "end_time": "2022-10-31T16:41:00.371690",
     "exception": false,
     "start_time": "2022-10-31T16:41:00.352198",
     "status": "completed"
    },
    "tags": []
   },
   "outputs": [],
   "source": [
    "df[\"Survived\"].corr(df[\"Fare\"])"
   ]
  },
  {
   "cell_type": "code",
   "execution_count": null,
   "id": "b800468d",
   "metadata": {
    "execution": {
     "iopub.execute_input": "2022-10-31T16:41:00.393980Z",
     "iopub.status.busy": "2022-10-31T16:41:00.393370Z",
     "iopub.status.idle": "2022-10-31T16:41:00.398667Z",
     "shell.execute_reply": "2022-10-31T16:41:00.397962Z"
    },
    "papermill": {
     "duration": 0.018557,
     "end_time": "2022-10-31T16:41:00.400524",
     "exception": false,
     "start_time": "2022-10-31T16:41:00.381967",
     "status": "completed"
    },
    "tags": []
   },
   "outputs": [],
   "source": [
    "df.drop(columns = \"Fare\", inplace = True)"
   ]
  },
  {
   "cell_type": "code",
   "execution_count": null,
   "id": "68c3d485",
   "metadata": {
    "execution": {
     "iopub.execute_input": "2022-10-31T16:41:00.422296Z",
     "iopub.status.busy": "2022-10-31T16:41:00.421913Z",
     "iopub.status.idle": "2022-10-31T16:41:01.091667Z",
     "shell.execute_reply": "2022-10-31T16:41:01.090778Z"
    },
    "papermill": {
     "duration": 0.683586,
     "end_time": "2022-10-31T16:41:01.094110",
     "exception": false,
     "start_time": "2022-10-31T16:41:00.410524",
     "status": "completed"
    },
    "tags": []
   },
   "outputs": [],
   "source": [
    "for i in df.select_dtypes(\"number\").columns:\n",
    "    \n",
    "    plt.figure()\n",
    "    plt.title(f'{i}')\n",
    "    plt.boxplot(df[i], vert=False);"
   ]
  },
  {
   "cell_type": "code",
   "execution_count": null,
   "id": "47a0935f",
   "metadata": {
    "execution": {
     "iopub.execute_input": "2022-10-31T16:41:01.119735Z",
     "iopub.status.busy": "2022-10-31T16:41:01.119326Z",
     "iopub.status.idle": "2022-10-31T16:41:01.126763Z",
     "shell.execute_reply": "2022-10-31T16:41:01.125934Z"
    },
    "papermill": {
     "duration": 0.024496,
     "end_time": "2022-10-31T16:41:01.130388",
     "exception": false,
     "start_time": "2022-10-31T16:41:01.105892",
     "status": "completed"
    },
    "tags": []
   },
   "outputs": [],
   "source": [
    "df.drop(columns = \"PassengerId\", inplace = True)\n",
    "df.shape"
   ]
  },
  {
   "cell_type": "code",
   "execution_count": null,
   "id": "39739f2b",
   "metadata": {
    "execution": {
     "iopub.execute_input": "2022-10-31T16:41:01.156378Z",
     "iopub.status.busy": "2022-10-31T16:41:01.155212Z",
     "iopub.status.idle": "2022-10-31T16:41:01.162036Z",
     "shell.execute_reply": "2022-10-31T16:41:01.161301Z"
    },
    "papermill": {
     "duration": 0.021842,
     "end_time": "2022-10-31T16:41:01.164167",
     "exception": false,
     "start_time": "2022-10-31T16:41:01.142325",
     "status": "completed"
    },
    "tags": []
   },
   "outputs": [],
   "source": [
    "def outliers(df, ft):\n",
    "    Q1 = df[ft].quantile(0.25)\n",
    "    Q3 = df[ft].quantile(0.75)\n",
    "    IQR = Q3-Q1\n",
    "    \n",
    "    low = Q1 - 1.5 * IQR\n",
    "    top = Q3 + 1.5 * IQR\n",
    "    \n",
    "    ls = df.index[ (df[ft] < low ) |  (df[ft]  > top) ]\n",
    "    return ls"
   ]
  },
  {
   "cell_type": "code",
   "execution_count": null,
   "id": "71122c2f",
   "metadata": {
    "execution": {
     "iopub.execute_input": "2022-10-31T16:41:01.189526Z",
     "iopub.status.busy": "2022-10-31T16:41:01.188522Z",
     "iopub.status.idle": "2022-10-31T16:41:01.202720Z",
     "shell.execute_reply": "2022-10-31T16:41:01.201962Z"
    },
    "papermill": {
     "duration": 0.028889,
     "end_time": "2022-10-31T16:41:01.204734",
     "exception": false,
     "start_time": "2022-10-31T16:41:01.175845",
     "status": "completed"
    },
    "tags": []
   },
   "outputs": [],
   "source": [
    "index_list = []\n",
    "for i in [\"Pclass\", \"Age\",\"SibSp\", \"Parch\"]:\n",
    "    index_list.extend(outliers(df, i))"
   ]
  },
  {
   "cell_type": "code",
   "execution_count": null,
   "id": "82e1446e",
   "metadata": {
    "execution": {
     "iopub.execute_input": "2022-10-31T16:41:01.229830Z",
     "iopub.status.busy": "2022-10-31T16:41:01.229197Z",
     "iopub.status.idle": "2022-10-31T16:41:01.234248Z",
     "shell.execute_reply": "2022-10-31T16:41:01.233441Z"
    },
    "papermill": {
     "duration": 0.019836,
     "end_time": "2022-10-31T16:41:01.236265",
     "exception": false,
     "start_time": "2022-10-31T16:41:01.216429",
     "status": "completed"
    },
    "tags": []
   },
   "outputs": [],
   "source": [
    "def remove (df, ls):\n",
    "    ls = sorted(set(ls))\n",
    "    df = df.drop(ls)\n",
    "    return df"
   ]
  },
  {
   "cell_type": "code",
   "execution_count": null,
   "id": "dca791bb",
   "metadata": {
    "execution": {
     "iopub.execute_input": "2022-10-31T16:41:01.261368Z",
     "iopub.status.busy": "2022-10-31T16:41:01.260698Z",
     "iopub.status.idle": "2022-10-31T16:41:01.266402Z",
     "shell.execute_reply": "2022-10-31T16:41:01.265686Z"
    },
    "papermill": {
     "duration": 0.020413,
     "end_time": "2022-10-31T16:41:01.268392",
     "exception": false,
     "start_time": "2022-10-31T16:41:01.247979",
     "status": "completed"
    },
    "tags": []
   },
   "outputs": [],
   "source": [
    "df_new = remove(df, index_list)"
   ]
  },
  {
   "cell_type": "code",
   "execution_count": null,
   "id": "f1606e20",
   "metadata": {
    "execution": {
     "iopub.execute_input": "2022-10-31T16:41:01.294364Z",
     "iopub.status.busy": "2022-10-31T16:41:01.293720Z",
     "iopub.status.idle": "2022-10-31T16:41:01.300208Z",
     "shell.execute_reply": "2022-10-31T16:41:01.299318Z"
    },
    "papermill": {
     "duration": 0.021926,
     "end_time": "2022-10-31T16:41:01.302234",
     "exception": false,
     "start_time": "2022-10-31T16:41:01.280308",
     "status": "completed"
    },
    "tags": []
   },
   "outputs": [],
   "source": [
    "df_new.shape"
   ]
  },
  {
   "cell_type": "code",
   "execution_count": null,
   "id": "bea72c8c",
   "metadata": {
    "execution": {
     "iopub.execute_input": "2022-10-31T16:41:01.328631Z",
     "iopub.status.busy": "2022-10-31T16:41:01.327959Z",
     "iopub.status.idle": "2022-10-31T16:41:01.336590Z",
     "shell.execute_reply": "2022-10-31T16:41:01.335703Z"
    },
    "papermill": {
     "duration": 0.024155,
     "end_time": "2022-10-31T16:41:01.338667",
     "exception": false,
     "start_time": "2022-10-31T16:41:01.314512",
     "status": "completed"
    },
    "tags": []
   },
   "outputs": [],
   "source": [
    "df[\"Survived\"].value_counts(normalize = True)"
   ]
  },
  {
   "cell_type": "code",
   "execution_count": null,
   "id": "755d9e57",
   "metadata": {
    "execution": {
     "iopub.execute_input": "2022-10-31T16:41:01.364789Z",
     "iopub.status.busy": "2022-10-31T16:41:01.364135Z",
     "iopub.status.idle": "2022-10-31T16:41:01.373400Z",
     "shell.execute_reply": "2022-10-31T16:41:01.372393Z"
    },
    "papermill": {
     "duration": 0.024817,
     "end_time": "2022-10-31T16:41:01.375428",
     "exception": false,
     "start_time": "2022-10-31T16:41:01.350611",
     "status": "completed"
    },
    "tags": []
   },
   "outputs": [],
   "source": [
    "# just curiosity\n",
    "survived_female = (df[\"Sex\"] == \"female\") & (df[\"Survived\"] == 1)\n",
    "survived_female.value_counts()"
   ]
  },
  {
   "cell_type": "code",
   "execution_count": null,
   "id": "5f3bd759",
   "metadata": {
    "execution": {
     "iopub.execute_input": "2022-10-31T16:41:01.401798Z",
     "iopub.status.busy": "2022-10-31T16:41:01.401165Z",
     "iopub.status.idle": "2022-10-31T16:41:01.534743Z",
     "shell.execute_reply": "2022-10-31T16:41:01.533591Z"
    },
    "papermill": {
     "duration": 0.149719,
     "end_time": "2022-10-31T16:41:01.537203",
     "exception": false,
     "start_time": "2022-10-31T16:41:01.387484",
     "status": "completed"
    },
    "tags": []
   },
   "outputs": [],
   "source": [
    "df[\"Survived\"].value_counts(normalize = True).plot(kind = \"bar\");"
   ]
  },
  {
   "cell_type": "code",
   "execution_count": null,
   "id": "2250a480",
   "metadata": {
    "execution": {
     "iopub.execute_input": "2022-10-31T16:41:01.564568Z",
     "iopub.status.busy": "2022-10-31T16:41:01.563833Z",
     "iopub.status.idle": "2022-10-31T16:41:01.571431Z",
     "shell.execute_reply": "2022-10-31T16:41:01.570228Z"
    },
    "papermill": {
     "duration": 0.023856,
     "end_time": "2022-10-31T16:41:01.573666",
     "exception": false,
     "start_time": "2022-10-31T16:41:01.549810",
     "status": "completed"
    },
    "tags": []
   },
   "outputs": [],
   "source": [
    "majority_class, minority_class = round(df[\"Survived\"].value_counts(normalize = True),2)\n",
    "print(majority_class, minority_class)"
   ]
  },
  {
   "cell_type": "code",
   "execution_count": null,
   "id": "67d56aab",
   "metadata": {
    "execution": {
     "iopub.execute_input": "2022-10-31T16:41:01.601995Z",
     "iopub.status.busy": "2022-10-31T16:41:01.600077Z",
     "iopub.status.idle": "2022-10-31T16:41:01.616398Z",
     "shell.execute_reply": "2022-10-31T16:41:01.615637Z"
    },
    "papermill": {
     "duration": 0.032268,
     "end_time": "2022-10-31T16:41:01.618554",
     "exception": false,
     "start_time": "2022-10-31T16:41:01.586286",
     "status": "completed"
    },
    "tags": []
   },
   "outputs": [],
   "source": [
    "df.head()"
   ]
  },
  {
   "cell_type": "code",
   "execution_count": null,
   "id": "7dad4844",
   "metadata": {
    "execution": {
     "iopub.execute_input": "2022-10-31T16:41:01.646438Z",
     "iopub.status.busy": "2022-10-31T16:41:01.645395Z",
     "iopub.status.idle": "2022-10-31T16:41:01.650141Z",
     "shell.execute_reply": "2022-10-31T16:41:01.649323Z"
    },
    "papermill": {
     "duration": 0.021,
     "end_time": "2022-10-31T16:41:01.652300",
     "exception": false,
     "start_time": "2022-10-31T16:41:01.631300",
     "status": "completed"
    },
    "tags": []
   },
   "outputs": [],
   "source": [
    "# which parch has more likely to survive?"
   ]
  },
  {
   "cell_type": "code",
   "execution_count": null,
   "id": "3043fea5",
   "metadata": {
    "execution": {
     "iopub.execute_input": "2022-10-31T16:41:01.679567Z",
     "iopub.status.busy": "2022-10-31T16:41:01.678853Z",
     "iopub.status.idle": "2022-10-31T16:41:01.686789Z",
     "shell.execute_reply": "2022-10-31T16:41:01.685961Z"
    },
    "papermill": {
     "duration": 0.023986,
     "end_time": "2022-10-31T16:41:01.688951",
     "exception": false,
     "start_time": "2022-10-31T16:41:01.664965",
     "status": "completed"
    },
    "tags": []
   },
   "outputs": [],
   "source": [
    "df[\"Parch\"].nunique()"
   ]
  },
  {
   "cell_type": "code",
   "execution_count": null,
   "id": "6976e1fc",
   "metadata": {
    "execution": {
     "iopub.execute_input": "2022-10-31T16:41:01.716642Z",
     "iopub.status.busy": "2022-10-31T16:41:01.715590Z",
     "iopub.status.idle": "2022-10-31T16:41:01.737138Z",
     "shell.execute_reply": "2022-10-31T16:41:01.735849Z"
    },
    "papermill": {
     "duration": 0.037678,
     "end_time": "2022-10-31T16:41:01.739343",
     "exception": false,
     "start_time": "2022-10-31T16:41:01.701665",
     "status": "completed"
    },
    "tags": []
   },
   "outputs": [],
   "source": [
    "pivot_parch = pd.pivot_table(df, index = \"Parch\", values = \"Survived\" , aggfunc = np.mean).sort_values(by = \"Survived\")\n",
    "pivot_parch"
   ]
  },
  {
   "cell_type": "code",
   "execution_count": null,
   "id": "d190dbcf",
   "metadata": {
    "execution": {
     "iopub.execute_input": "2022-10-31T16:41:01.769323Z",
     "iopub.status.busy": "2022-10-31T16:41:01.767989Z",
     "iopub.status.idle": "2022-10-31T16:41:01.773950Z",
     "shell.execute_reply": "2022-10-31T16:41:01.772517Z"
    },
    "papermill": {
     "duration": 0.02364,
     "end_time": "2022-10-31T16:41:01.776463",
     "exception": false,
     "start_time": "2022-10-31T16:41:01.752823",
     "status": "completed"
    },
    "tags": []
   },
   "outputs": [],
   "source": [
    "#Split Data"
   ]
  },
  {
   "cell_type": "code",
   "execution_count": null,
   "id": "a7ad646c",
   "metadata": {
    "execution": {
     "iopub.execute_input": "2022-10-31T16:41:01.806434Z",
     "iopub.status.busy": "2022-10-31T16:41:01.805999Z",
     "iopub.status.idle": "2022-10-31T16:41:01.812684Z",
     "shell.execute_reply": "2022-10-31T16:41:01.811501Z"
    },
    "papermill": {
     "duration": 0.024909,
     "end_time": "2022-10-31T16:41:01.815284",
     "exception": false,
     "start_time": "2022-10-31T16:41:01.790375",
     "status": "completed"
    },
    "tags": []
   },
   "outputs": [],
   "source": [
    "target = \"Survived\"\n",
    "X= df.drop(columns = target)\n",
    "y = df[target]"
   ]
  },
  {
   "cell_type": "code",
   "execution_count": null,
   "id": "129a8bab",
   "metadata": {
    "execution": {
     "iopub.execute_input": "2022-10-31T16:41:01.845615Z",
     "iopub.status.busy": "2022-10-31T16:41:01.845161Z",
     "iopub.status.idle": "2022-10-31T16:41:01.853457Z",
     "shell.execute_reply": "2022-10-31T16:41:01.852271Z"
    },
    "papermill": {
     "duration": 0.026678,
     "end_time": "2022-10-31T16:41:01.855996",
     "exception": false,
     "start_time": "2022-10-31T16:41:01.829318",
     "status": "completed"
    },
    "tags": []
   },
   "outputs": [],
   "source": [
    "X_train, x_test, y_train, y_test = train_test_split( X,y, test_size = 0.2, random_state = 42)"
   ]
  },
  {
   "cell_type": "code",
   "execution_count": null,
   "id": "56fc7b5f",
   "metadata": {
    "execution": {
     "iopub.execute_input": "2022-10-31T16:41:01.886445Z",
     "iopub.status.busy": "2022-10-31T16:41:01.886048Z",
     "iopub.status.idle": "2022-10-31T16:41:01.892385Z",
     "shell.execute_reply": "2022-10-31T16:41:01.891468Z"
    },
    "papermill": {
     "duration": 0.024135,
     "end_time": "2022-10-31T16:41:01.894590",
     "exception": false,
     "start_time": "2022-10-31T16:41:01.870455",
     "status": "completed"
    },
    "tags": []
   },
   "outputs": [],
   "source": [
    "acc_baseline = y_train.value_counts(normalize = True).max()\n",
    "print(\"Baseline Accuracy:\", round(acc_baseline,2))"
   ]
  },
  {
   "cell_type": "code",
   "execution_count": null,
   "id": "ab04692a",
   "metadata": {
    "execution": {
     "iopub.execute_input": "2022-10-31T16:41:01.923839Z",
     "iopub.status.busy": "2022-10-31T16:41:01.923412Z",
     "iopub.status.idle": "2022-10-31T16:41:02.385764Z",
     "shell.execute_reply": "2022-10-31T16:41:02.384614Z"
    },
    "papermill": {
     "duration": 0.481327,
     "end_time": "2022-10-31T16:41:02.389770",
     "exception": false,
     "start_time": "2022-10-31T16:41:01.908443",
     "status": "completed"
    },
    "tags": []
   },
   "outputs": [],
   "source": [
    "model = make_pipeline( OneHotEncoder (use_cat_names = True), LogisticRegression(max_iter = 1000))\n",
    "model.fit(X_train, y_train)"
   ]
  },
  {
   "cell_type": "code",
   "execution_count": null,
   "id": "64f33ab9",
   "metadata": {
    "execution": {
     "iopub.execute_input": "2022-10-31T16:41:02.465276Z",
     "iopub.status.busy": "2022-10-31T16:41:02.464545Z",
     "iopub.status.idle": "2022-10-31T16:41:02.475167Z",
     "shell.execute_reply": "2022-10-31T16:41:02.473636Z"
    },
    "papermill": {
     "duration": 0.053643,
     "end_time": "2022-10-31T16:41:02.479752",
     "exception": false,
     "start_time": "2022-10-31T16:41:02.426109",
     "status": "completed"
    },
    "tags": []
   },
   "outputs": [],
   "source": [
    "#Evaluate"
   ]
  },
  {
   "cell_type": "code",
   "execution_count": null,
   "id": "5765ad35",
   "metadata": {
    "execution": {
     "iopub.execute_input": "2022-10-31T16:41:02.516879Z",
     "iopub.status.busy": "2022-10-31T16:41:02.516468Z",
     "iopub.status.idle": "2022-10-31T16:41:02.552209Z",
     "shell.execute_reply": "2022-10-31T16:41:02.550953Z"
    },
    "papermill": {
     "duration": 0.05462,
     "end_time": "2022-10-31T16:41:02.556197",
     "exception": false,
     "start_time": "2022-10-31T16:41:02.501577",
     "status": "completed"
    },
    "tags": []
   },
   "outputs": [],
   "source": [
    "round(model.score(x_test, y_test), 2)"
   ]
  },
  {
   "cell_type": "code",
   "execution_count": null,
   "id": "64354a5d",
   "metadata": {
    "execution": {
     "iopub.execute_input": "2022-10-31T16:41:02.632835Z",
     "iopub.status.busy": "2022-10-31T16:41:02.632154Z",
     "iopub.status.idle": "2022-10-31T16:41:02.691640Z",
     "shell.execute_reply": "2022-10-31T16:41:02.690393Z"
    },
    "papermill": {
     "duration": 0.101694,
     "end_time": "2022-10-31T16:41:02.695500",
     "exception": false,
     "start_time": "2022-10-31T16:41:02.593806",
     "status": "completed"
    },
    "tags": []
   },
   "outputs": [],
   "source": [
    "round(accuracy_score(y_train, model.predict(X_train)),2)"
   ]
  },
  {
   "cell_type": "code",
   "execution_count": null,
   "id": "46d75046",
   "metadata": {
    "execution": {
     "iopub.execute_input": "2022-10-31T16:41:02.771172Z",
     "iopub.status.busy": "2022-10-31T16:41:02.770492Z",
     "iopub.status.idle": "2022-10-31T16:41:02.779735Z",
     "shell.execute_reply": "2022-10-31T16:41:02.778632Z"
    },
    "papermill": {
     "duration": 0.051462,
     "end_time": "2022-10-31T16:41:02.783429",
     "exception": false,
     "start_time": "2022-10-31T16:41:02.731967",
     "status": "completed"
    },
    "tags": []
   },
   "outputs": [],
   "source": [
    "df.shape"
   ]
  },
  {
   "cell_type": "code",
   "execution_count": null,
   "id": "a4620c78",
   "metadata": {
    "execution": {
     "iopub.execute_input": "2022-10-31T16:41:02.827481Z",
     "iopub.status.busy": "2022-10-31T16:41:02.827055Z",
     "iopub.status.idle": "2022-10-31T16:41:02.842518Z",
     "shell.execute_reply": "2022-10-31T16:41:02.841613Z"
    },
    "papermill": {
     "duration": 0.033017,
     "end_time": "2022-10-31T16:41:02.844700",
     "exception": false,
     "start_time": "2022-10-31T16:41:02.811683",
     "status": "completed"
    },
    "tags": []
   },
   "outputs": [],
   "source": [
    "df_test = pd.read_csv(\"data-5/test.csv\")\n",
    "df_test.shape"
   ]
  },
  {
   "cell_type": "code",
   "execution_count": null,
   "id": "2660696c",
   "metadata": {
    "execution": {
     "iopub.execute_input": "2022-10-31T16:41:02.876851Z",
     "iopub.status.busy": "2022-10-31T16:41:02.876168Z",
     "iopub.status.idle": "2022-10-31T16:41:02.914352Z",
     "shell.execute_reply": "2022-10-31T16:41:02.912204Z"
    },
    "papermill": {
     "duration": 0.058472,
     "end_time": "2022-10-31T16:41:02.918416",
     "exception": false,
     "start_time": "2022-10-31T16:41:02.859944",
     "status": "completed"
    },
    "tags": []
   },
   "outputs": [],
   "source": [
    "y_pred = model.predict(df_test)\n",
    "y_pred[:5]"
   ]
  },
  {
   "cell_type": "code",
   "execution_count": null,
   "id": "b4cc3293",
   "metadata": {
    "execution": {
     "iopub.execute_input": "2022-10-31T16:41:02.998049Z",
     "iopub.status.busy": "2022-10-31T16:41:02.997339Z",
     "iopub.status.idle": "2022-10-31T16:41:03.022862Z",
     "shell.execute_reply": "2022-10-31T16:41:03.021353Z"
    },
    "papermill": {
     "duration": 0.070201,
     "end_time": "2022-10-31T16:41:03.027216",
     "exception": false,
     "start_time": "2022-10-31T16:41:02.957015",
     "status": "completed"
    },
    "tags": []
   },
   "outputs": [],
   "source": [
    "pred = pd.DataFrame(y_pred)\n",
    "sub_df = pd.read_csv(\"data-5/submission.csv\")\n",
    "datasets = pd.concat([sub_df[\"PassengerId\"], pred], axis = 1)\n",
    "datasets.columns = [\"PassengerId\", \"Survived\"]\n",
    "datasets.to_csv(\"data-5/submission.csv\", index = False)"
   ]
  },
  {
   "cell_type": "code",
   "execution_count": null,
   "id": "f261c8a2",
   "metadata": {
    "papermill": {
     "duration": 0.014425,
     "end_time": "2022-10-31T16:41:03.056940",
     "exception": false,
     "start_time": "2022-10-31T16:41:03.042515",
     "status": "completed"
    },
    "tags": []
   },
   "outputs": [],
   "source": []
  }
 ],
 "metadata": {
  "kernelspec": {
   "display_name": "Python 3 (ipykernel)",
   "language": "python",
   "name": "python3"
  },
  "language_info": {
   "codemirror_mode": {
    "name": "ipython",
    "version": 3
   },
   "file_extension": ".py",
   "mimetype": "text/x-python",
   "name": "python",
   "nbconvert_exporter": "python",
   "pygments_lexer": "ipython3",
   "version": "3.9.13"
  },
  "papermill": {
   "default_parameters": {},
   "duration": 14.811772,
   "end_time": "2022-10-31T16:41:03.793029",
   "environment_variables": {},
   "exception": null,
   "input_path": "__notebook__.ipynb",
   "output_path": "__notebook__.ipynb",
   "parameters": {},
   "start_time": "2022-10-31T16:40:48.981257",
   "version": "2.3.4"
  }
 },
 "nbformat": 4,
 "nbformat_minor": 5
}
