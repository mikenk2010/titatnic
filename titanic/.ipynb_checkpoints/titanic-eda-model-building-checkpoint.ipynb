{
 "cells": [
  {
   "cell_type": "markdown",
   "metadata": {
    "_kg_hide-input": false,
    "_kg_hide-output": false
   },
   "source": [
    "# <center><span style=\"color:white;font-weight:bolder;background-color:#000066;padding:7px;border-radius:7px\">🔥🔥EDA & Model Building of Titanic DataSet🔥🔥</span></center>\n",
    "\n",
    "#### <center><span style=\"color:white;font-weight:bolder;background-color:#000066;padding:7px;border-radius:7px\">If you find this notebook useful or interesting, please, support with an upvote :)</span></center>\n",
    "\n",
    "<center><img style=\"border-radius:10px\" src=\"https://c4.wallpaperflare.com/wallpaper/621/139/660/night-ice-uk-transatlantic-steamer-titanic-hd-wallpaper-preview.jpg\" alt=\"titanic image\"/></center>"
   ]
  },
  {
   "cell_type": "markdown",
   "metadata": {},
   "source": [
    "## <span style=\"color:white;font-weight:bolder;background-color:#000066;padding:7px;border-radius:7px\">Short intro about Titanic</span>\n",
    "\n",
    "<p><span style=\"color:#023e8a;font-weight:bold\">RMS Titanic was a British passenger liner, operated by the White Star Line, which sank in the North Atlantic Ocean on 15 April 1912 after striking an iceberg during her maiden voyage from Southampton, UK, to New York City, United States. Of the estimated 2,224 passengers and crew aboard, more than 1,500 died, making it the deadliest sinking of a single ship up to that time. It remains the deadliest peacetime sinking of a superliner or cruise ship. RMS Titanic was the largest ship afloat at the time she entered service and the second of three Olympic-class ocean liners operated by the White Star Line.</span></p>\n",
    "\n",
    "<p><span style=\"color:#023e8a;font-weight:bold\">The Titanic was on her maiden voyage, a return trip from Britain to America. The outward route was to be Southampton, England – Cherbourg, France – Queenstown, Ireland – New York, USA.</span></p>\n",
    "\n",
    "## <span style=\"color:white;font-weight:bolder;background-color:#000066;padding:7px;border-radius:7px\">Table of Content</span>\n",
    "\n",
    "* [**<span style=\"color:#023e8a;\">1. Import necessary libraries</span>**](#imports)\n",
    "* [**<span style=\"color:#023e8a;\">2. Load the dataset & basic info</span>**](#load_dataset)\n",
    "* [**<span style=\"color:#023e8a;\">3. EDA</span>**](#eda)\n",
    "* [**<span style=\"color:#023e8a;\">4. Prepare the DataSet for the model building</span>**](#prepare_data)\n",
    "* [**<span style=\"color:#023e8a;\">5. Model building</span>**](#model_building)\n",
    "\n",
    "## <span style=\"color:white;font-weight:bolder;background-color:#000066;padding:7px;border-radius:7px\">Necessary files (dataset) path</span>\n",
    "* **<span style=\"color:#023e8a\">/kaggle/input/titanic/train.csv</span>**\n",
    "* **<span style=\"color:#023e8a\">/kaggle/input/titanic/test.csv</span>**\n",
    "* **<span style=\"color:#023e8a\">/kaggle/input/titanic/gender_submission.csv</span>**"
   ]
  },
  {
   "cell_type": "markdown",
   "metadata": {},
   "source": [
    "# <span style=\"color:white;font-weight:bolder;background-color:#000066;padding:7px;border-radius:7px\" id=\"imports\">1. Import necessary libraries</span>"
   ]
  },
  {
   "cell_type": "code",
   "execution_count": 104,
   "metadata": {
    "execution": {
     "iopub.execute_input": "2022-11-26T05:18:21.696623Z",
     "iopub.status.busy": "2022-11-26T05:18:21.696182Z",
     "iopub.status.idle": "2022-11-26T05:18:21.703294Z",
     "shell.execute_reply": "2022-11-26T05:18:21.702424Z",
     "shell.execute_reply.started": "2022-11-26T05:18:21.696586Z"
    }
   },
   "outputs": [],
   "source": [
    "import numpy as np\n",
    "import pandas as pd\n",
    "\n",
    "import matplotlib.pyplot as plt\n",
    "from matplotlib.patches import Circle\n",
    "import seaborn as sns\n",
    "\n",
    "from sklearn.model_selection import train_test_split, GridSearchCV\n",
    "from sklearn.preprocessing import LabelEncoder, OneHotEncoder\n",
    "from sklearn.linear_model import LogisticRegression\n",
    "from sklearn.neighbors import KNeighborsClassifier\n",
    "from sklearn.compose import ColumnTransformer\n",
    "from sklearn.metrics import accuracy_score"
   ]
  },
  {
   "cell_type": "markdown",
   "metadata": {},
   "source": [
    "# <span style=\"color:white;font-weight:bolder;background-color:#000066;padding:7px;border-radius:7px\" id=\"load_dataset\">2. Load the dataset & basic info</span>\n",
    "\n",
    "### <center><span style=\"color:white;font-weight:bolder;background-color:#023e8a;padding:7px;border-radius:7px\">Data dictionary</span></center>\n",
    "\n",
    "| <span style=\"color:#023e8a;font-weight:bolder\">Column Name</span> | <span style=\"color:#023e8a;font-weight:bolder\">Defination</span> | <span style=\"color:#023e8a;font-weight:bolder\">Key</span> |\n",
    "| :-- | :-- | :-- |\n",
    "| <span style=\"color:#023e8a;font-weight:bold\">Survived</span> | <span style=\"color:#023e8a;\">Survival</span> | <span style=\"color:#023e8a;\">0=No, 1=Yes</span> |\n",
    "| <span style=\"color:#023e8a;font-weight:bold\">Pclass</span> | <span style=\"color:#023e8a;\">Ticket class</span> | <span style=\"color:#023e8a;\">1 = 1st, 2 = 2nd, 3 = 3rd</span> |\n",
    "| <span style=\"color:#023e8a;font-weight:bold\">Name</span> | <span style=\"color:#023e8a;\">Name of the passengers</span> | |\n",
    "| <span style=\"color:#023e8a;font-weight:bold\">Sex</span> | <span style=\"color:#023e8a;\">Gender of the passengers</span> | |\n",
    "| <span style=\"color:#023e8a;font-weight:bold\">Age</span> | <span style=\"color:#023e8a;\">Age of the passengers</span> | |\n",
    "| <span style=\"color:#023e8a;font-weight:bold\">SibSp</span> | <span style=\"color:#023e8a;\"># of siblings / spouses aboard the Titanic</span> | |\n",
    "| <span style=\"color:#023e8a;font-weight:bold\">Parch</span> | <span style=\"color:#023e8a;\"># of parents / children aboard the Titanic</span> | |\n",
    "| <span style=\"color:#023e8a;font-weight:bold\">Ticket</span> | <span style=\"color:#023e8a;\">Ticket number</span> | |\n",
    "| <span style=\"color:#023e8a;font-weight:bold\">Fare</span> | <span style=\"color:#023e8a;\">Passenger fare</span> | |\n",
    "| <span style=\"color:#023e8a;font-weight:bold\">Cabin</span> | <span style=\"color:#023e8a;\">Cabin number</span> | |\n",
    "| <span style=\"color:#023e8a;font-weight:bold\">Embarked</span> | <span style=\"color:#023e8a;\">Port of Embarkation</span> | <span style=\"color:#023e8a;\">C = Cherbourg, Q = Queenstown, S = Southampton</span> |"
   ]
  },
  {
   "cell_type": "code",
   "execution_count": 105,
   "metadata": {
    "_kg_hide-input": true,
    "execution": {
     "iopub.execute_input": "2022-11-26T05:18:21.709668Z",
     "iopub.status.busy": "2022-11-26T05:18:21.708755Z",
     "iopub.status.idle": "2022-11-26T05:18:21.726839Z",
     "shell.execute_reply": "2022-11-26T05:18:21.725331Z",
     "shell.execute_reply.started": "2022-11-26T05:18:21.709588Z"
    }
   },
   "outputs": [],
   "source": [
    "df = pd.read_csv(\"/kaggle/input/titanic/train.csv\")\n",
    "df = df.drop(columns=[\"PassengerId\"], axis=1)"
   ]
  },
  {
   "cell_type": "code",
   "execution_count": 106,
   "metadata": {
    "_kg_hide-input": true,
    "execution": {
     "iopub.execute_input": "2022-11-26T05:18:21.729241Z",
     "iopub.status.busy": "2022-11-26T05:18:21.728897Z",
     "iopub.status.idle": "2022-11-26T05:18:21.771267Z",
     "shell.execute_reply": "2022-11-26T05:18:21.770317Z",
     "shell.execute_reply.started": "2022-11-26T05:18:21.729210Z"
    }
   },
   "outputs": [
    {
     "data": {
      "text/html": [
       "<style type=\"text/css\">\n",
       "#T_5fa91_ td:hover {\n",
       "  background-color: #000066;\n",
       "  color: white;\n",
       "}\n",
       "#T_5fa91_ .index_name {\n",
       "  font-style: italic;\n",
       "  color: darkgrey;\n",
       "  font-weight: normal;\n",
       "}\n",
       "#T_5fa91_ th:not(.index_name) {\n",
       "  background-color: #000066;\n",
       "  color: white;\n",
       "}\n",
       "#T_5fa91_row0_col0, #T_5fa91_row0_col1, #T_5fa91_row0_col2, #T_5fa91_row0_col3, #T_5fa91_row0_col4, #T_5fa91_row0_col5, #T_5fa91_row0_col6, #T_5fa91_row0_col7, #T_5fa91_row0_col8, #T_5fa91_row0_col10, #T_5fa91_row1_col0, #T_5fa91_row1_col1, #T_5fa91_row1_col2, #T_5fa91_row1_col3, #T_5fa91_row1_col4, #T_5fa91_row1_col5, #T_5fa91_row1_col6, #T_5fa91_row1_col7, #T_5fa91_row1_col8, #T_5fa91_row1_col9, #T_5fa91_row1_col10, #T_5fa91_row2_col0, #T_5fa91_row2_col1, #T_5fa91_row2_col2, #T_5fa91_row2_col3, #T_5fa91_row2_col4, #T_5fa91_row2_col5, #T_5fa91_row2_col6, #T_5fa91_row2_col7, #T_5fa91_row2_col8, #T_5fa91_row2_col10, #T_5fa91_row3_col0, #T_5fa91_row3_col1, #T_5fa91_row3_col2, #T_5fa91_row3_col3, #T_5fa91_row3_col4, #T_5fa91_row3_col5, #T_5fa91_row3_col6, #T_5fa91_row3_col7, #T_5fa91_row3_col8, #T_5fa91_row3_col10, #T_5fa91_row4_col0, #T_5fa91_row4_col1, #T_5fa91_row4_col2, #T_5fa91_row4_col3, #T_5fa91_row4_col4, #T_5fa91_row4_col5, #T_5fa91_row4_col6, #T_5fa91_row4_col7, #T_5fa91_row4_col8, #T_5fa91_row4_col9, #T_5fa91_row4_col10, #T_5fa91_row5_col0, #T_5fa91_row5_col1, #T_5fa91_row5_col2, #T_5fa91_row5_col3, #T_5fa91_row5_col4, #T_5fa91_row5_col5, #T_5fa91_row5_col6, #T_5fa91_row5_col7, #T_5fa91_row5_col8, #T_5fa91_row5_col10, #T_5fa91_row6_col0, #T_5fa91_row6_col1, #T_5fa91_row6_col2, #T_5fa91_row6_col3, #T_5fa91_row6_col4, #T_5fa91_row6_col5, #T_5fa91_row6_col6, #T_5fa91_row6_col7, #T_5fa91_row6_col8, #T_5fa91_row6_col10, #T_5fa91_row7_col0, #T_5fa91_row7_col1, #T_5fa91_row7_col2, #T_5fa91_row7_col3, #T_5fa91_row7_col4, #T_5fa91_row7_col5, #T_5fa91_row7_col6, #T_5fa91_row7_col7, #T_5fa91_row7_col8, #T_5fa91_row7_col9, #T_5fa91_row7_col10, #T_5fa91_row8_col0, #T_5fa91_row8_col1, #T_5fa91_row8_col2, #T_5fa91_row8_col3, #T_5fa91_row8_col5, #T_5fa91_row8_col6, #T_5fa91_row8_col7, #T_5fa91_row8_col8, #T_5fa91_row8_col10, #T_5fa91_row9_col0, #T_5fa91_row9_col1, #T_5fa91_row9_col2, #T_5fa91_row9_col3, #T_5fa91_row9_col4, #T_5fa91_row9_col5, #T_5fa91_row9_col6, #T_5fa91_row9_col7, #T_5fa91_row9_col8, #T_5fa91_row9_col10 {\n",
       "  background-color: #023e8a;\n",
       "  color: white;\n",
       "  border: 1.3px solid white;\n",
       "}\n",
       "#T_5fa91_row0_col9, #T_5fa91_row2_col9, #T_5fa91_row3_col9, #T_5fa91_row5_col9, #T_5fa91_row6_col9, #T_5fa91_row8_col4, #T_5fa91_row8_col9, #T_5fa91_row9_col9 {\n",
       "  background-color: #023e8a;\n",
       "  color: white;\n",
       "  border: 1.3px solid white;\n",
       "  background-color: #c600de;\n",
       "}\n",
       "</style>\n",
       "<table id=\"T_5fa91_\">\n",
       "  <caption>10 sample records from the dataset.</caption>\n",
       "  <thead>\n",
       "    <tr>\n",
       "      <th class=\"blank level0\" >&nbsp;</th>\n",
       "      <th class=\"col_heading level0 col0\" >Survived</th>\n",
       "      <th class=\"col_heading level0 col1\" >Pclass</th>\n",
       "      <th class=\"col_heading level0 col2\" >Name</th>\n",
       "      <th class=\"col_heading level0 col3\" >Sex</th>\n",
       "      <th class=\"col_heading level0 col4\" >Age</th>\n",
       "      <th class=\"col_heading level0 col5\" >SibSp</th>\n",
       "      <th class=\"col_heading level0 col6\" >Parch</th>\n",
       "      <th class=\"col_heading level0 col7\" >Ticket</th>\n",
       "      <th class=\"col_heading level0 col8\" >Fare</th>\n",
       "      <th class=\"col_heading level0 col9\" >Cabin</th>\n",
       "      <th class=\"col_heading level0 col10\" >Embarked</th>\n",
       "    </tr>\n",
       "  </thead>\n",
       "  <tbody>\n",
       "    <tr>\n",
       "      <th id=\"T_5fa91_level0_row0\" class=\"row_heading level0 row0\" >526</th>\n",
       "      <td id=\"T_5fa91_row0_col0\" class=\"data row0 col0\" >1</td>\n",
       "      <td id=\"T_5fa91_row0_col1\" class=\"data row0 col1\" >2</td>\n",
       "      <td id=\"T_5fa91_row0_col2\" class=\"data row0 col2\" >Ridsdale, Miss. Lucy</td>\n",
       "      <td id=\"T_5fa91_row0_col3\" class=\"data row0 col3\" >female</td>\n",
       "      <td id=\"T_5fa91_row0_col4\" class=\"data row0 col4\" >50.000000</td>\n",
       "      <td id=\"T_5fa91_row0_col5\" class=\"data row0 col5\" >0</td>\n",
       "      <td id=\"T_5fa91_row0_col6\" class=\"data row0 col6\" >0</td>\n",
       "      <td id=\"T_5fa91_row0_col7\" class=\"data row0 col7\" >W./C. 14258</td>\n",
       "      <td id=\"T_5fa91_row0_col8\" class=\"data row0 col8\" >10.500000</td>\n",
       "      <td id=\"T_5fa91_row0_col9\" class=\"data row0 col9\" >nan</td>\n",
       "      <td id=\"T_5fa91_row0_col10\" class=\"data row0 col10\" >S</td>\n",
       "    </tr>\n",
       "    <tr>\n",
       "      <th id=\"T_5fa91_level0_row1\" class=\"row_heading level0 row1\" >299</th>\n",
       "      <td id=\"T_5fa91_row1_col0\" class=\"data row1 col0\" >1</td>\n",
       "      <td id=\"T_5fa91_row1_col1\" class=\"data row1 col1\" >1</td>\n",
       "      <td id=\"T_5fa91_row1_col2\" class=\"data row1 col2\" >Baxter, Mrs. James (Helene DeLaudeniere Chaput)</td>\n",
       "      <td id=\"T_5fa91_row1_col3\" class=\"data row1 col3\" >female</td>\n",
       "      <td id=\"T_5fa91_row1_col4\" class=\"data row1 col4\" >50.000000</td>\n",
       "      <td id=\"T_5fa91_row1_col5\" class=\"data row1 col5\" >0</td>\n",
       "      <td id=\"T_5fa91_row1_col6\" class=\"data row1 col6\" >1</td>\n",
       "      <td id=\"T_5fa91_row1_col7\" class=\"data row1 col7\" >PC 17558</td>\n",
       "      <td id=\"T_5fa91_row1_col8\" class=\"data row1 col8\" >247.520800</td>\n",
       "      <td id=\"T_5fa91_row1_col9\" class=\"data row1 col9\" >B58 B60</td>\n",
       "      <td id=\"T_5fa91_row1_col10\" class=\"data row1 col10\" >C</td>\n",
       "    </tr>\n",
       "    <tr>\n",
       "      <th id=\"T_5fa91_level0_row2\" class=\"row_heading level0 row2\" >747</th>\n",
       "      <td id=\"T_5fa91_row2_col0\" class=\"data row2 col0\" >1</td>\n",
       "      <td id=\"T_5fa91_row2_col1\" class=\"data row2 col1\" >2</td>\n",
       "      <td id=\"T_5fa91_row2_col2\" class=\"data row2 col2\" >Sinkkonen, Miss. Anna</td>\n",
       "      <td id=\"T_5fa91_row2_col3\" class=\"data row2 col3\" >female</td>\n",
       "      <td id=\"T_5fa91_row2_col4\" class=\"data row2 col4\" >30.000000</td>\n",
       "      <td id=\"T_5fa91_row2_col5\" class=\"data row2 col5\" >0</td>\n",
       "      <td id=\"T_5fa91_row2_col6\" class=\"data row2 col6\" >0</td>\n",
       "      <td id=\"T_5fa91_row2_col7\" class=\"data row2 col7\" >250648</td>\n",
       "      <td id=\"T_5fa91_row2_col8\" class=\"data row2 col8\" >13.000000</td>\n",
       "      <td id=\"T_5fa91_row2_col9\" class=\"data row2 col9\" >nan</td>\n",
       "      <td id=\"T_5fa91_row2_col10\" class=\"data row2 col10\" >S</td>\n",
       "    </tr>\n",
       "    <tr>\n",
       "      <th id=\"T_5fa91_level0_row3\" class=\"row_heading level0 row3\" >827</th>\n",
       "      <td id=\"T_5fa91_row3_col0\" class=\"data row3 col0\" >1</td>\n",
       "      <td id=\"T_5fa91_row3_col1\" class=\"data row3 col1\" >2</td>\n",
       "      <td id=\"T_5fa91_row3_col2\" class=\"data row3 col2\" >Mallet, Master. Andre</td>\n",
       "      <td id=\"T_5fa91_row3_col3\" class=\"data row3 col3\" >male</td>\n",
       "      <td id=\"T_5fa91_row3_col4\" class=\"data row3 col4\" >1.000000</td>\n",
       "      <td id=\"T_5fa91_row3_col5\" class=\"data row3 col5\" >0</td>\n",
       "      <td id=\"T_5fa91_row3_col6\" class=\"data row3 col6\" >2</td>\n",
       "      <td id=\"T_5fa91_row3_col7\" class=\"data row3 col7\" >S.C./PARIS 2079</td>\n",
       "      <td id=\"T_5fa91_row3_col8\" class=\"data row3 col8\" >37.004200</td>\n",
       "      <td id=\"T_5fa91_row3_col9\" class=\"data row3 col9\" >nan</td>\n",
       "      <td id=\"T_5fa91_row3_col10\" class=\"data row3 col10\" >C</td>\n",
       "    </tr>\n",
       "    <tr>\n",
       "      <th id=\"T_5fa91_level0_row4\" class=\"row_heading level0 row4\" >393</th>\n",
       "      <td id=\"T_5fa91_row4_col0\" class=\"data row4 col0\" >1</td>\n",
       "      <td id=\"T_5fa91_row4_col1\" class=\"data row4 col1\" >1</td>\n",
       "      <td id=\"T_5fa91_row4_col2\" class=\"data row4 col2\" >Newell, Miss. Marjorie</td>\n",
       "      <td id=\"T_5fa91_row4_col3\" class=\"data row4 col3\" >female</td>\n",
       "      <td id=\"T_5fa91_row4_col4\" class=\"data row4 col4\" >23.000000</td>\n",
       "      <td id=\"T_5fa91_row4_col5\" class=\"data row4 col5\" >1</td>\n",
       "      <td id=\"T_5fa91_row4_col6\" class=\"data row4 col6\" >0</td>\n",
       "      <td id=\"T_5fa91_row4_col7\" class=\"data row4 col7\" >35273</td>\n",
       "      <td id=\"T_5fa91_row4_col8\" class=\"data row4 col8\" >113.275000</td>\n",
       "      <td id=\"T_5fa91_row4_col9\" class=\"data row4 col9\" >D36</td>\n",
       "      <td id=\"T_5fa91_row4_col10\" class=\"data row4 col10\" >C</td>\n",
       "    </tr>\n",
       "    <tr>\n",
       "      <th id=\"T_5fa91_level0_row5\" class=\"row_heading level0 row5\" >326</th>\n",
       "      <td id=\"T_5fa91_row5_col0\" class=\"data row5 col0\" >0</td>\n",
       "      <td id=\"T_5fa91_row5_col1\" class=\"data row5 col1\" >3</td>\n",
       "      <td id=\"T_5fa91_row5_col2\" class=\"data row5 col2\" >Nysveen, Mr. Johan Hansen</td>\n",
       "      <td id=\"T_5fa91_row5_col3\" class=\"data row5 col3\" >male</td>\n",
       "      <td id=\"T_5fa91_row5_col4\" class=\"data row5 col4\" >61.000000</td>\n",
       "      <td id=\"T_5fa91_row5_col5\" class=\"data row5 col5\" >0</td>\n",
       "      <td id=\"T_5fa91_row5_col6\" class=\"data row5 col6\" >0</td>\n",
       "      <td id=\"T_5fa91_row5_col7\" class=\"data row5 col7\" >345364</td>\n",
       "      <td id=\"T_5fa91_row5_col8\" class=\"data row5 col8\" >6.237500</td>\n",
       "      <td id=\"T_5fa91_row5_col9\" class=\"data row5 col9\" >nan</td>\n",
       "      <td id=\"T_5fa91_row5_col10\" class=\"data row5 col10\" >S</td>\n",
       "    </tr>\n",
       "    <tr>\n",
       "      <th id=\"T_5fa91_level0_row6\" class=\"row_heading level0 row6\" >603</th>\n",
       "      <td id=\"T_5fa91_row6_col0\" class=\"data row6 col0\" >0</td>\n",
       "      <td id=\"T_5fa91_row6_col1\" class=\"data row6 col1\" >3</td>\n",
       "      <td id=\"T_5fa91_row6_col2\" class=\"data row6 col2\" >Torber, Mr. Ernst William</td>\n",
       "      <td id=\"T_5fa91_row6_col3\" class=\"data row6 col3\" >male</td>\n",
       "      <td id=\"T_5fa91_row6_col4\" class=\"data row6 col4\" >44.000000</td>\n",
       "      <td id=\"T_5fa91_row6_col5\" class=\"data row6 col5\" >0</td>\n",
       "      <td id=\"T_5fa91_row6_col6\" class=\"data row6 col6\" >0</td>\n",
       "      <td id=\"T_5fa91_row6_col7\" class=\"data row6 col7\" >364511</td>\n",
       "      <td id=\"T_5fa91_row6_col8\" class=\"data row6 col8\" >8.050000</td>\n",
       "      <td id=\"T_5fa91_row6_col9\" class=\"data row6 col9\" >nan</td>\n",
       "      <td id=\"T_5fa91_row6_col10\" class=\"data row6 col10\" >S</td>\n",
       "    </tr>\n",
       "    <tr>\n",
       "      <th id=\"T_5fa91_level0_row7\" class=\"row_heading level0 row7\" >710</th>\n",
       "      <td id=\"T_5fa91_row7_col0\" class=\"data row7 col0\" >1</td>\n",
       "      <td id=\"T_5fa91_row7_col1\" class=\"data row7 col1\" >1</td>\n",
       "      <td id=\"T_5fa91_row7_col2\" class=\"data row7 col2\" >Mayne, Mlle. Berthe Antonine (\"Mrs de Villiers\")</td>\n",
       "      <td id=\"T_5fa91_row7_col3\" class=\"data row7 col3\" >female</td>\n",
       "      <td id=\"T_5fa91_row7_col4\" class=\"data row7 col4\" >24.000000</td>\n",
       "      <td id=\"T_5fa91_row7_col5\" class=\"data row7 col5\" >0</td>\n",
       "      <td id=\"T_5fa91_row7_col6\" class=\"data row7 col6\" >0</td>\n",
       "      <td id=\"T_5fa91_row7_col7\" class=\"data row7 col7\" >PC 17482</td>\n",
       "      <td id=\"T_5fa91_row7_col8\" class=\"data row7 col8\" >49.504200</td>\n",
       "      <td id=\"T_5fa91_row7_col9\" class=\"data row7 col9\" >C90</td>\n",
       "      <td id=\"T_5fa91_row7_col10\" class=\"data row7 col10\" >C</td>\n",
       "    </tr>\n",
       "    <tr>\n",
       "      <th id=\"T_5fa91_level0_row8\" class=\"row_heading level0 row8\" >863</th>\n",
       "      <td id=\"T_5fa91_row8_col0\" class=\"data row8 col0\" >0</td>\n",
       "      <td id=\"T_5fa91_row8_col1\" class=\"data row8 col1\" >3</td>\n",
       "      <td id=\"T_5fa91_row8_col2\" class=\"data row8 col2\" >Sage, Miss. Dorothy Edith \"Dolly\"</td>\n",
       "      <td id=\"T_5fa91_row8_col3\" class=\"data row8 col3\" >female</td>\n",
       "      <td id=\"T_5fa91_row8_col4\" class=\"data row8 col4\" >nan</td>\n",
       "      <td id=\"T_5fa91_row8_col5\" class=\"data row8 col5\" >8</td>\n",
       "      <td id=\"T_5fa91_row8_col6\" class=\"data row8 col6\" >2</td>\n",
       "      <td id=\"T_5fa91_row8_col7\" class=\"data row8 col7\" >CA. 2343</td>\n",
       "      <td id=\"T_5fa91_row8_col8\" class=\"data row8 col8\" >69.550000</td>\n",
       "      <td id=\"T_5fa91_row8_col9\" class=\"data row8 col9\" >nan</td>\n",
       "      <td id=\"T_5fa91_row8_col10\" class=\"data row8 col10\" >S</td>\n",
       "    </tr>\n",
       "    <tr>\n",
       "      <th id=\"T_5fa91_level0_row9\" class=\"row_heading level0 row9\" >246</th>\n",
       "      <td id=\"T_5fa91_row9_col0\" class=\"data row9 col0\" >0</td>\n",
       "      <td id=\"T_5fa91_row9_col1\" class=\"data row9 col1\" >3</td>\n",
       "      <td id=\"T_5fa91_row9_col2\" class=\"data row9 col2\" >Lindahl, Miss. Agda Thorilda Viktoria</td>\n",
       "      <td id=\"T_5fa91_row9_col3\" class=\"data row9 col3\" >female</td>\n",
       "      <td id=\"T_5fa91_row9_col4\" class=\"data row9 col4\" >25.000000</td>\n",
       "      <td id=\"T_5fa91_row9_col5\" class=\"data row9 col5\" >0</td>\n",
       "      <td id=\"T_5fa91_row9_col6\" class=\"data row9 col6\" >0</td>\n",
       "      <td id=\"T_5fa91_row9_col7\" class=\"data row9 col7\" >347071</td>\n",
       "      <td id=\"T_5fa91_row9_col8\" class=\"data row9 col8\" >7.775000</td>\n",
       "      <td id=\"T_5fa91_row9_col9\" class=\"data row9 col9\" >nan</td>\n",
       "      <td id=\"T_5fa91_row9_col10\" class=\"data row9 col10\" >S</td>\n",
       "    </tr>\n",
       "  </tbody>\n",
       "</table>\n"
      ],
      "text/plain": [
       "<pandas.io.formats.style.Styler at 0x7f671d486850>"
      ]
     },
     "execution_count": 106,
     "metadata": {},
     "output_type": "execute_result"
    }
   ],
   "source": [
    "cell_hover = {  # for row hover use <tr> instead of <td>\n",
    "    'selector': 'td:hover',\n",
    "    'props': 'background-color: #000066; color: white'\n",
    "#     'props': [('background-color', '#ffffb3'; 'color')]\n",
    "}\n",
    "index_names = {\n",
    "    'selector': '.index_name',\n",
    "    'props': 'font-style: italic; color: darkgrey; font-weight:normal;'\n",
    "}\n",
    "headers = {\n",
    "    'selector': 'th:not(.index_name)',\n",
    "    'props': 'background-color: #000066; color: white;'\n",
    "}\n",
    "\n",
    "styles = df.sample(10).style.set_table_styles([cell_hover, index_names, headers]).set_properties(**{\"background-color\": \"#023e8a\",\"color\":\"white\",\"border\": \"1.3px solid white\"}).highlight_null(null_color=\"#c600de\").set_caption(\"10 sample records from the dataset.\")\n",
    "styles"
   ]
  },
  {
   "cell_type": "code",
   "execution_count": 107,
   "metadata": {
    "execution": {
     "iopub.execute_input": "2022-11-26T05:18:21.773447Z",
     "iopub.status.busy": "2022-11-26T05:18:21.773052Z",
     "iopub.status.idle": "2022-11-26T05:18:21.788486Z",
     "shell.execute_reply": "2022-11-26T05:18:21.787246Z",
     "shell.execute_reply.started": "2022-11-26T05:18:21.773413Z"
    }
   },
   "outputs": [
    {
     "name": "stdout",
     "output_type": "stream",
     "text": [
      "\u001b[1mSome basic information about the dataset.\u001b[0m\n",
      "\n",
      "<class 'pandas.core.frame.DataFrame'>\n",
      "RangeIndex: 891 entries, 0 to 890\n",
      "Data columns (total 11 columns):\n",
      " #   Column    Non-Null Count  Dtype  \n",
      "---  ------    --------------  -----  \n",
      " 0   Survived  891 non-null    int64  \n",
      " 1   Pclass    891 non-null    int64  \n",
      " 2   Name      891 non-null    object \n",
      " 3   Sex       891 non-null    object \n",
      " 4   Age       714 non-null    float64\n",
      " 5   SibSp     891 non-null    int64  \n",
      " 6   Parch     891 non-null    int64  \n",
      " 7   Ticket    891 non-null    object \n",
      " 8   Fare      891 non-null    float64\n",
      " 9   Cabin     204 non-null    object \n",
      " 10  Embarked  889 non-null    object \n",
      "dtypes: float64(2), int64(4), object(5)\n",
      "memory usage: 76.7+ KB\n"
     ]
    }
   ],
   "source": [
    "print(\"\\033[1mSome basic information about the dataset.\\033[0m\\n\")\n",
    "\n",
    "df.info()"
   ]
  },
  {
   "cell_type": "markdown",
   "metadata": {},
   "source": [
    "<span style=\"color:#023e8a;font-weight:bolder\">Total 891 records are there. And can see that \"Age\", \"Cabin\" have large number of missing values. Also \"Embarked\" has 2 missing values. Also can see the datatypes of every features. But for now, lets see how much % these features have missing values.</span>"
   ]
  },
  {
   "cell_type": "markdown",
   "metadata": {},
   "source": [
    "# <span style=\"color:white;font-weight:bolder;background-color:#000066;padding:7px;border-radius:7px\" id=\"eda\">3. Exploratory Data Analysis</span>"
   ]
  },
  {
   "cell_type": "code",
   "execution_count": 108,
   "metadata": {
    "_kg_hide-input": true,
    "execution": {
     "iopub.execute_input": "2022-11-26T05:18:21.791102Z",
     "iopub.status.busy": "2022-11-26T05:18:21.790235Z",
     "iopub.status.idle": "2022-11-26T05:18:21.811774Z",
     "shell.execute_reply": "2022-11-26T05:18:21.810558Z",
     "shell.execute_reply.started": "2022-11-26T05:18:21.791052Z"
    }
   },
   "outputs": [
    {
     "data": {
      "text/html": [
       "<style type=\"text/css\">\n",
       "#T_f152a_ td:hover {\n",
       "  background-color: #000066;\n",
       "  color: white;\n",
       "}\n",
       "#T_f152a_ .index_name {\n",
       "  font-style: italic;\n",
       "  color: darkgrey;\n",
       "  font-weight: normal;\n",
       "}\n",
       "#T_f152a_ th:not(.index_name) {\n",
       "  background-color: #000066;\n",
       "  color: white;\n",
       "}\n",
       "#T_f152a_row0_col0, #T_f152a_row1_col0, #T_f152a_row2_col0, #T_f152a_row3_col0, #T_f152a_row5_col0, #T_f152a_row6_col0, #T_f152a_row7_col0, #T_f152a_row8_col0, #T_f152a_row10_col0 {\n",
       "  background-color: #023e8a;\n",
       "  color: white;\n",
       "  border: 1.3px solid white;\n",
       "}\n",
       "#T_f152a_row4_col0, #T_f152a_row9_col0 {\n",
       "  background-color: #023e8a;\n",
       "  color: white;\n",
       "  border: 1.3px solid white;\n",
       "  background-color: #c600de;\n",
       "  color: white;\n",
       "}\n",
       "</style>\n",
       "<table id=\"T_f152a_\">\n",
       "  <caption>Missing values to every column in terms of %</caption>\n",
       "  <thead>\n",
       "    <tr>\n",
       "      <th class=\"blank level0\" >&nbsp;</th>\n",
       "      <th class=\"col_heading level0 col0\" >%</th>\n",
       "    </tr>\n",
       "  </thead>\n",
       "  <tbody>\n",
       "    <tr>\n",
       "      <th id=\"T_f152a_level0_row0\" class=\"row_heading level0 row0\" >Survived</th>\n",
       "      <td id=\"T_f152a_row0_col0\" class=\"data row0 col0\" >0.000000</td>\n",
       "    </tr>\n",
       "    <tr>\n",
       "      <th id=\"T_f152a_level0_row1\" class=\"row_heading level0 row1\" >Pclass</th>\n",
       "      <td id=\"T_f152a_row1_col0\" class=\"data row1 col0\" >0.000000</td>\n",
       "    </tr>\n",
       "    <tr>\n",
       "      <th id=\"T_f152a_level0_row2\" class=\"row_heading level0 row2\" >Name</th>\n",
       "      <td id=\"T_f152a_row2_col0\" class=\"data row2 col0\" >0.000000</td>\n",
       "    </tr>\n",
       "    <tr>\n",
       "      <th id=\"T_f152a_level0_row3\" class=\"row_heading level0 row3\" >Sex</th>\n",
       "      <td id=\"T_f152a_row3_col0\" class=\"data row3 col0\" >0.000000</td>\n",
       "    </tr>\n",
       "    <tr>\n",
       "      <th id=\"T_f152a_level0_row4\" class=\"row_heading level0 row4\" >Age</th>\n",
       "      <td id=\"T_f152a_row4_col0\" class=\"data row4 col0\" >19.865320</td>\n",
       "    </tr>\n",
       "    <tr>\n",
       "      <th id=\"T_f152a_level0_row5\" class=\"row_heading level0 row5\" >SibSp</th>\n",
       "      <td id=\"T_f152a_row5_col0\" class=\"data row5 col0\" >0.000000</td>\n",
       "    </tr>\n",
       "    <tr>\n",
       "      <th id=\"T_f152a_level0_row6\" class=\"row_heading level0 row6\" >Parch</th>\n",
       "      <td id=\"T_f152a_row6_col0\" class=\"data row6 col0\" >0.000000</td>\n",
       "    </tr>\n",
       "    <tr>\n",
       "      <th id=\"T_f152a_level0_row7\" class=\"row_heading level0 row7\" >Ticket</th>\n",
       "      <td id=\"T_f152a_row7_col0\" class=\"data row7 col0\" >0.000000</td>\n",
       "    </tr>\n",
       "    <tr>\n",
       "      <th id=\"T_f152a_level0_row8\" class=\"row_heading level0 row8\" >Fare</th>\n",
       "      <td id=\"T_f152a_row8_col0\" class=\"data row8 col0\" >0.000000</td>\n",
       "    </tr>\n",
       "    <tr>\n",
       "      <th id=\"T_f152a_level0_row9\" class=\"row_heading level0 row9\" >Cabin</th>\n",
       "      <td id=\"T_f152a_row9_col0\" class=\"data row9 col0\" >77.104377</td>\n",
       "    </tr>\n",
       "    <tr>\n",
       "      <th id=\"T_f152a_level0_row10\" class=\"row_heading level0 row10\" >Embarked</th>\n",
       "      <td id=\"T_f152a_row10_col0\" class=\"data row10 col0\" >0.224467</td>\n",
       "    </tr>\n",
       "  </tbody>\n",
       "</table>\n"
      ],
      "text/plain": [
       "<pandas.io.formats.style.Styler at 0x7f66e9796a90>"
      ]
     },
     "execution_count": 108,
     "metadata": {},
     "output_type": "execute_result"
    }
   ],
   "source": [
    "def highlight_10_per_missing(s):\n",
    "    '''\n",
    "    highlight yellow is value is greater than mean else red.\n",
    "    '''\n",
    "    is_max = s > 10\n",
    "    return ['background-color: #c600de; color: white' if i else None for i in is_max]\n",
    "\n",
    "total_missing = pd.DataFrame(df.isnull().sum() / df.shape[0] * 100, columns=[\"%\"])\n",
    "total_missing.style.set_table_styles([cell_hover, index_names, headers]).set_properties(**{\"background-color\": \"#023e8a\",\"color\":\"white\",\"border\": \"1.3px solid white\"}).highlight_null(null_color=\"#c600de\").apply(highlight_10_per_missing).set_caption(\"Missing values to every column in terms of %\")"
   ]
  },
  {
   "cell_type": "markdown",
   "metadata": {},
   "source": [
    "<span style=\"color:#023e8a;font-weight:bolder\">Surprising but interesting result! \"Age\" and \"Cabin\" have lots of missing values, 19.87% and 77.10% respectively which is huge. Next let's see some statistical values by simply calling *describe()* method.</span>"
   ]
  },
  {
   "cell_type": "code",
   "execution_count": 109,
   "metadata": {
    "_kg_hide-input": true,
    "execution": {
     "iopub.execute_input": "2022-11-26T05:18:21.814950Z",
     "iopub.status.busy": "2022-11-26T05:18:21.814596Z",
     "iopub.status.idle": "2022-11-26T05:18:21.857435Z",
     "shell.execute_reply": "2022-11-26T05:18:21.856094Z",
     "shell.execute_reply.started": "2022-11-26T05:18:21.814919Z"
    }
   },
   "outputs": [
    {
     "data": {
      "text/html": [
       "<style type=\"text/css\">\n",
       "#T_eda66_ td:hover {\n",
       "  background-color: #000066;\n",
       "  color: white;\n",
       "}\n",
       "#T_eda66_ .index_name {\n",
       "  font-style: italic;\n",
       "  color: darkgrey;\n",
       "  font-weight: normal;\n",
       "}\n",
       "#T_eda66_ th:not(.index_name) {\n",
       "  background-color: #000066;\n",
       "  color: white;\n",
       "}\n",
       "#T_eda66_row0_col0, #T_eda66_row0_col1, #T_eda66_row0_col2, #T_eda66_row0_col3, #T_eda66_row0_col4, #T_eda66_row0_col5, #T_eda66_row1_col0, #T_eda66_row1_col1, #T_eda66_row1_col2, #T_eda66_row1_col3, #T_eda66_row1_col4, #T_eda66_row1_col5, #T_eda66_row2_col0, #T_eda66_row2_col1, #T_eda66_row2_col2, #T_eda66_row2_col3, #T_eda66_row2_col4, #T_eda66_row2_col5, #T_eda66_row3_col0, #T_eda66_row3_col1, #T_eda66_row3_col2, #T_eda66_row3_col3, #T_eda66_row3_col4, #T_eda66_row3_col5, #T_eda66_row4_col0, #T_eda66_row4_col1, #T_eda66_row4_col2, #T_eda66_row4_col3, #T_eda66_row4_col4, #T_eda66_row4_col5, #T_eda66_row5_col0, #T_eda66_row5_col1, #T_eda66_row5_col2, #T_eda66_row5_col3, #T_eda66_row5_col4, #T_eda66_row5_col5, #T_eda66_row6_col0, #T_eda66_row6_col1, #T_eda66_row6_col2, #T_eda66_row6_col3, #T_eda66_row6_col4, #T_eda66_row6_col5, #T_eda66_row7_col0, #T_eda66_row7_col1, #T_eda66_row7_col2, #T_eda66_row7_col3, #T_eda66_row7_col4, #T_eda66_row7_col5 {\n",
       "  background-color: #023e8a;\n",
       "  color: white;\n",
       "  border: 1.3px solid white;\n",
       "}\n",
       "</style>\n",
       "<table id=\"T_eda66_\">\n",
       "  <caption>Some basic statistical values of the dataset.</caption>\n",
       "  <thead>\n",
       "    <tr>\n",
       "      <th class=\"blank level0\" >&nbsp;</th>\n",
       "      <th class=\"col_heading level0 col0\" >Survived</th>\n",
       "      <th class=\"col_heading level0 col1\" >Pclass</th>\n",
       "      <th class=\"col_heading level0 col2\" >Age</th>\n",
       "      <th class=\"col_heading level0 col3\" >SibSp</th>\n",
       "      <th class=\"col_heading level0 col4\" >Parch</th>\n",
       "      <th class=\"col_heading level0 col5\" >Fare</th>\n",
       "    </tr>\n",
       "  </thead>\n",
       "  <tbody>\n",
       "    <tr>\n",
       "      <th id=\"T_eda66_level0_row0\" class=\"row_heading level0 row0\" >count</th>\n",
       "      <td id=\"T_eda66_row0_col0\" class=\"data row0 col0\" >891.000000</td>\n",
       "      <td id=\"T_eda66_row0_col1\" class=\"data row0 col1\" >891.000000</td>\n",
       "      <td id=\"T_eda66_row0_col2\" class=\"data row0 col2\" >714.000000</td>\n",
       "      <td id=\"T_eda66_row0_col3\" class=\"data row0 col3\" >891.000000</td>\n",
       "      <td id=\"T_eda66_row0_col4\" class=\"data row0 col4\" >891.000000</td>\n",
       "      <td id=\"T_eda66_row0_col5\" class=\"data row0 col5\" >891.000000</td>\n",
       "    </tr>\n",
       "    <tr>\n",
       "      <th id=\"T_eda66_level0_row1\" class=\"row_heading level0 row1\" >mean</th>\n",
       "      <td id=\"T_eda66_row1_col0\" class=\"data row1 col0\" >0.383838</td>\n",
       "      <td id=\"T_eda66_row1_col1\" class=\"data row1 col1\" >2.308642</td>\n",
       "      <td id=\"T_eda66_row1_col2\" class=\"data row1 col2\" >29.699118</td>\n",
       "      <td id=\"T_eda66_row1_col3\" class=\"data row1 col3\" >0.523008</td>\n",
       "      <td id=\"T_eda66_row1_col4\" class=\"data row1 col4\" >0.381594</td>\n",
       "      <td id=\"T_eda66_row1_col5\" class=\"data row1 col5\" >32.204208</td>\n",
       "    </tr>\n",
       "    <tr>\n",
       "      <th id=\"T_eda66_level0_row2\" class=\"row_heading level0 row2\" >std</th>\n",
       "      <td id=\"T_eda66_row2_col0\" class=\"data row2 col0\" >0.486592</td>\n",
       "      <td id=\"T_eda66_row2_col1\" class=\"data row2 col1\" >0.836071</td>\n",
       "      <td id=\"T_eda66_row2_col2\" class=\"data row2 col2\" >14.526497</td>\n",
       "      <td id=\"T_eda66_row2_col3\" class=\"data row2 col3\" >1.102743</td>\n",
       "      <td id=\"T_eda66_row2_col4\" class=\"data row2 col4\" >0.806057</td>\n",
       "      <td id=\"T_eda66_row2_col5\" class=\"data row2 col5\" >49.693429</td>\n",
       "    </tr>\n",
       "    <tr>\n",
       "      <th id=\"T_eda66_level0_row3\" class=\"row_heading level0 row3\" >min</th>\n",
       "      <td id=\"T_eda66_row3_col0\" class=\"data row3 col0\" >0.000000</td>\n",
       "      <td id=\"T_eda66_row3_col1\" class=\"data row3 col1\" >1.000000</td>\n",
       "      <td id=\"T_eda66_row3_col2\" class=\"data row3 col2\" >0.420000</td>\n",
       "      <td id=\"T_eda66_row3_col3\" class=\"data row3 col3\" >0.000000</td>\n",
       "      <td id=\"T_eda66_row3_col4\" class=\"data row3 col4\" >0.000000</td>\n",
       "      <td id=\"T_eda66_row3_col5\" class=\"data row3 col5\" >0.000000</td>\n",
       "    </tr>\n",
       "    <tr>\n",
       "      <th id=\"T_eda66_level0_row4\" class=\"row_heading level0 row4\" >25%</th>\n",
       "      <td id=\"T_eda66_row4_col0\" class=\"data row4 col0\" >0.000000</td>\n",
       "      <td id=\"T_eda66_row4_col1\" class=\"data row4 col1\" >2.000000</td>\n",
       "      <td id=\"T_eda66_row4_col2\" class=\"data row4 col2\" >20.125000</td>\n",
       "      <td id=\"T_eda66_row4_col3\" class=\"data row4 col3\" >0.000000</td>\n",
       "      <td id=\"T_eda66_row4_col4\" class=\"data row4 col4\" >0.000000</td>\n",
       "      <td id=\"T_eda66_row4_col5\" class=\"data row4 col5\" >7.910400</td>\n",
       "    </tr>\n",
       "    <tr>\n",
       "      <th id=\"T_eda66_level0_row5\" class=\"row_heading level0 row5\" >50%</th>\n",
       "      <td id=\"T_eda66_row5_col0\" class=\"data row5 col0\" >0.000000</td>\n",
       "      <td id=\"T_eda66_row5_col1\" class=\"data row5 col1\" >3.000000</td>\n",
       "      <td id=\"T_eda66_row5_col2\" class=\"data row5 col2\" >28.000000</td>\n",
       "      <td id=\"T_eda66_row5_col3\" class=\"data row5 col3\" >0.000000</td>\n",
       "      <td id=\"T_eda66_row5_col4\" class=\"data row5 col4\" >0.000000</td>\n",
       "      <td id=\"T_eda66_row5_col5\" class=\"data row5 col5\" >14.454200</td>\n",
       "    </tr>\n",
       "    <tr>\n",
       "      <th id=\"T_eda66_level0_row6\" class=\"row_heading level0 row6\" >75%</th>\n",
       "      <td id=\"T_eda66_row6_col0\" class=\"data row6 col0\" >1.000000</td>\n",
       "      <td id=\"T_eda66_row6_col1\" class=\"data row6 col1\" >3.000000</td>\n",
       "      <td id=\"T_eda66_row6_col2\" class=\"data row6 col2\" >38.000000</td>\n",
       "      <td id=\"T_eda66_row6_col3\" class=\"data row6 col3\" >1.000000</td>\n",
       "      <td id=\"T_eda66_row6_col4\" class=\"data row6 col4\" >0.000000</td>\n",
       "      <td id=\"T_eda66_row6_col5\" class=\"data row6 col5\" >31.000000</td>\n",
       "    </tr>\n",
       "    <tr>\n",
       "      <th id=\"T_eda66_level0_row7\" class=\"row_heading level0 row7\" >max</th>\n",
       "      <td id=\"T_eda66_row7_col0\" class=\"data row7 col0\" >1.000000</td>\n",
       "      <td id=\"T_eda66_row7_col1\" class=\"data row7 col1\" >3.000000</td>\n",
       "      <td id=\"T_eda66_row7_col2\" class=\"data row7 col2\" >80.000000</td>\n",
       "      <td id=\"T_eda66_row7_col3\" class=\"data row7 col3\" >8.000000</td>\n",
       "      <td id=\"T_eda66_row7_col4\" class=\"data row7 col4\" >6.000000</td>\n",
       "      <td id=\"T_eda66_row7_col5\" class=\"data row7 col5\" >512.329200</td>\n",
       "    </tr>\n",
       "  </tbody>\n",
       "</table>\n"
      ],
      "text/plain": [
       "<pandas.io.formats.style.Styler at 0x7f66e95c7d90>"
      ]
     },
     "execution_count": 109,
     "metadata": {},
     "output_type": "execute_result"
    }
   ],
   "source": [
    "df.describe().style.set_table_styles([cell_hover, index_names, headers]).set_properties(**{\"background-color\": \"#023e8a\",\"color\":\"white\",\"border\": \"1.3px solid white\"}).highlight_null(null_color=\"#c600de\").set_caption(\"Some basic statistical values of the dataset.\")"
   ]
  },
  {
   "cell_type": "markdown",
   "metadata": {},
   "source": [
    "<span style=\"color:#023e8a;font-weight:bolder\">The \"Survived\" column is categorical column, that's why these values have no meaning. Same as for the column \"Pclass\" (which holds some ordinal values). Average age of the passengers are around 30 years and minimum age is 0.42 years (It could be new born baby or also can be a bias). Some interesting facts also happend with the \"Fare\" column. Minimum fare is 0 (surprising) and maximum is 512. The difference is lots. Also there is a huge gap between maximum fare price and the average fare. And from the columns \"SibSp\" and \"Parch\", we can tell that most of the passengers were travelling along.</span>"
   ]
  },
  {
   "cell_type": "code",
   "execution_count": 110,
   "metadata": {
    "_kg_hide-input": true,
    "execution": {
     "iopub.execute_input": "2022-11-26T05:18:21.859400Z",
     "iopub.status.busy": "2022-11-26T05:18:21.859032Z",
     "iopub.status.idle": "2022-11-26T05:18:21.882761Z",
     "shell.execute_reply": "2022-11-26T05:18:21.881547Z",
     "shell.execute_reply.started": "2022-11-26T05:18:21.859363Z"
    }
   },
   "outputs": [
    {
     "name": "stdout",
     "output_type": "stream",
     "text": [
      "Unique values of 'Parch' column:\n",
      "[0 1 2 5 3 4 6] \n",
      "\n",
      "Unique values of 'SibSp' column:\n",
      "[1 0 3 4 2 5 8] \n",
      "\n"
     ]
    },
    {
     "data": {
      "text/html": [
       "<style type=\"text/css\">\n",
       "#T_37352_ td:hover {\n",
       "  background-color: #000066;\n",
       "  color: white;\n",
       "}\n",
       "#T_37352_ .index_name {\n",
       "  font-style: italic;\n",
       "  color: darkgrey;\n",
       "  font-weight: normal;\n",
       "}\n",
       "#T_37352_ th:not(.index_name) {\n",
       "  background-color: #000066;\n",
       "  color: white;\n",
       "}\n",
       "#T_37352_row0_col0, #T_37352_row0_col1, #T_37352_row1_col0, #T_37352_row1_col1 {\n",
       "  background-color: #023e8a;\n",
       "  color: white;\n",
       "  border: 1.3px solid white;\n",
       "}\n",
       "</style>\n",
       "<table id=\"T_37352_\">\n",
       "  <caption>Pearson Corr of Age and Fare columns</caption>\n",
       "  <thead>\n",
       "    <tr>\n",
       "      <th class=\"blank level0\" >&nbsp;</th>\n",
       "      <th class=\"col_heading level0 col0\" >Age</th>\n",
       "      <th class=\"col_heading level0 col1\" >Fare</th>\n",
       "    </tr>\n",
       "  </thead>\n",
       "  <tbody>\n",
       "    <tr>\n",
       "      <th id=\"T_37352_level0_row0\" class=\"row_heading level0 row0\" >Age</th>\n",
       "      <td id=\"T_37352_row0_col0\" class=\"data row0 col0\" >1.000000</td>\n",
       "      <td id=\"T_37352_row0_col1\" class=\"data row0 col1\" >0.096067</td>\n",
       "    </tr>\n",
       "    <tr>\n",
       "      <th id=\"T_37352_level0_row1\" class=\"row_heading level0 row1\" >Fare</th>\n",
       "      <td id=\"T_37352_row1_col0\" class=\"data row1 col0\" >0.096067</td>\n",
       "      <td id=\"T_37352_row1_col1\" class=\"data row1 col1\" >1.000000</td>\n",
       "    </tr>\n",
       "  </tbody>\n",
       "</table>\n"
      ],
      "text/plain": [
       "<pandas.io.formats.style.Styler at 0x7f671d4b3ad0>"
      ]
     },
     "execution_count": 110,
     "metadata": {},
     "output_type": "execute_result"
    }
   ],
   "source": [
    "print(\"Unique values of 'Parch' column:\")\n",
    "print(df[\"Parch\"].unique(), \"\\n\")\n",
    "print(\"Unique values of 'SibSp' column:\")\n",
    "print(df[\"SibSp\"].unique(), \"\\n\")\n",
    "df.corr().iloc[2::3][[\"Age\", \"Fare\"]].style.set_table_styles([cell_hover, index_names, headers]).set_properties(**{\"background-color\": \"#023e8a\",\"color\":\"white\",\"border\": \"1.3px solid white\"}).highlight_null(null_color=\"#c600de\").apply(highlight_10_per_missing).set_caption(\"Pearson Corr of Age and Fare columns\")  # Pearson Corr"
   ]
  },
  {
   "cell_type": "markdown",
   "metadata": {},
   "source": [
    "<span style=\"color:#023e8a;font-weight:bolder\">On the above cell, we are doing Pearson correlation. As we can see that the \"SibSP\" and \"Parch\" column has no continuous values, there are invalid for this type of correlation matrix. Same reason with the \"Survived\", \"Pclass\" columns. And according to the result, we can tell that there is no linear relationship between the two columns \"Age\" and \"Fare\".</span>\n",
    "\n",
    "\n",
    "<span style=\"color:white;font-weight:bolder;background-color:#023e8a;padding:7px;border-radius:7px;font-size:20px\">Pearson Correlation Formula</span>\n",
    "\n",
    "$$\\Large Covariance \\ (c) = \\frac{1}{n-1}\\sum_{i=1}^{n}{(x_i - \\bar{x})(y_i - \\bar{y})}$$\n",
    "\n",
    "$$\\Large Correlation \\ (r) = \\frac{\\sum_{i=1}^{n}{(x_i - \\bar{x})(y_i - \\bar{y})}}{\\sqrt{\\sum_{i=1}^{n}{(x_i - \\bar{x})^2} \\sum_{i=1}^{n}{(y_i - \\bar{y})^2}}}$$\n",
    "\n",
    "<span style=\"color:#023e8a;font-weight:bolder;font-size:16px\">P-Value of correlation coefficient:</span>\n",
    "$$\\Large t_{n-2} = \\frac{r\\sqrt{n-2}}{1-r^2}$$\n",
    "\n",
    "<b style=\"color:#023e8a;font-weight:bolder;font-size:16px\">Limitations of Pearson Correlation:</b>\n",
    "- <span style=\"color:#023e8a;font-weight:bolder\">1. Pearson correlation can over or under represent relationships if the two features contain nonlinearities or outliers.</span>\n",
    "- <span style=\"color:#023e8a;font-weight:bolder\">2. Pearson correlation is appropriate for narmally distributed data.</span>\n",
    "\n",
    "\n",
    "<span style=\"color:white;font-weight:bolder;background-color:#023e8a;padding:7px;border-radius:7px;font-size:20px\">Spearman (rank) Correlation</span>\n",
    "\n",
    "<b style=\"color:#023e8a;font-weight:bolder;font-size:16px\">Info:</b>\n",
    "- <span style=\"color:#023e8a;font-weight:bolder\">Spearman's rho tests for a monotonic relationship regardless of whether the relationship is linear or nonlinear.</span>\n",
    "- <span style=\"color:#023e8a;font-weight:bolder\">A monotonic relationship tests for increasing or decreasing numbers, regardless of the spacing between numbers.</span>\n",
    "\n",
    "\n",
    "<span style=\"color:#023e8a;font-weight:bolder;font-size:16px\">How to compute the Spearman correlation:</span>\n",
    "- <span style=\"color:#023e8a;font-weight:bolder\">Step 1: Transform both variables/features to rank. E.g., ([3321654, -40, 1, 0] => [4, 1, 3, 2])</span>\n",
    "- <span style=\"color:#023e8a;font-weight:bolder\">Step 2: Compute Pearson correlation coefficient on ranks.</span>\n",
    "- <span style=\"color:#023e8a;font-weight:bolder\">P-Value: Same as for \"regular\" Pearson coefficient.</span>\n",
    "\n",
    "\n",
    "\n"
   ]
  },
  {
   "cell_type": "code",
   "execution_count": 111,
   "metadata": {
    "_kg_hide-input": true,
    "execution": {
     "iopub.execute_input": "2022-11-26T05:18:21.884725Z",
     "iopub.status.busy": "2022-11-26T05:18:21.884269Z",
     "iopub.status.idle": "2022-11-26T05:18:21.906331Z",
     "shell.execute_reply": "2022-11-26T05:18:21.905165Z",
     "shell.execute_reply.started": "2022-11-26T05:18:21.884683Z"
    }
   },
   "outputs": [
    {
     "data": {
      "text/html": [
       "<style type=\"text/css\">\n",
       "#T_60943_ td:hover {\n",
       "  background-color: #000066;\n",
       "  color: white;\n",
       "}\n",
       "#T_60943_ .index_name {\n",
       "  font-style: italic;\n",
       "  color: darkgrey;\n",
       "  font-weight: normal;\n",
       "}\n",
       "#T_60943_ th:not(.index_name) {\n",
       "  background-color: #000066;\n",
       "  color: white;\n",
       "}\n",
       "#T_60943_row0_col0, #T_60943_row0_col1, #T_60943_row1_col0, #T_60943_row1_col1 {\n",
       "  background-color: #023e8a;\n",
       "  color: white;\n",
       "  border: 1.3px solid white;\n",
       "}\n",
       "</style>\n",
       "<table id=\"T_60943_\">\n",
       "  <caption>Spearman corr between Age and Fare column</caption>\n",
       "  <thead>\n",
       "    <tr>\n",
       "      <th class=\"blank level0\" >&nbsp;</th>\n",
       "      <th class=\"col_heading level0 col0\" >Age</th>\n",
       "      <th class=\"col_heading level0 col1\" >Fare</th>\n",
       "    </tr>\n",
       "  </thead>\n",
       "  <tbody>\n",
       "    <tr>\n",
       "      <th id=\"T_60943_level0_row0\" class=\"row_heading level0 row0\" >Age</th>\n",
       "      <td id=\"T_60943_row0_col0\" class=\"data row0 col0\" >1.000000</td>\n",
       "      <td id=\"T_60943_row0_col1\" class=\"data row0 col1\" >0.135051</td>\n",
       "    </tr>\n",
       "    <tr>\n",
       "      <th id=\"T_60943_level0_row1\" class=\"row_heading level0 row1\" >Fare</th>\n",
       "      <td id=\"T_60943_row1_col0\" class=\"data row1 col0\" >0.135051</td>\n",
       "      <td id=\"T_60943_row1_col1\" class=\"data row1 col1\" >1.000000</td>\n",
       "    </tr>\n",
       "  </tbody>\n",
       "</table>\n"
      ],
      "text/plain": [
       "<pandas.io.formats.style.Styler at 0x7f671d4867d0>"
      ]
     },
     "execution_count": 111,
     "metadata": {},
     "output_type": "execute_result"
    }
   ],
   "source": [
    "# Spearman correlation\n",
    "df.corr(method=\"spearman\").iloc[2::3][[\"Age\", \"Fare\"]].style.set_table_styles([cell_hover, index_names, headers]).set_properties(**{\"background-color\": \"#023e8a\",\"color\":\"white\",\"border\": \"1.3px solid white\"}).highlight_null(null_color=\"#c600de\").set_caption(\"Spearman corr between Age and Fare column\")"
   ]
  },
  {
   "cell_type": "markdown",
   "metadata": {},
   "source": [
    "<span style=\"color:#023e8a;font-weight:bolder\">Now we have got a different result with Spearman Correlation compared to Pearson Correlation. By comparing the two results, we can say that there is a slight nonlinear relationship between \"Age\" and \"Fare\" column. But the relationship is not so strong.</span>\n",
    "\n",
    "<span style=\"color:white;font-weight:bolder;background-color:#023e8a;padding:7px;border-radius:7px;font-size:20px\">Kendall's Correlation</span>\n",
    "\n",
    "<b style=\"color:#023e8a;font-weight:bolder;font-size:16px\">Info:</b>\n",
    "- <span style=\"color:#023e8a;font-weight:bolder\">Used for ordinal data (numerical meaningful order, but no fixed relationship across the levels).</span>\n",
    "- <span style=\"color:#023e8a;font-weight:bolder\">Examples: education, movie ratings</span>\n",
    "\n",
    "<span style=\"color:#023e8a;font-weight:bolder\">We can do Kendall's Correlation between the \"Pclass\", \"Parch\", \"SibSp\" columns because these are the only Ordinal data. \"Name\", \"Sex\", \"Embarked\" are nominal data. So lets do the Kendall's Correlation.</span>"
   ]
  },
  {
   "cell_type": "code",
   "execution_count": 112,
   "metadata": {
    "_kg_hide-input": true,
    "execution": {
     "iopub.execute_input": "2022-11-26T05:18:21.910676Z",
     "iopub.status.busy": "2022-11-26T05:18:21.908291Z",
     "iopub.status.idle": "2022-11-26T05:18:21.950516Z",
     "shell.execute_reply": "2022-11-26T05:18:21.949253Z",
     "shell.execute_reply.started": "2022-11-26T05:18:21.910625Z"
    }
   },
   "outputs": [
    {
     "data": {
      "text/html": [
       "<style type=\"text/css\">\n",
       "#T_3b4f3_ td:hover {\n",
       "  background-color: #000066;\n",
       "  color: white;\n",
       "}\n",
       "#T_3b4f3_ .index_name {\n",
       "  font-style: italic;\n",
       "  color: darkgrey;\n",
       "  font-weight: normal;\n",
       "}\n",
       "#T_3b4f3_ th:not(.index_name) {\n",
       "  background-color: #000066;\n",
       "  color: white;\n",
       "}\n",
       "#T_3b4f3_row0_col0, #T_3b4f3_row0_col1, #T_3b4f3_row0_col2, #T_3b4f3_row1_col0, #T_3b4f3_row1_col1, #T_3b4f3_row1_col2, #T_3b4f3_row2_col0, #T_3b4f3_row2_col1, #T_3b4f3_row2_col2 {\n",
       "  background-color: #023e8a;\n",
       "  color: white;\n",
       "  border: 1.3px solid white;\n",
       "}\n",
       "</style>\n",
       "<table id=\"T_3b4f3_\">\n",
       "  <caption>Kendall's Corr for the Ordinal columns</caption>\n",
       "  <thead>\n",
       "    <tr>\n",
       "      <th class=\"blank level0\" >&nbsp;</th>\n",
       "      <th class=\"col_heading level0 col0\" >Pclass</th>\n",
       "      <th class=\"col_heading level0 col1\" >SibSp</th>\n",
       "      <th class=\"col_heading level0 col2\" >Parch</th>\n",
       "    </tr>\n",
       "  </thead>\n",
       "  <tbody>\n",
       "    <tr>\n",
       "      <th id=\"T_3b4f3_level0_row0\" class=\"row_heading level0 row0\" >Pclass</th>\n",
       "      <td id=\"T_3b4f3_row0_col0\" class=\"data row0 col0\" >1.000000</td>\n",
       "      <td id=\"T_3b4f3_row0_col1\" class=\"data row0 col1\" >-0.039552</td>\n",
       "      <td id=\"T_3b4f3_row0_col2\" class=\"data row0 col2\" >-0.021019</td>\n",
       "    </tr>\n",
       "    <tr>\n",
       "      <th id=\"T_3b4f3_level0_row1\" class=\"row_heading level0 row1\" >SibSp</th>\n",
       "      <td id=\"T_3b4f3_row1_col0\" class=\"data row1 col0\" >-0.039552</td>\n",
       "      <td id=\"T_3b4f3_row1_col1\" class=\"data row1 col1\" >1.000000</td>\n",
       "      <td id=\"T_3b4f3_row1_col2\" class=\"data row1 col2\" >0.425241</td>\n",
       "    </tr>\n",
       "    <tr>\n",
       "      <th id=\"T_3b4f3_level0_row2\" class=\"row_heading level0 row2\" >Parch</th>\n",
       "      <td id=\"T_3b4f3_row2_col0\" class=\"data row2 col0\" >-0.021019</td>\n",
       "      <td id=\"T_3b4f3_row2_col1\" class=\"data row2 col1\" >0.425241</td>\n",
       "      <td id=\"T_3b4f3_row2_col2\" class=\"data row2 col2\" >1.000000</td>\n",
       "    </tr>\n",
       "  </tbody>\n",
       "</table>\n"
      ],
      "text/plain": [
       "<pandas.io.formats.style.Styler at 0x7f66e9881710>"
      ]
     },
     "execution_count": 112,
     "metadata": {},
     "output_type": "execute_result"
    }
   ],
   "source": [
    "corr1 = df.corr(method=\"kendall\").iloc[1:4:2][[\"Pclass\", \"SibSp\", \"Parch\"]]\n",
    "corr2 = df.corr(method=\"kendall\").iloc[4:-1][[\"Pclass\", \"SibSp\", \"Parch\"]]\n",
    "\n",
    "pd.concat([corr1, corr2], axis=0).style.set_table_styles([cell_hover, index_names, headers]).set_properties(**{\"background-color\": \"#023e8a\",\"color\":\"white\",\"border\": \"1.3px solid white\"}).highlight_null(null_color=\"#c600de\").set_caption(\"Kendall's Corr for the Ordinal columns\")"
   ]
  },
  {
   "cell_type": "markdown",
   "metadata": {},
   "source": [
    "<span style=\"color:#023e8a;font-weight:bolder\">From the result we can say that there is no relationship between the columns \"Pclass\" and \"SibSp\". Same situation was made with \"Pclass\" and \"Parch\". But there is a kind off strong relationship between \"Parch\" and \"SibSp\". These two columns tells a story of the passengers' family.</span>\n",
    "\n",
    "<span style=\"color:#023e8a;font-weight:bolder\">Next, we can convert the \"Sex\" column to numeric by using the LabelEncoder() class of Scikit Learn library. Also we can do feature engineering by adding the \"SibSP\" and \"Parch\" column together because together these 2 columns can say how much family were travelling with a passenger. So gave this new feature as \"family\". To know more how to do it, expand the code cells.</span>"
   ]
  },
  {
   "cell_type": "code",
   "execution_count": 113,
   "metadata": {
    "_kg_hide-input": true,
    "execution": {
     "iopub.execute_input": "2022-11-26T05:18:21.953868Z",
     "iopub.status.busy": "2022-11-26T05:18:21.953146Z",
     "iopub.status.idle": "2022-11-26T05:18:21.959413Z",
     "shell.execute_reply": "2022-11-26T05:18:21.958493Z",
     "shell.execute_reply.started": "2022-11-26T05:18:21.953829Z"
    }
   },
   "outputs": [],
   "source": [
    "# Label encoding to the gender column\n",
    "gender_le = LabelEncoder()\n",
    "df[\"Sex\"] = gender_le.fit_transform(df[\"Sex\"])"
   ]
  },
  {
   "cell_type": "code",
   "execution_count": 114,
   "metadata": {
    "_kg_hide-input": true,
    "execution": {
     "iopub.execute_input": "2022-11-26T05:18:21.960598Z",
     "iopub.status.busy": "2022-11-26T05:18:21.960287Z",
     "iopub.status.idle": "2022-11-26T05:18:22.008403Z",
     "shell.execute_reply": "2022-11-26T05:18:22.007139Z",
     "shell.execute_reply.started": "2022-11-26T05:18:21.960571Z"
    }
   },
   "outputs": [
    {
     "data": {
      "text/html": [
       "<style type=\"text/css\">\n",
       "#T_04cfc_ td:hover {\n",
       "  background-color: #000066;\n",
       "  color: white;\n",
       "}\n",
       "#T_04cfc_ .index_name {\n",
       "  font-style: italic;\n",
       "  color: darkgrey;\n",
       "  font-weight: normal;\n",
       "}\n",
       "#T_04cfc_ th:not(.index_name) {\n",
       "  background-color: #000066;\n",
       "  color: white;\n",
       "}\n",
       "#T_04cfc_row0_col0, #T_04cfc_row0_col1, #T_04cfc_row0_col2, #T_04cfc_row0_col3, #T_04cfc_row0_col4, #T_04cfc_row0_col5, #T_04cfc_row0_col6, #T_04cfc_row0_col7, #T_04cfc_row0_col8, #T_04cfc_row0_col9, #T_04cfc_row0_col10, #T_04cfc_row0_col11, #T_04cfc_row1_col0, #T_04cfc_row1_col1, #T_04cfc_row1_col2, #T_04cfc_row1_col3, #T_04cfc_row1_col4, #T_04cfc_row1_col5, #T_04cfc_row1_col6, #T_04cfc_row1_col7, #T_04cfc_row1_col8, #T_04cfc_row1_col9, #T_04cfc_row1_col10, #T_04cfc_row1_col11, #T_04cfc_row2_col0, #T_04cfc_row2_col1, #T_04cfc_row2_col2, #T_04cfc_row2_col3, #T_04cfc_row2_col4, #T_04cfc_row2_col5, #T_04cfc_row2_col6, #T_04cfc_row2_col7, #T_04cfc_row2_col8, #T_04cfc_row2_col10, #T_04cfc_row2_col11, #T_04cfc_row3_col0, #T_04cfc_row3_col1, #T_04cfc_row3_col2, #T_04cfc_row3_col3, #T_04cfc_row3_col4, #T_04cfc_row3_col5, #T_04cfc_row3_col6, #T_04cfc_row3_col7, #T_04cfc_row3_col8, #T_04cfc_row3_col10, #T_04cfc_row3_col11, #T_04cfc_row4_col0, #T_04cfc_row4_col1, #T_04cfc_row4_col2, #T_04cfc_row4_col3, #T_04cfc_row4_col4, #T_04cfc_row4_col5, #T_04cfc_row4_col6, #T_04cfc_row4_col7, #T_04cfc_row4_col8, #T_04cfc_row4_col9, #T_04cfc_row4_col10, #T_04cfc_row4_col11, #T_04cfc_row5_col0, #T_04cfc_row5_col1, #T_04cfc_row5_col2, #T_04cfc_row5_col3, #T_04cfc_row5_col4, #T_04cfc_row5_col5, #T_04cfc_row5_col6, #T_04cfc_row5_col7, #T_04cfc_row5_col8, #T_04cfc_row5_col9, #T_04cfc_row5_col10, #T_04cfc_row5_col11, #T_04cfc_row6_col0, #T_04cfc_row6_col1, #T_04cfc_row6_col2, #T_04cfc_row6_col3, #T_04cfc_row6_col4, #T_04cfc_row6_col5, #T_04cfc_row6_col6, #T_04cfc_row6_col7, #T_04cfc_row6_col8, #T_04cfc_row6_col10, #T_04cfc_row6_col11, #T_04cfc_row7_col0, #T_04cfc_row7_col1, #T_04cfc_row7_col2, #T_04cfc_row7_col3, #T_04cfc_row7_col4, #T_04cfc_row7_col5, #T_04cfc_row7_col6, #T_04cfc_row7_col7, #T_04cfc_row7_col8, #T_04cfc_row7_col10, #T_04cfc_row7_col11, #T_04cfc_row8_col0, #T_04cfc_row8_col1, #T_04cfc_row8_col2, #T_04cfc_row8_col3, #T_04cfc_row8_col5, #T_04cfc_row8_col6, #T_04cfc_row8_col7, #T_04cfc_row8_col8, #T_04cfc_row8_col10, #T_04cfc_row8_col11, #T_04cfc_row9_col0, #T_04cfc_row9_col1, #T_04cfc_row9_col2, #T_04cfc_row9_col3, #T_04cfc_row9_col4, #T_04cfc_row9_col5, #T_04cfc_row9_col6, #T_04cfc_row9_col7, #T_04cfc_row9_col8, #T_04cfc_row9_col10, #T_04cfc_row9_col11 {\n",
       "  background-color: #023e8a;\n",
       "  color: white;\n",
       "  border: 1.3px solid white;\n",
       "}\n",
       "#T_04cfc_row2_col9, #T_04cfc_row3_col9, #T_04cfc_row6_col9, #T_04cfc_row7_col9, #T_04cfc_row8_col4, #T_04cfc_row8_col9, #T_04cfc_row9_col9 {\n",
       "  background-color: #023e8a;\n",
       "  color: white;\n",
       "  border: 1.3px solid white;\n",
       "  background-color: #c600de;\n",
       "}\n",
       "</style>\n",
       "<table id=\"T_04cfc_\">\n",
       "  <caption>10 sample records from the dataset after the operations.</caption>\n",
       "  <thead>\n",
       "    <tr>\n",
       "      <th class=\"blank level0\" >&nbsp;</th>\n",
       "      <th class=\"col_heading level0 col0\" >Survived</th>\n",
       "      <th class=\"col_heading level0 col1\" >Pclass</th>\n",
       "      <th class=\"col_heading level0 col2\" >Name</th>\n",
       "      <th class=\"col_heading level0 col3\" >Sex</th>\n",
       "      <th class=\"col_heading level0 col4\" >Age</th>\n",
       "      <th class=\"col_heading level0 col5\" >SibSp</th>\n",
       "      <th class=\"col_heading level0 col6\" >Parch</th>\n",
       "      <th class=\"col_heading level0 col7\" >Ticket</th>\n",
       "      <th class=\"col_heading level0 col8\" >Fare</th>\n",
       "      <th class=\"col_heading level0 col9\" >Cabin</th>\n",
       "      <th class=\"col_heading level0 col10\" >Embarked</th>\n",
       "      <th class=\"col_heading level0 col11\" >family</th>\n",
       "    </tr>\n",
       "  </thead>\n",
       "  <tbody>\n",
       "    <tr>\n",
       "      <th id=\"T_04cfc_level0_row0\" class=\"row_heading level0 row0\" >245</th>\n",
       "      <td id=\"T_04cfc_row0_col0\" class=\"data row0 col0\" >0</td>\n",
       "      <td id=\"T_04cfc_row0_col1\" class=\"data row0 col1\" >1</td>\n",
       "      <td id=\"T_04cfc_row0_col2\" class=\"data row0 col2\" >Minahan, Dr. William Edward</td>\n",
       "      <td id=\"T_04cfc_row0_col3\" class=\"data row0 col3\" >1</td>\n",
       "      <td id=\"T_04cfc_row0_col4\" class=\"data row0 col4\" >44.000000</td>\n",
       "      <td id=\"T_04cfc_row0_col5\" class=\"data row0 col5\" >2</td>\n",
       "      <td id=\"T_04cfc_row0_col6\" class=\"data row0 col6\" >0</td>\n",
       "      <td id=\"T_04cfc_row0_col7\" class=\"data row0 col7\" >19928</td>\n",
       "      <td id=\"T_04cfc_row0_col8\" class=\"data row0 col8\" >90.000000</td>\n",
       "      <td id=\"T_04cfc_row0_col9\" class=\"data row0 col9\" >C78</td>\n",
       "      <td id=\"T_04cfc_row0_col10\" class=\"data row0 col10\" >Q</td>\n",
       "      <td id=\"T_04cfc_row0_col11\" class=\"data row0 col11\" >2</td>\n",
       "    </tr>\n",
       "    <tr>\n",
       "      <th id=\"T_04cfc_level0_row1\" class=\"row_heading level0 row1\" >394</th>\n",
       "      <td id=\"T_04cfc_row1_col0\" class=\"data row1 col0\" >1</td>\n",
       "      <td id=\"T_04cfc_row1_col1\" class=\"data row1 col1\" >3</td>\n",
       "      <td id=\"T_04cfc_row1_col2\" class=\"data row1 col2\" >Sandstrom, Mrs. Hjalmar (Agnes Charlotta Bengtsson)</td>\n",
       "      <td id=\"T_04cfc_row1_col3\" class=\"data row1 col3\" >0</td>\n",
       "      <td id=\"T_04cfc_row1_col4\" class=\"data row1 col4\" >24.000000</td>\n",
       "      <td id=\"T_04cfc_row1_col5\" class=\"data row1 col5\" >0</td>\n",
       "      <td id=\"T_04cfc_row1_col6\" class=\"data row1 col6\" >2</td>\n",
       "      <td id=\"T_04cfc_row1_col7\" class=\"data row1 col7\" >PP 9549</td>\n",
       "      <td id=\"T_04cfc_row1_col8\" class=\"data row1 col8\" >16.700000</td>\n",
       "      <td id=\"T_04cfc_row1_col9\" class=\"data row1 col9\" >G6</td>\n",
       "      <td id=\"T_04cfc_row1_col10\" class=\"data row1 col10\" >S</td>\n",
       "      <td id=\"T_04cfc_row1_col11\" class=\"data row1 col11\" >2</td>\n",
       "    </tr>\n",
       "    <tr>\n",
       "      <th id=\"T_04cfc_level0_row2\" class=\"row_heading level0 row2\" >350</th>\n",
       "      <td id=\"T_04cfc_row2_col0\" class=\"data row2 col0\" >0</td>\n",
       "      <td id=\"T_04cfc_row2_col1\" class=\"data row2 col1\" >3</td>\n",
       "      <td id=\"T_04cfc_row2_col2\" class=\"data row2 col2\" >Odahl, Mr. Nils Martin</td>\n",
       "      <td id=\"T_04cfc_row2_col3\" class=\"data row2 col3\" >1</td>\n",
       "      <td id=\"T_04cfc_row2_col4\" class=\"data row2 col4\" >23.000000</td>\n",
       "      <td id=\"T_04cfc_row2_col5\" class=\"data row2 col5\" >0</td>\n",
       "      <td id=\"T_04cfc_row2_col6\" class=\"data row2 col6\" >0</td>\n",
       "      <td id=\"T_04cfc_row2_col7\" class=\"data row2 col7\" >7267</td>\n",
       "      <td id=\"T_04cfc_row2_col8\" class=\"data row2 col8\" >9.225000</td>\n",
       "      <td id=\"T_04cfc_row2_col9\" class=\"data row2 col9\" >nan</td>\n",
       "      <td id=\"T_04cfc_row2_col10\" class=\"data row2 col10\" >S</td>\n",
       "      <td id=\"T_04cfc_row2_col11\" class=\"data row2 col11\" >0</td>\n",
       "    </tr>\n",
       "    <tr>\n",
       "      <th id=\"T_04cfc_level0_row3\" class=\"row_heading level0 row3\" >668</th>\n",
       "      <td id=\"T_04cfc_row3_col0\" class=\"data row3 col0\" >0</td>\n",
       "      <td id=\"T_04cfc_row3_col1\" class=\"data row3 col1\" >3</td>\n",
       "      <td id=\"T_04cfc_row3_col2\" class=\"data row3 col2\" >Cook, Mr. Jacob</td>\n",
       "      <td id=\"T_04cfc_row3_col3\" class=\"data row3 col3\" >1</td>\n",
       "      <td id=\"T_04cfc_row3_col4\" class=\"data row3 col4\" >43.000000</td>\n",
       "      <td id=\"T_04cfc_row3_col5\" class=\"data row3 col5\" >0</td>\n",
       "      <td id=\"T_04cfc_row3_col6\" class=\"data row3 col6\" >0</td>\n",
       "      <td id=\"T_04cfc_row3_col7\" class=\"data row3 col7\" >A/5 3536</td>\n",
       "      <td id=\"T_04cfc_row3_col8\" class=\"data row3 col8\" >8.050000</td>\n",
       "      <td id=\"T_04cfc_row3_col9\" class=\"data row3 col9\" >nan</td>\n",
       "      <td id=\"T_04cfc_row3_col10\" class=\"data row3 col10\" >S</td>\n",
       "      <td id=\"T_04cfc_row3_col11\" class=\"data row3 col11\" >0</td>\n",
       "    </tr>\n",
       "    <tr>\n",
       "      <th id=\"T_04cfc_level0_row4\" class=\"row_heading level0 row4\" >453</th>\n",
       "      <td id=\"T_04cfc_row4_col0\" class=\"data row4 col0\" >1</td>\n",
       "      <td id=\"T_04cfc_row4_col1\" class=\"data row4 col1\" >1</td>\n",
       "      <td id=\"T_04cfc_row4_col2\" class=\"data row4 col2\" >Goldenberg, Mr. Samuel L</td>\n",
       "      <td id=\"T_04cfc_row4_col3\" class=\"data row4 col3\" >1</td>\n",
       "      <td id=\"T_04cfc_row4_col4\" class=\"data row4 col4\" >49.000000</td>\n",
       "      <td id=\"T_04cfc_row4_col5\" class=\"data row4 col5\" >1</td>\n",
       "      <td id=\"T_04cfc_row4_col6\" class=\"data row4 col6\" >0</td>\n",
       "      <td id=\"T_04cfc_row4_col7\" class=\"data row4 col7\" >17453</td>\n",
       "      <td id=\"T_04cfc_row4_col8\" class=\"data row4 col8\" >89.104200</td>\n",
       "      <td id=\"T_04cfc_row4_col9\" class=\"data row4 col9\" >C92</td>\n",
       "      <td id=\"T_04cfc_row4_col10\" class=\"data row4 col10\" >C</td>\n",
       "      <td id=\"T_04cfc_row4_col11\" class=\"data row4 col11\" >1</td>\n",
       "    </tr>\n",
       "    <tr>\n",
       "      <th id=\"T_04cfc_level0_row5\" class=\"row_heading level0 row5\" >492</th>\n",
       "      <td id=\"T_04cfc_row5_col0\" class=\"data row5 col0\" >0</td>\n",
       "      <td id=\"T_04cfc_row5_col1\" class=\"data row5 col1\" >1</td>\n",
       "      <td id=\"T_04cfc_row5_col2\" class=\"data row5 col2\" >Molson, Mr. Harry Markland</td>\n",
       "      <td id=\"T_04cfc_row5_col3\" class=\"data row5 col3\" >1</td>\n",
       "      <td id=\"T_04cfc_row5_col4\" class=\"data row5 col4\" >55.000000</td>\n",
       "      <td id=\"T_04cfc_row5_col5\" class=\"data row5 col5\" >0</td>\n",
       "      <td id=\"T_04cfc_row5_col6\" class=\"data row5 col6\" >0</td>\n",
       "      <td id=\"T_04cfc_row5_col7\" class=\"data row5 col7\" >113787</td>\n",
       "      <td id=\"T_04cfc_row5_col8\" class=\"data row5 col8\" >30.500000</td>\n",
       "      <td id=\"T_04cfc_row5_col9\" class=\"data row5 col9\" >C30</td>\n",
       "      <td id=\"T_04cfc_row5_col10\" class=\"data row5 col10\" >S</td>\n",
       "      <td id=\"T_04cfc_row5_col11\" class=\"data row5 col11\" >0</td>\n",
       "    </tr>\n",
       "    <tr>\n",
       "      <th id=\"T_04cfc_level0_row6\" class=\"row_heading level0 row6\" >731</th>\n",
       "      <td id=\"T_04cfc_row6_col0\" class=\"data row6 col0\" >0</td>\n",
       "      <td id=\"T_04cfc_row6_col1\" class=\"data row6 col1\" >3</td>\n",
       "      <td id=\"T_04cfc_row6_col2\" class=\"data row6 col2\" >Hassan, Mr. Houssein G N</td>\n",
       "      <td id=\"T_04cfc_row6_col3\" class=\"data row6 col3\" >1</td>\n",
       "      <td id=\"T_04cfc_row6_col4\" class=\"data row6 col4\" >11.000000</td>\n",
       "      <td id=\"T_04cfc_row6_col5\" class=\"data row6 col5\" >0</td>\n",
       "      <td id=\"T_04cfc_row6_col6\" class=\"data row6 col6\" >0</td>\n",
       "      <td id=\"T_04cfc_row6_col7\" class=\"data row6 col7\" >2699</td>\n",
       "      <td id=\"T_04cfc_row6_col8\" class=\"data row6 col8\" >18.787500</td>\n",
       "      <td id=\"T_04cfc_row6_col9\" class=\"data row6 col9\" >nan</td>\n",
       "      <td id=\"T_04cfc_row6_col10\" class=\"data row6 col10\" >C</td>\n",
       "      <td id=\"T_04cfc_row6_col11\" class=\"data row6 col11\" >0</td>\n",
       "    </tr>\n",
       "    <tr>\n",
       "      <th id=\"T_04cfc_level0_row7\" class=\"row_heading level0 row7\" >217</th>\n",
       "      <td id=\"T_04cfc_row7_col0\" class=\"data row7 col0\" >0</td>\n",
       "      <td id=\"T_04cfc_row7_col1\" class=\"data row7 col1\" >2</td>\n",
       "      <td id=\"T_04cfc_row7_col2\" class=\"data row7 col2\" >Jacobsohn, Mr. Sidney Samuel</td>\n",
       "      <td id=\"T_04cfc_row7_col3\" class=\"data row7 col3\" >1</td>\n",
       "      <td id=\"T_04cfc_row7_col4\" class=\"data row7 col4\" >42.000000</td>\n",
       "      <td id=\"T_04cfc_row7_col5\" class=\"data row7 col5\" >1</td>\n",
       "      <td id=\"T_04cfc_row7_col6\" class=\"data row7 col6\" >0</td>\n",
       "      <td id=\"T_04cfc_row7_col7\" class=\"data row7 col7\" >243847</td>\n",
       "      <td id=\"T_04cfc_row7_col8\" class=\"data row7 col8\" >27.000000</td>\n",
       "      <td id=\"T_04cfc_row7_col9\" class=\"data row7 col9\" >nan</td>\n",
       "      <td id=\"T_04cfc_row7_col10\" class=\"data row7 col10\" >S</td>\n",
       "      <td id=\"T_04cfc_row7_col11\" class=\"data row7 col11\" >1</td>\n",
       "    </tr>\n",
       "    <tr>\n",
       "      <th id=\"T_04cfc_level0_row8\" class=\"row_heading level0 row8\" >47</th>\n",
       "      <td id=\"T_04cfc_row8_col0\" class=\"data row8 col0\" >1</td>\n",
       "      <td id=\"T_04cfc_row8_col1\" class=\"data row8 col1\" >3</td>\n",
       "      <td id=\"T_04cfc_row8_col2\" class=\"data row8 col2\" >O'Driscoll, Miss. Bridget</td>\n",
       "      <td id=\"T_04cfc_row8_col3\" class=\"data row8 col3\" >0</td>\n",
       "      <td id=\"T_04cfc_row8_col4\" class=\"data row8 col4\" >nan</td>\n",
       "      <td id=\"T_04cfc_row8_col5\" class=\"data row8 col5\" >0</td>\n",
       "      <td id=\"T_04cfc_row8_col6\" class=\"data row8 col6\" >0</td>\n",
       "      <td id=\"T_04cfc_row8_col7\" class=\"data row8 col7\" >14311</td>\n",
       "      <td id=\"T_04cfc_row8_col8\" class=\"data row8 col8\" >7.750000</td>\n",
       "      <td id=\"T_04cfc_row8_col9\" class=\"data row8 col9\" >nan</td>\n",
       "      <td id=\"T_04cfc_row8_col10\" class=\"data row8 col10\" >Q</td>\n",
       "      <td id=\"T_04cfc_row8_col11\" class=\"data row8 col11\" >0</td>\n",
       "    </tr>\n",
       "    <tr>\n",
       "      <th id=\"T_04cfc_level0_row9\" class=\"row_heading level0 row9\" >373</th>\n",
       "      <td id=\"T_04cfc_row9_col0\" class=\"data row9 col0\" >0</td>\n",
       "      <td id=\"T_04cfc_row9_col1\" class=\"data row9 col1\" >1</td>\n",
       "      <td id=\"T_04cfc_row9_col2\" class=\"data row9 col2\" >Ringhini, Mr. Sante</td>\n",
       "      <td id=\"T_04cfc_row9_col3\" class=\"data row9 col3\" >1</td>\n",
       "      <td id=\"T_04cfc_row9_col4\" class=\"data row9 col4\" >22.000000</td>\n",
       "      <td id=\"T_04cfc_row9_col5\" class=\"data row9 col5\" >0</td>\n",
       "      <td id=\"T_04cfc_row9_col6\" class=\"data row9 col6\" >0</td>\n",
       "      <td id=\"T_04cfc_row9_col7\" class=\"data row9 col7\" >PC 17760</td>\n",
       "      <td id=\"T_04cfc_row9_col8\" class=\"data row9 col8\" >135.633300</td>\n",
       "      <td id=\"T_04cfc_row9_col9\" class=\"data row9 col9\" >nan</td>\n",
       "      <td id=\"T_04cfc_row9_col10\" class=\"data row9 col10\" >C</td>\n",
       "      <td id=\"T_04cfc_row9_col11\" class=\"data row9 col11\" >0</td>\n",
       "    </tr>\n",
       "  </tbody>\n",
       "</table>\n"
      ],
      "text/plain": [
       "<pandas.io.formats.style.Styler at 0x7f671d51f250>"
      ]
     },
     "execution_count": 114,
     "metadata": {},
     "output_type": "execute_result"
    }
   ],
   "source": [
    "# feature engineering: count total family members travelled in Titanic\n",
    "df[\"family\"] = df[\"SibSp\"] + df[\"Parch\"]\n",
    "df.sample(10).style.set_table_styles([cell_hover, index_names, headers]).set_properties(**{\"background-color\": \"#023e8a\",\"color\":\"white\",\"border\": \"1.3px solid white\"}).highlight_null(null_color=\"#c600de\").set_caption(\"10 sample records from the dataset after the operations.\")"
   ]
  },
  {
   "cell_type": "markdown",
   "metadata": {},
   "source": [
    "<span style=\"color:#023e8a;font-weight:bolder;font-size:18px\">Now lets have a look on \"Pclass\" & \"Survived\" columns by plotting bar chart:</span>"
   ]
  },
  {
   "cell_type": "code",
   "execution_count": 115,
   "metadata": {
    "_kg_hide-input": true,
    "execution": {
     "iopub.execute_input": "2022-11-26T05:18:22.010521Z",
     "iopub.status.busy": "2022-11-26T05:18:22.010032Z",
     "iopub.status.idle": "2022-11-26T05:18:22.316908Z",
     "shell.execute_reply": "2022-11-26T05:18:22.315646Z",
     "shell.execute_reply.started": "2022-11-26T05:18:22.010476Z"
    }
   },
   "outputs": [
    {
     "data": {
      "image/png": "[encoded data removed]",
      "text/plain": [
       "<Figure size 1008x360 with 2 Axes>"
      ]
     },
     "metadata": {
      "needs_background": "light"
     },
     "output_type": "display_data"
    }
   ],
   "source": [
    "fig, axs = plt.subplots(1, 2, figsize=(14, 5))\n",
    "\n",
    "data_survived = df[\"Survived\"].value_counts()\n",
    "data_survived.index\n",
    "\n",
    "bar_ax = sns.barplot(x=data_survived.index, y=data_survived, palette=\"magma\", ax=axs[0])\n",
    "for i in bar_ax.containers:\n",
    "    bar_ax.bar_label(i, rotation=0, fontsize = 14)\n",
    "    \n",
    "axs[0].set_title(\"Survived\")\n",
    "axs[0].set_xlabel(\"Categories\")\n",
    "axs[0].set_ylabel(\"Count\")\n",
    "\n",
    "data_pclass = df[\"Pclass\"].value_counts()\n",
    "bar_ax = sns.barplot(x=data_pclass.index, y=data_pclass, ax=axs[1], palette=\"rocket\")\n",
    "\n",
    "for i in bar_ax.containers:\n",
    "    bar_ax.bar_label(i, rotation=0, fontsize = 14)\n",
    "    \n",
    "axs[1].set_title(\"Pclass\")\n",
    "axs[1].set_xlabel(\"Categories\")\n",
    "axs[1].set_ylabel(\"Count\")\n",
    "\n",
    "plt.show()"
   ]
  },
  {
   "cell_type": "markdown",
   "metadata": {},
   "source": [
    "<span style=\"color:#023e8a;font-weight:bolder\">From the first plot, we can see that most of the passengers (549 passengers) have died and 342 passengers have survived. We can say that the dataset is kind off imbalanced type where one category have many records than the other one. And most surprising things we can see in the second plot. Most passengers are belongs to passenger class 3. The interesting thing is that there are less passengers belongs to class 2 than passenger class 1. It could happen because the difference of fares between passenger class 1 is slightly more than the passenger class 2. So those who had wished to travel in passenger class 2, had booked the passenger class 1. But there is a large difference of fares between passenger class 3 and passenger class 2. That's why there is no exception here.</span>\n",
    "\n",
    "<span style=\"color:#023e8a;font-weight:bolder;font-size:18px\">Now lets have a look on the distribution of \"Age\" & a scatter plot between \"Age\" and \"Pclass\" w.r.t. \"Survived\" column:</span>"
   ]
  },
  {
   "cell_type": "code",
   "execution_count": 116,
   "metadata": {
    "_kg_hide-input": true,
    "execution": {
     "iopub.execute_input": "2022-11-26T05:18:22.318801Z",
     "iopub.status.busy": "2022-11-26T05:18:22.318427Z",
     "iopub.status.idle": "2022-11-26T05:18:22.910008Z",
     "shell.execute_reply": "2022-11-26T05:18:22.909124Z",
     "shell.execute_reply.started": "2022-11-26T05:18:22.318768Z"
    }
   },
   "outputs": [
    {
     "data": {
      "image/png": "[encoded data removed]",
      "text/plain": [
       "<Figure size 1296x504 with 2 Axes>"
      ]
     },
     "metadata": {
      "needs_background": "light"
     },
     "output_type": "display_data"
    }
   ],
   "source": [
    "fig, axs = plt.subplots(1, 2, figsize=(18, 7))\n",
    "\n",
    "mean = df[\"Age\"].mean()\n",
    "mode = df[\"Age\"].mode()\n",
    "median = df[\"Age\"].median()\n",
    "\n",
    "sns.histplot(df[\"Age\"], stat=\"density\", kde=True, ax=axs[0])\n",
    "axs[0].plot([mean, mean], [0, 0.036], \"r-.\", label=\"mean\", linewidth=3)\n",
    "axs[0].plot([mode, mode], [0, 0.036], \"-.\", color=\"#000000\", label=\"mode\", linewidth=3)\n",
    "axs[0].plot([median, median], [0, 0.036], \"-.\", color=\"#0036de\", label=\"median\", linewidth=3)\n",
    "axs[0].set_title(\"Age PDF\")\n",
    "axs[0].legend()\n",
    "\n",
    "sns.scatterplot(x=df[\"Pclass\"], y=df[\"Age\"], hue=df[\"Survived\"], ax=axs[1])\n",
    "axs[1].set_title(\"Pclass vs Age wrt Survived\")\n",
    "\n",
    "plt.show()"
   ]
  },
  {
   "cell_type": "markdown",
   "metadata": {},
   "source": [
    "<span style=\"color:#023e8a;font-weight:bolder\">If we see the probability density function of the column \"Age\", the distribution is kind off right skewed. Most of the passengers belongs to 18 to 35 years. Also these is a bump (0 - 7 years) which tells that many children were travelling. We want to do some statistical measures, then median or mode can be a right fit. You can change the distribution by applying some function transformation (e.g., log transformation) or power transformation (e.g., Box-Cox transformation & Yeo-Johnson transformation).</span>\n",
    "\n",
    "<span style=\"color:#023e8a;font-weight:bolder\">In the second plot, we have done some scatter plot between \"Pclass\" and \"Age\" column w.r.t \"Survived\" column. For passenger class 1, the old passengers (around >=57 years) didn't survived. For passenger class 3 and 2, very few childrens/teenegers had survived. So age can be a factor for survival but we can't say that this is a strong reason behind it. Because I think most of the passenger class 1 people had better opportunity than other passenger class 2. Or there might be other natural reasons or something else.</span>\n",
    "\n",
    "<span style=\"color:#023e8a;font-weight:bolder;font-size:18px\">Now time to visualize 2 scatter plots to compare \"Age\", \"Fare\", \"Survived\" & \"Pclass\" columns together:</span>"
   ]
  },
  {
   "cell_type": "code",
   "execution_count": 117,
   "metadata": {
    "_kg_hide-input": true,
    "execution": {
     "iopub.execute_input": "2022-11-26T05:18:22.912013Z",
     "iopub.status.busy": "2022-11-26T05:18:22.911440Z",
     "iopub.status.idle": "2022-11-26T05:18:23.997776Z",
     "shell.execute_reply": "2022-11-26T05:18:23.996673Z",
     "shell.execute_reply.started": "2022-11-26T05:18:22.911979Z"
    }
   },
   "outputs": [
    {
     "data": {
      "image/png": "[encoded data removed]",
      "text/plain": [
       "<Figure size 1296x504 with 2 Axes>"
      ]
     },
     "metadata": {
      "needs_background": "light"
     },
     "output_type": "display_data"
    }
   ],
   "source": [
    "fig, axs = plt.subplots(1, 2, figsize=(18, 7))\n",
    "\n",
    "sns.scatterplot(x=\"Age\", y=\"Fare\", hue=\"Survived\", data=df, ax=axs[0])\n",
    "axs[0].set_title(\"Age vs Fare wrt Survived\")\n",
    "\n",
    "sns.scatterplot(x=\"Age\", y=\"Fare\", hue=\"Pclass\", data=df, ax=axs[1])\n",
    "axs[1].set_title(\"Age vs Fare wrt Pclass\")\n",
    "plt.show()"
   ]
  },
  {
   "cell_type": "markdown",
   "metadata": {},
   "source": [
    "<span style=\"color:#023e8a;font-weight:bolder\">The story is kind of same here. For the first plot, we already saw that children and teenagers had survived. The fare could not effect these people. But with increasing the age with increasing the fare, we can see a difference. Those who had low fare ticket, could not survived and vice versa. The second plot tells the same story. The passenger class 1 people's ticket fare were high and had survived. And there was a opposite situation with passenger class 3 and passenger class 2. That's why to get the exact diferrences behind these stories, we have some more eda with the next 2 cells which are self-explanatory.</span>"
   ]
  },
  {
   "cell_type": "code",
   "execution_count": 118,
   "metadata": {
    "_kg_hide-input": true,
    "execution": {
     "iopub.execute_input": "2022-11-26T05:18:23.999812Z",
     "iopub.status.busy": "2022-11-26T05:18:23.999371Z",
     "iopub.status.idle": "2022-11-26T05:18:24.011022Z",
     "shell.execute_reply": "2022-11-26T05:18:24.009753Z",
     "shell.execute_reply.started": "2022-11-26T05:18:23.999770Z"
    }
   },
   "outputs": [
    {
     "name": "stdout",
     "output_type": "stream",
     "text": [
      "Average age who survived: 28.343689655172415\n",
      "Average age who can't survived: 30.62617924528302\n"
     ]
    }
   ],
   "source": [
    "print(f\"Average age who survived: {df[df['Survived'] == 1]['Age'].mean()}\")\n",
    "print(f\"Average age who can't survived: {df[df['Survived'] == 0]['Age'].mean()}\")"
   ]
  },
  {
   "cell_type": "code",
   "execution_count": 119,
   "metadata": {
    "_kg_hide-input": true,
    "execution": {
     "iopub.execute_input": "2022-11-26T05:18:24.013382Z",
     "iopub.status.busy": "2022-11-26T05:18:24.012862Z",
     "iopub.status.idle": "2022-11-26T05:18:24.044675Z",
     "shell.execute_reply": "2022-11-26T05:18:24.043510Z",
     "shell.execute_reply.started": "2022-11-26T05:18:24.013316Z"
    }
   },
   "outputs": [
    {
     "name": "stdout",
     "output_type": "stream",
     "text": [
      "\u001b[5mPclass = 1\u001b[0m\n",
      "% died = 37.037\n",
      "Avg age who can't survived = 28.53\n",
      "Avg age who have survived = 35.37\n",
      "Avg fare who can't survived = 20.78\n",
      "Avg fare who have survived = 95.61\n",
      "\n",
      "---------------------------------------------------\n",
      "\n",
      "\u001b[5mPclass = 2\u001b[0m\n",
      "% died = 52.717\n",
      "Avg age who can't survived = 30.2\n",
      "Avg age who have survived = 25.9\n",
      "Avg fare who can't survived = 33.3\n",
      "Avg fare who have survived = 22.06\n",
      "\n",
      "---------------------------------------------------\n",
      "\n",
      "\u001b[5mPclass = 3\u001b[0m\n",
      "% died = 75.764\n",
      "Avg age who can't survived = 30.92\n",
      "Avg age who have survived = 20.65\n",
      "Avg fare who can't survived = 35.06\n",
      "Avg fare who have survived = 13.69\n"
     ]
    }
   ],
   "source": [
    "for i in range(1, 4):\n",
    "    percent = df[(df[\"Pclass\"] == i) & (df[\"Survived\"] == 0)].shape[0] / df[df[\"Pclass\"] == i].shape[0] * 100\n",
    "    age_died = df[(df[\"Pclass\"] == i) & df[\"Survived\"] == 0][\"Age\"].mean()\n",
    "    age_survived = df[(df[\"Pclass\"] == i) & df[\"Survived\"] == 1][\"Age\"].mean()\n",
    "    fare_died = df[(df[\"Pclass\"] == i) & df[\"Survived\"] == 0][\"Fare\"].mean()\n",
    "    fare_survived = df[(df[\"Pclass\"] == i) & df[\"Survived\"] == 1][\"Fare\"].mean()\n",
    "    \n",
    "    print(f\"\\33[5mPclass = {i}\\033[0m\")\n",
    "    print(f\"% died = {round(percent, 3)}\")\n",
    "    print(f\"Avg age who can't survived = {round(age_died, 2)}\")\n",
    "    print(f\"Avg age who have survived = {round(age_survived, 2)}\")\n",
    "    print(f\"Avg fare who can't survived = {round(fare_died, 2)}\")\n",
    "    print(f\"Avg fare who have survived = {round(fare_survived, 2)}\")\n",
    "    if i != 3: print(\"\\n---------------------------------------------------\\n\")"
   ]
  },
  {
   "cell_type": "markdown",
   "metadata": {},
   "source": [
    "<span style=\"color:#023e8a;font-weight:bolder;font-size:18px\">Lets have a look on \"Sex\" & \"Embarked\" columns:</span>"
   ]
  },
  {
   "cell_type": "code",
   "execution_count": 120,
   "metadata": {
    "_kg_hide-input": true,
    "execution": {
     "iopub.execute_input": "2022-11-26T05:18:24.047087Z",
     "iopub.status.busy": "2022-11-26T05:18:24.046455Z",
     "iopub.status.idle": "2022-11-26T05:18:24.353588Z",
     "shell.execute_reply": "2022-11-26T05:18:24.352334Z",
     "shell.execute_reply.started": "2022-11-26T05:18:24.047040Z"
    }
   },
   "outputs": [
    {
     "data": {
      "image/png": "[encoded data removed]",
      "text/plain": [
       "<Figure size 1296x432 with 2 Axes>"
      ]
     },
     "metadata": {
      "needs_background": "light"
     },
     "output_type": "display_data"
    }
   ],
   "source": [
    "values = df[\"Sex\"].value_counts()\n",
    "keys = [\"Male\", \"Female\"]\n",
    "total_records = df[\"Sex\"].count()\n",
    "\n",
    "labels = [\"{0} - {1:1.2f} %\".format(i, j/total_records * 100) for i, j in zip(keys, values)]\n",
    "explodes = [0.02/len(keys) for i in range(len(keys))]\n",
    "\n",
    "figure, axs = plt.subplots(1, 2, figsize = (18, 6))\n",
    "# draw the pie chart\n",
    "patches, texts = axs[0].pie(values, startangle = 45, explode = explodes, colors = None)\n",
    "# draw the white circle in the middle of the pie chart\n",
    "center_circle = Circle(xy = (0, 0), radius = 0.70, fc = \"white\")\n",
    "axs[0].add_patch(center_circle)\n",
    "\n",
    "axs[0].set_title(\"Gender\", fontsize = 25, fontweight = \"bold\")\n",
    "axs[0].legend(patches, labels, loc=\"center\", fontsize = 14)\n",
    "\n",
    "# for the 2nd plot\n",
    "data_survived = df[\"Embarked\"].value_counts()\n",
    "\n",
    "bar_ax = sns.barplot(x=data_survived.index, y=data_survived, palette=\"magma\", ax=axs[1])\n",
    "for i in bar_ax.containers:\n",
    "    bar_ax.bar_label(i, rotation=0, fontsize = 14)\n",
    "    \n",
    "axs[1].set_title(\"Embarked column\")\n",
    "axs[1].set_xlabel(\"Embarked cities\")\n",
    "axs[1].set_ylabel(\"Count\")\n",
    "plt.show()"
   ]
  },
  {
   "cell_type": "markdown",
   "metadata": {},
   "source": [
    "<span style=\"color:#023e8a;font-weight:bolder\">As we can see from the first plot, most passengers are male (around 64.76%) and few passengers are female (around 35.24%). Also we can see from the second plot that most passengers are belongs to the Southampton city, England. And very few passengers are came from the Queenstown city, France. I think this is obvious because Titanic had started her journey from Southamton, England, then Cherbourg, England and then Queenstown, France.</span>"
   ]
  },
  {
   "cell_type": "markdown",
   "metadata": {},
   "source": [
    "# <span style=\"color:white;font-weight:bolder;background-color:#000066;padding:7px;border-radius:7px\" id=\"prepare_data\">4. Prepare the dataset for model building</span>"
   ]
  },
  {
   "cell_type": "markdown",
   "metadata": {},
   "source": [
    "<span style=\"color:#023e8a;font-weight:bolder\">Quick glance at the dataset</span>"
   ]
  },
  {
   "cell_type": "code",
   "execution_count": 121,
   "metadata": {
    "_kg_hide-input": true,
    "execution": {
     "iopub.execute_input": "2022-11-26T05:18:24.355385Z",
     "iopub.status.busy": "2022-11-26T05:18:24.355020Z",
     "iopub.status.idle": "2022-11-26T05:18:24.396164Z",
     "shell.execute_reply": "2022-11-26T05:18:24.395242Z",
     "shell.execute_reply.started": "2022-11-26T05:18:24.355353Z"
    }
   },
   "outputs": [
    {
     "data": {
      "text/html": [
       "<style type=\"text/css\">\n",
       "#T_f4e75_ td:hover {\n",
       "  background-color: #000066;\n",
       "  color: white;\n",
       "}\n",
       "#T_f4e75_ .index_name {\n",
       "  font-style: italic;\n",
       "  color: darkgrey;\n",
       "  font-weight: normal;\n",
       "}\n",
       "#T_f4e75_ th:not(.index_name) {\n",
       "  background-color: #000066;\n",
       "  color: white;\n",
       "}\n",
       "#T_f4e75_row0_col0, #T_f4e75_row0_col1, #T_f4e75_row0_col2, #T_f4e75_row0_col3, #T_f4e75_row0_col5, #T_f4e75_row0_col6, #T_f4e75_row0_col7, #T_f4e75_row0_col8, #T_f4e75_row0_col10, #T_f4e75_row0_col11, #T_f4e75_row1_col0, #T_f4e75_row1_col1, #T_f4e75_row1_col2, #T_f4e75_row1_col3, #T_f4e75_row1_col5, #T_f4e75_row1_col6, #T_f4e75_row1_col7, #T_f4e75_row1_col8, #T_f4e75_row1_col10, #T_f4e75_row1_col11, #T_f4e75_row2_col0, #T_f4e75_row2_col1, #T_f4e75_row2_col2, #T_f4e75_row2_col3, #T_f4e75_row2_col4, #T_f4e75_row2_col5, #T_f4e75_row2_col6, #T_f4e75_row2_col7, #T_f4e75_row2_col8, #T_f4e75_row2_col10, #T_f4e75_row2_col11, #T_f4e75_row3_col0, #T_f4e75_row3_col1, #T_f4e75_row3_col2, #T_f4e75_row3_col3, #T_f4e75_row3_col4, #T_f4e75_row3_col5, #T_f4e75_row3_col6, #T_f4e75_row3_col7, #T_f4e75_row3_col8, #T_f4e75_row3_col10, #T_f4e75_row3_col11, #T_f4e75_row4_col0, #T_f4e75_row4_col1, #T_f4e75_row4_col2, #T_f4e75_row4_col3, #T_f4e75_row4_col4, #T_f4e75_row4_col5, #T_f4e75_row4_col6, #T_f4e75_row4_col7, #T_f4e75_row4_col8, #T_f4e75_row4_col10, #T_f4e75_row4_col11, #T_f4e75_row5_col0, #T_f4e75_row5_col1, #T_f4e75_row5_col2, #T_f4e75_row5_col3, #T_f4e75_row5_col4, #T_f4e75_row5_col5, #T_f4e75_row5_col6, #T_f4e75_row5_col7, #T_f4e75_row5_col8, #T_f4e75_row5_col10, #T_f4e75_row5_col11, #T_f4e75_row6_col0, #T_f4e75_row6_col1, #T_f4e75_row6_col2, #T_f4e75_row6_col3, #T_f4e75_row6_col5, #T_f4e75_row6_col6, #T_f4e75_row6_col7, #T_f4e75_row6_col8, #T_f4e75_row6_col10, #T_f4e75_row6_col11, #T_f4e75_row7_col0, #T_f4e75_row7_col1, #T_f4e75_row7_col2, #T_f4e75_row7_col3, #T_f4e75_row7_col4, #T_f4e75_row7_col5, #T_f4e75_row7_col6, #T_f4e75_row7_col7, #T_f4e75_row7_col8, #T_f4e75_row7_col10, #T_f4e75_row7_col11, #T_f4e75_row8_col0, #T_f4e75_row8_col1, #T_f4e75_row8_col2, #T_f4e75_row8_col3, #T_f4e75_row8_col4, #T_f4e75_row8_col5, #T_f4e75_row8_col6, #T_f4e75_row8_col7, #T_f4e75_row8_col8, #T_f4e75_row8_col10, #T_f4e75_row8_col11, #T_f4e75_row9_col0, #T_f4e75_row9_col1, #T_f4e75_row9_col2, #T_f4e75_row9_col3, #T_f4e75_row9_col4, #T_f4e75_row9_col5, #T_f4e75_row9_col6, #T_f4e75_row9_col7, #T_f4e75_row9_col8, #T_f4e75_row9_col9, #T_f4e75_row9_col10, #T_f4e75_row9_col11 {\n",
       "  background-color: #023e8a;\n",
       "  color: white;\n",
       "  border: 1.3px solid white;\n",
       "}\n",
       "#T_f4e75_row0_col4, #T_f4e75_row0_col9, #T_f4e75_row1_col4, #T_f4e75_row1_col9, #T_f4e75_row2_col9, #T_f4e75_row3_col9, #T_f4e75_row4_col9, #T_f4e75_row5_col9, #T_f4e75_row6_col4, #T_f4e75_row6_col9, #T_f4e75_row7_col9, #T_f4e75_row8_col9 {\n",
       "  background-color: #023e8a;\n",
       "  color: white;\n",
       "  border: 1.3px solid white;\n",
       "  background-color: #c600de;\n",
       "}\n",
       "</style>\n",
       "<table id=\"T_f4e75_\">\n",
       "  <caption>10 sample records from the dataset.</caption>\n",
       "  <thead>\n",
       "    <tr>\n",
       "      <th class=\"blank level0\" >&nbsp;</th>\n",
       "      <th class=\"col_heading level0 col0\" >Survived</th>\n",
       "      <th class=\"col_heading level0 col1\" >Pclass</th>\n",
       "      <th class=\"col_heading level0 col2\" >Name</th>\n",
       "      <th class=\"col_heading level0 col3\" >Sex</th>\n",
       "      <th class=\"col_heading level0 col4\" >Age</th>\n",
       "      <th class=\"col_heading level0 col5\" >SibSp</th>\n",
       "      <th class=\"col_heading level0 col6\" >Parch</th>\n",
       "      <th class=\"col_heading level0 col7\" >Ticket</th>\n",
       "      <th class=\"col_heading level0 col8\" >Fare</th>\n",
       "      <th class=\"col_heading level0 col9\" >Cabin</th>\n",
       "      <th class=\"col_heading level0 col10\" >Embarked</th>\n",
       "      <th class=\"col_heading level0 col11\" >family</th>\n",
       "    </tr>\n",
       "  </thead>\n",
       "  <tbody>\n",
       "    <tr>\n",
       "      <th id=\"T_f4e75_level0_row0\" class=\"row_heading level0 row0\" >420</th>\n",
       "      <td id=\"T_f4e75_row0_col0\" class=\"data row0 col0\" >0</td>\n",
       "      <td id=\"T_f4e75_row0_col1\" class=\"data row0 col1\" >3</td>\n",
       "      <td id=\"T_f4e75_row0_col2\" class=\"data row0 col2\" >Gheorgheff, Mr. Stanio</td>\n",
       "      <td id=\"T_f4e75_row0_col3\" class=\"data row0 col3\" >1</td>\n",
       "      <td id=\"T_f4e75_row0_col4\" class=\"data row0 col4\" >nan</td>\n",
       "      <td id=\"T_f4e75_row0_col5\" class=\"data row0 col5\" >0</td>\n",
       "      <td id=\"T_f4e75_row0_col6\" class=\"data row0 col6\" >0</td>\n",
       "      <td id=\"T_f4e75_row0_col7\" class=\"data row0 col7\" >349254</td>\n",
       "      <td id=\"T_f4e75_row0_col8\" class=\"data row0 col8\" >7.895800</td>\n",
       "      <td id=\"T_f4e75_row0_col9\" class=\"data row0 col9\" >nan</td>\n",
       "      <td id=\"T_f4e75_row0_col10\" class=\"data row0 col10\" >C</td>\n",
       "      <td id=\"T_f4e75_row0_col11\" class=\"data row0 col11\" >0</td>\n",
       "    </tr>\n",
       "    <tr>\n",
       "      <th id=\"T_f4e75_level0_row1\" class=\"row_heading level0 row1\" >639</th>\n",
       "      <td id=\"T_f4e75_row1_col0\" class=\"data row1 col0\" >0</td>\n",
       "      <td id=\"T_f4e75_row1_col1\" class=\"data row1 col1\" >3</td>\n",
       "      <td id=\"T_f4e75_row1_col2\" class=\"data row1 col2\" >Thorneycroft, Mr. Percival</td>\n",
       "      <td id=\"T_f4e75_row1_col3\" class=\"data row1 col3\" >1</td>\n",
       "      <td id=\"T_f4e75_row1_col4\" class=\"data row1 col4\" >nan</td>\n",
       "      <td id=\"T_f4e75_row1_col5\" class=\"data row1 col5\" >1</td>\n",
       "      <td id=\"T_f4e75_row1_col6\" class=\"data row1 col6\" >0</td>\n",
       "      <td id=\"T_f4e75_row1_col7\" class=\"data row1 col7\" >376564</td>\n",
       "      <td id=\"T_f4e75_row1_col8\" class=\"data row1 col8\" >16.100000</td>\n",
       "      <td id=\"T_f4e75_row1_col9\" class=\"data row1 col9\" >nan</td>\n",
       "      <td id=\"T_f4e75_row1_col10\" class=\"data row1 col10\" >S</td>\n",
       "      <td id=\"T_f4e75_row1_col11\" class=\"data row1 col11\" >1</td>\n",
       "    </tr>\n",
       "    <tr>\n",
       "      <th id=\"T_f4e75_level0_row2\" class=\"row_heading level0 row2\" >380</th>\n",
       "      <td id=\"T_f4e75_row2_col0\" class=\"data row2 col0\" >1</td>\n",
       "      <td id=\"T_f4e75_row2_col1\" class=\"data row2 col1\" >1</td>\n",
       "      <td id=\"T_f4e75_row2_col2\" class=\"data row2 col2\" >Bidois, Miss. Rosalie</td>\n",
       "      <td id=\"T_f4e75_row2_col3\" class=\"data row2 col3\" >0</td>\n",
       "      <td id=\"T_f4e75_row2_col4\" class=\"data row2 col4\" >42.000000</td>\n",
       "      <td id=\"T_f4e75_row2_col5\" class=\"data row2 col5\" >0</td>\n",
       "      <td id=\"T_f4e75_row2_col6\" class=\"data row2 col6\" >0</td>\n",
       "      <td id=\"T_f4e75_row2_col7\" class=\"data row2 col7\" >PC 17757</td>\n",
       "      <td id=\"T_f4e75_row2_col8\" class=\"data row2 col8\" >227.525000</td>\n",
       "      <td id=\"T_f4e75_row2_col9\" class=\"data row2 col9\" >nan</td>\n",
       "      <td id=\"T_f4e75_row2_col10\" class=\"data row2 col10\" >C</td>\n",
       "      <td id=\"T_f4e75_row2_col11\" class=\"data row2 col11\" >0</td>\n",
       "    </tr>\n",
       "    <tr>\n",
       "      <th id=\"T_f4e75_level0_row3\" class=\"row_heading level0 row3\" >344</th>\n",
       "      <td id=\"T_f4e75_row3_col0\" class=\"data row3 col0\" >0</td>\n",
       "      <td id=\"T_f4e75_row3_col1\" class=\"data row3 col1\" >2</td>\n",
       "      <td id=\"T_f4e75_row3_col2\" class=\"data row3 col2\" >Fox, Mr. Stanley Hubert</td>\n",
       "      <td id=\"T_f4e75_row3_col3\" class=\"data row3 col3\" >1</td>\n",
       "      <td id=\"T_f4e75_row3_col4\" class=\"data row3 col4\" >36.000000</td>\n",
       "      <td id=\"T_f4e75_row3_col5\" class=\"data row3 col5\" >0</td>\n",
       "      <td id=\"T_f4e75_row3_col6\" class=\"data row3 col6\" >0</td>\n",
       "      <td id=\"T_f4e75_row3_col7\" class=\"data row3 col7\" >229236</td>\n",
       "      <td id=\"T_f4e75_row3_col8\" class=\"data row3 col8\" >13.000000</td>\n",
       "      <td id=\"T_f4e75_row3_col9\" class=\"data row3 col9\" >nan</td>\n",
       "      <td id=\"T_f4e75_row3_col10\" class=\"data row3 col10\" >S</td>\n",
       "      <td id=\"T_f4e75_row3_col11\" class=\"data row3 col11\" >0</td>\n",
       "    </tr>\n",
       "    <tr>\n",
       "      <th id=\"T_f4e75_level0_row4\" class=\"row_heading level0 row4\" >130</th>\n",
       "      <td id=\"T_f4e75_row4_col0\" class=\"data row4 col0\" >0</td>\n",
       "      <td id=\"T_f4e75_row4_col1\" class=\"data row4 col1\" >3</td>\n",
       "      <td id=\"T_f4e75_row4_col2\" class=\"data row4 col2\" >Drazenoic, Mr. Jozef</td>\n",
       "      <td id=\"T_f4e75_row4_col3\" class=\"data row4 col3\" >1</td>\n",
       "      <td id=\"T_f4e75_row4_col4\" class=\"data row4 col4\" >33.000000</td>\n",
       "      <td id=\"T_f4e75_row4_col5\" class=\"data row4 col5\" >0</td>\n",
       "      <td id=\"T_f4e75_row4_col6\" class=\"data row4 col6\" >0</td>\n",
       "      <td id=\"T_f4e75_row4_col7\" class=\"data row4 col7\" >349241</td>\n",
       "      <td id=\"T_f4e75_row4_col8\" class=\"data row4 col8\" >7.895800</td>\n",
       "      <td id=\"T_f4e75_row4_col9\" class=\"data row4 col9\" >nan</td>\n",
       "      <td id=\"T_f4e75_row4_col10\" class=\"data row4 col10\" >C</td>\n",
       "      <td id=\"T_f4e75_row4_col11\" class=\"data row4 col11\" >0</td>\n",
       "    </tr>\n",
       "    <tr>\n",
       "      <th id=\"T_f4e75_level0_row5\" class=\"row_heading level0 row5\" >213</th>\n",
       "      <td id=\"T_f4e75_row5_col0\" class=\"data row5 col0\" >0</td>\n",
       "      <td id=\"T_f4e75_row5_col1\" class=\"data row5 col1\" >2</td>\n",
       "      <td id=\"T_f4e75_row5_col2\" class=\"data row5 col2\" >Givard, Mr. Hans Kristensen</td>\n",
       "      <td id=\"T_f4e75_row5_col3\" class=\"data row5 col3\" >1</td>\n",
       "      <td id=\"T_f4e75_row5_col4\" class=\"data row5 col4\" >30.000000</td>\n",
       "      <td id=\"T_f4e75_row5_col5\" class=\"data row5 col5\" >0</td>\n",
       "      <td id=\"T_f4e75_row5_col6\" class=\"data row5 col6\" >0</td>\n",
       "      <td id=\"T_f4e75_row5_col7\" class=\"data row5 col7\" >250646</td>\n",
       "      <td id=\"T_f4e75_row5_col8\" class=\"data row5 col8\" >13.000000</td>\n",
       "      <td id=\"T_f4e75_row5_col9\" class=\"data row5 col9\" >nan</td>\n",
       "      <td id=\"T_f4e75_row5_col10\" class=\"data row5 col10\" >S</td>\n",
       "      <td id=\"T_f4e75_row5_col11\" class=\"data row5 col11\" >0</td>\n",
       "    </tr>\n",
       "    <tr>\n",
       "      <th id=\"T_f4e75_level0_row6\" class=\"row_heading level0 row6\" >674</th>\n",
       "      <td id=\"T_f4e75_row6_col0\" class=\"data row6 col0\" >0</td>\n",
       "      <td id=\"T_f4e75_row6_col1\" class=\"data row6 col1\" >2</td>\n",
       "      <td id=\"T_f4e75_row6_col2\" class=\"data row6 col2\" >Watson, Mr. Ennis Hastings</td>\n",
       "      <td id=\"T_f4e75_row6_col3\" class=\"data row6 col3\" >1</td>\n",
       "      <td id=\"T_f4e75_row6_col4\" class=\"data row6 col4\" >nan</td>\n",
       "      <td id=\"T_f4e75_row6_col5\" class=\"data row6 col5\" >0</td>\n",
       "      <td id=\"T_f4e75_row6_col6\" class=\"data row6 col6\" >0</td>\n",
       "      <td id=\"T_f4e75_row6_col7\" class=\"data row6 col7\" >239856</td>\n",
       "      <td id=\"T_f4e75_row6_col8\" class=\"data row6 col8\" >0.000000</td>\n",
       "      <td id=\"T_f4e75_row6_col9\" class=\"data row6 col9\" >nan</td>\n",
       "      <td id=\"T_f4e75_row6_col10\" class=\"data row6 col10\" >S</td>\n",
       "      <td id=\"T_f4e75_row6_col11\" class=\"data row6 col11\" >0</td>\n",
       "    </tr>\n",
       "    <tr>\n",
       "      <th id=\"T_f4e75_level0_row7\" class=\"row_heading level0 row7\" >117</th>\n",
       "      <td id=\"T_f4e75_row7_col0\" class=\"data row7 col0\" >0</td>\n",
       "      <td id=\"T_f4e75_row7_col1\" class=\"data row7 col1\" >2</td>\n",
       "      <td id=\"T_f4e75_row7_col2\" class=\"data row7 col2\" >Turpin, Mr. William John Robert</td>\n",
       "      <td id=\"T_f4e75_row7_col3\" class=\"data row7 col3\" >1</td>\n",
       "      <td id=\"T_f4e75_row7_col4\" class=\"data row7 col4\" >29.000000</td>\n",
       "      <td id=\"T_f4e75_row7_col5\" class=\"data row7 col5\" >1</td>\n",
       "      <td id=\"T_f4e75_row7_col6\" class=\"data row7 col6\" >0</td>\n",
       "      <td id=\"T_f4e75_row7_col7\" class=\"data row7 col7\" >11668</td>\n",
       "      <td id=\"T_f4e75_row7_col8\" class=\"data row7 col8\" >21.000000</td>\n",
       "      <td id=\"T_f4e75_row7_col9\" class=\"data row7 col9\" >nan</td>\n",
       "      <td id=\"T_f4e75_row7_col10\" class=\"data row7 col10\" >S</td>\n",
       "      <td id=\"T_f4e75_row7_col11\" class=\"data row7 col11\" >1</td>\n",
       "    </tr>\n",
       "    <tr>\n",
       "      <th id=\"T_f4e75_level0_row8\" class=\"row_heading level0 row8\" >488</th>\n",
       "      <td id=\"T_f4e75_row8_col0\" class=\"data row8 col0\" >0</td>\n",
       "      <td id=\"T_f4e75_row8_col1\" class=\"data row8 col1\" >3</td>\n",
       "      <td id=\"T_f4e75_row8_col2\" class=\"data row8 col2\" >Somerton, Mr. Francis William</td>\n",
       "      <td id=\"T_f4e75_row8_col3\" class=\"data row8 col3\" >1</td>\n",
       "      <td id=\"T_f4e75_row8_col4\" class=\"data row8 col4\" >30.000000</td>\n",
       "      <td id=\"T_f4e75_row8_col5\" class=\"data row8 col5\" >0</td>\n",
       "      <td id=\"T_f4e75_row8_col6\" class=\"data row8 col6\" >0</td>\n",
       "      <td id=\"T_f4e75_row8_col7\" class=\"data row8 col7\" >A.5. 18509</td>\n",
       "      <td id=\"T_f4e75_row8_col8\" class=\"data row8 col8\" >8.050000</td>\n",
       "      <td id=\"T_f4e75_row8_col9\" class=\"data row8 col9\" >nan</td>\n",
       "      <td id=\"T_f4e75_row8_col10\" class=\"data row8 col10\" >S</td>\n",
       "      <td id=\"T_f4e75_row8_col11\" class=\"data row8 col11\" >0</td>\n",
       "    </tr>\n",
       "    <tr>\n",
       "      <th id=\"T_f4e75_level0_row9\" class=\"row_heading level0 row9\" >782</th>\n",
       "      <td id=\"T_f4e75_row9_col0\" class=\"data row9 col0\" >0</td>\n",
       "      <td id=\"T_f4e75_row9_col1\" class=\"data row9 col1\" >1</td>\n",
       "      <td id=\"T_f4e75_row9_col2\" class=\"data row9 col2\" >Long, Mr. Milton Clyde</td>\n",
       "      <td id=\"T_f4e75_row9_col3\" class=\"data row9 col3\" >1</td>\n",
       "      <td id=\"T_f4e75_row9_col4\" class=\"data row9 col4\" >29.000000</td>\n",
       "      <td id=\"T_f4e75_row9_col5\" class=\"data row9 col5\" >0</td>\n",
       "      <td id=\"T_f4e75_row9_col6\" class=\"data row9 col6\" >0</td>\n",
       "      <td id=\"T_f4e75_row9_col7\" class=\"data row9 col7\" >113501</td>\n",
       "      <td id=\"T_f4e75_row9_col8\" class=\"data row9 col8\" >30.000000</td>\n",
       "      <td id=\"T_f4e75_row9_col9\" class=\"data row9 col9\" >D6</td>\n",
       "      <td id=\"T_f4e75_row9_col10\" class=\"data row9 col10\" >S</td>\n",
       "      <td id=\"T_f4e75_row9_col11\" class=\"data row9 col11\" >0</td>\n",
       "    </tr>\n",
       "  </tbody>\n",
       "</table>\n"
      ],
      "text/plain": [
       "<pandas.io.formats.style.Styler at 0x7f671d332410>"
      ]
     },
     "execution_count": 121,
     "metadata": {},
     "output_type": "execute_result"
    }
   ],
   "source": [
    "df.sample(10).style.set_table_styles([cell_hover, index_names, headers]).set_properties(**{\"background-color\": \"#023e8a\",\"color\":\"white\",\"border\": \"1.3px solid white\"}).highlight_null(null_color=\"#c600de\").set_caption(\"10 sample records from the dataset.\")"
   ]
  },
  {
   "cell_type": "code",
   "execution_count": 122,
   "metadata": {
    "execution": {
     "iopub.execute_input": "2022-11-26T05:18:24.397885Z",
     "iopub.status.busy": "2022-11-26T05:18:24.397529Z",
     "iopub.status.idle": "2022-11-26T05:18:24.425000Z",
     "shell.execute_reply": "2022-11-26T05:18:24.423687Z",
     "shell.execute_reply.started": "2022-11-26T05:18:24.397851Z"
    }
   },
   "outputs": [
    {
     "data": {
      "text/html": [
       "<style type=\"text/css\">\n",
       "#T_9f4b9_ td:hover {\n",
       "  background-color: #000066;\n",
       "  color: white;\n",
       "}\n",
       "#T_9f4b9_ .index_name {\n",
       "  font-style: italic;\n",
       "  color: darkgrey;\n",
       "  font-weight: normal;\n",
       "}\n",
       "#T_9f4b9_ th:not(.index_name) {\n",
       "  background-color: #000066;\n",
       "  color: white;\n",
       "}\n",
       "#T_9f4b9_row0_col0, #T_9f4b9_row0_col1, #T_9f4b9_row0_col2, #T_9f4b9_row0_col3, #T_9f4b9_row0_col4, #T_9f4b9_row1_col0, #T_9f4b9_row1_col1, #T_9f4b9_row1_col2, #T_9f4b9_row1_col3, #T_9f4b9_row1_col4, #T_9f4b9_row2_col0, #T_9f4b9_row2_col1, #T_9f4b9_row2_col2, #T_9f4b9_row2_col3, #T_9f4b9_row2_col4, #T_9f4b9_row3_col0, #T_9f4b9_row3_col1, #T_9f4b9_row3_col2, #T_9f4b9_row3_col3, #T_9f4b9_row3_col4, #T_9f4b9_row4_col0, #T_9f4b9_row4_col1, #T_9f4b9_row4_col2, #T_9f4b9_row4_col3, #T_9f4b9_row4_col4, #T_9f4b9_row5_col0, #T_9f4b9_row5_col1, #T_9f4b9_row5_col2, #T_9f4b9_row5_col3, #T_9f4b9_row5_col4, #T_9f4b9_row6_col0, #T_9f4b9_row6_col1, #T_9f4b9_row6_col2, #T_9f4b9_row6_col3, #T_9f4b9_row6_col4, #T_9f4b9_row7_col0, #T_9f4b9_row7_col1, #T_9f4b9_row7_col2, #T_9f4b9_row7_col3, #T_9f4b9_row7_col4, #T_9f4b9_row8_col0, #T_9f4b9_row8_col1, #T_9f4b9_row8_col2, #T_9f4b9_row8_col3, #T_9f4b9_row8_col4, #T_9f4b9_row9_col0, #T_9f4b9_row9_col1, #T_9f4b9_row9_col2, #T_9f4b9_row9_col3, #T_9f4b9_row9_col4 {\n",
       "  background-color: #023e8a;\n",
       "  color: white;\n",
       "  border: 1.3px solid white;\n",
       "}\n",
       "</style>\n",
       "<table id=\"T_9f4b9_\">\n",
       "  <caption>After dropping some features from the dataset:</caption>\n",
       "  <thead>\n",
       "    <tr>\n",
       "      <th class=\"blank level0\" >&nbsp;</th>\n",
       "      <th class=\"col_heading level0 col0\" >Survived</th>\n",
       "      <th class=\"col_heading level0 col1\" >Pclass</th>\n",
       "      <th class=\"col_heading level0 col2\" >Sex</th>\n",
       "      <th class=\"col_heading level0 col3\" >Fare</th>\n",
       "      <th class=\"col_heading level0 col4\" >family</th>\n",
       "    </tr>\n",
       "  </thead>\n",
       "  <tbody>\n",
       "    <tr>\n",
       "      <th id=\"T_9f4b9_level0_row0\" class=\"row_heading level0 row0\" >59</th>\n",
       "      <td id=\"T_9f4b9_row0_col0\" class=\"data row0 col0\" >0</td>\n",
       "      <td id=\"T_9f4b9_row0_col1\" class=\"data row0 col1\" >3</td>\n",
       "      <td id=\"T_9f4b9_row0_col2\" class=\"data row0 col2\" >1</td>\n",
       "      <td id=\"T_9f4b9_row0_col3\" class=\"data row0 col3\" >46.900000</td>\n",
       "      <td id=\"T_9f4b9_row0_col4\" class=\"data row0 col4\" >7</td>\n",
       "    </tr>\n",
       "    <tr>\n",
       "      <th id=\"T_9f4b9_level0_row1\" class=\"row_heading level0 row1\" >370</th>\n",
       "      <td id=\"T_9f4b9_row1_col0\" class=\"data row1 col0\" >1</td>\n",
       "      <td id=\"T_9f4b9_row1_col1\" class=\"data row1 col1\" >1</td>\n",
       "      <td id=\"T_9f4b9_row1_col2\" class=\"data row1 col2\" >1</td>\n",
       "      <td id=\"T_9f4b9_row1_col3\" class=\"data row1 col3\" >55.441700</td>\n",
       "      <td id=\"T_9f4b9_row1_col4\" class=\"data row1 col4\" >1</td>\n",
       "    </tr>\n",
       "    <tr>\n",
       "      <th id=\"T_9f4b9_level0_row2\" class=\"row_heading level0 row2\" >554</th>\n",
       "      <td id=\"T_9f4b9_row2_col0\" class=\"data row2 col0\" >1</td>\n",
       "      <td id=\"T_9f4b9_row2_col1\" class=\"data row2 col1\" >3</td>\n",
       "      <td id=\"T_9f4b9_row2_col2\" class=\"data row2 col2\" >0</td>\n",
       "      <td id=\"T_9f4b9_row2_col3\" class=\"data row2 col3\" >7.775000</td>\n",
       "      <td id=\"T_9f4b9_row2_col4\" class=\"data row2 col4\" >0</td>\n",
       "    </tr>\n",
       "    <tr>\n",
       "      <th id=\"T_9f4b9_level0_row3\" class=\"row_heading level0 row3\" >801</th>\n",
       "      <td id=\"T_9f4b9_row3_col0\" class=\"data row3 col0\" >1</td>\n",
       "      <td id=\"T_9f4b9_row3_col1\" class=\"data row3 col1\" >2</td>\n",
       "      <td id=\"T_9f4b9_row3_col2\" class=\"data row3 col2\" >0</td>\n",
       "      <td id=\"T_9f4b9_row3_col3\" class=\"data row3 col3\" >26.250000</td>\n",
       "      <td id=\"T_9f4b9_row3_col4\" class=\"data row3 col4\" >2</td>\n",
       "    </tr>\n",
       "    <tr>\n",
       "      <th id=\"T_9f4b9_level0_row4\" class=\"row_heading level0 row4\" >783</th>\n",
       "      <td id=\"T_9f4b9_row4_col0\" class=\"data row4 col0\" >0</td>\n",
       "      <td id=\"T_9f4b9_row4_col1\" class=\"data row4 col1\" >3</td>\n",
       "      <td id=\"T_9f4b9_row4_col2\" class=\"data row4 col2\" >1</td>\n",
       "      <td id=\"T_9f4b9_row4_col3\" class=\"data row4 col3\" >23.450000</td>\n",
       "      <td id=\"T_9f4b9_row4_col4\" class=\"data row4 col4\" >3</td>\n",
       "    </tr>\n",
       "    <tr>\n",
       "      <th id=\"T_9f4b9_level0_row5\" class=\"row_heading level0 row5\" >6</th>\n",
       "      <td id=\"T_9f4b9_row5_col0\" class=\"data row5 col0\" >0</td>\n",
       "      <td id=\"T_9f4b9_row5_col1\" class=\"data row5 col1\" >1</td>\n",
       "      <td id=\"T_9f4b9_row5_col2\" class=\"data row5 col2\" >1</td>\n",
       "      <td id=\"T_9f4b9_row5_col3\" class=\"data row5 col3\" >51.862500</td>\n",
       "      <td id=\"T_9f4b9_row5_col4\" class=\"data row5 col4\" >0</td>\n",
       "    </tr>\n",
       "    <tr>\n",
       "      <th id=\"T_9f4b9_level0_row6\" class=\"row_heading level0 row6\" >205</th>\n",
       "      <td id=\"T_9f4b9_row6_col0\" class=\"data row6 col0\" >0</td>\n",
       "      <td id=\"T_9f4b9_row6_col1\" class=\"data row6 col1\" >3</td>\n",
       "      <td id=\"T_9f4b9_row6_col2\" class=\"data row6 col2\" >0</td>\n",
       "      <td id=\"T_9f4b9_row6_col3\" class=\"data row6 col3\" >10.462500</td>\n",
       "      <td id=\"T_9f4b9_row6_col4\" class=\"data row6 col4\" >1</td>\n",
       "    </tr>\n",
       "    <tr>\n",
       "      <th id=\"T_9f4b9_level0_row7\" class=\"row_heading level0 row7\" >670</th>\n",
       "      <td id=\"T_9f4b9_row7_col0\" class=\"data row7 col0\" >1</td>\n",
       "      <td id=\"T_9f4b9_row7_col1\" class=\"data row7 col1\" >2</td>\n",
       "      <td id=\"T_9f4b9_row7_col2\" class=\"data row7 col2\" >0</td>\n",
       "      <td id=\"T_9f4b9_row7_col3\" class=\"data row7 col3\" >39.000000</td>\n",
       "      <td id=\"T_9f4b9_row7_col4\" class=\"data row7 col4\" >2</td>\n",
       "    </tr>\n",
       "    <tr>\n",
       "      <th id=\"T_9f4b9_level0_row8\" class=\"row_heading level0 row8\" >217</th>\n",
       "      <td id=\"T_9f4b9_row8_col0\" class=\"data row8 col0\" >0</td>\n",
       "      <td id=\"T_9f4b9_row8_col1\" class=\"data row8 col1\" >2</td>\n",
       "      <td id=\"T_9f4b9_row8_col2\" class=\"data row8 col2\" >1</td>\n",
       "      <td id=\"T_9f4b9_row8_col3\" class=\"data row8 col3\" >27.000000</td>\n",
       "      <td id=\"T_9f4b9_row8_col4\" class=\"data row8 col4\" >1</td>\n",
       "    </tr>\n",
       "    <tr>\n",
       "      <th id=\"T_9f4b9_level0_row9\" class=\"row_heading level0 row9\" >44</th>\n",
       "      <td id=\"T_9f4b9_row9_col0\" class=\"data row9 col0\" >1</td>\n",
       "      <td id=\"T_9f4b9_row9_col1\" class=\"data row9 col1\" >3</td>\n",
       "      <td id=\"T_9f4b9_row9_col2\" class=\"data row9 col2\" >0</td>\n",
       "      <td id=\"T_9f4b9_row9_col3\" class=\"data row9 col3\" >7.879200</td>\n",
       "      <td id=\"T_9f4b9_row9_col4\" class=\"data row9 col4\" >0</td>\n",
       "    </tr>\n",
       "  </tbody>\n",
       "</table>\n"
      ],
      "text/plain": [
       "<pandas.io.formats.style.Styler at 0x7f671d416f90>"
      ]
     },
     "execution_count": 122,
     "metadata": {},
     "output_type": "execute_result"
    }
   ],
   "source": [
    "### Removing some columns because of:\n",
    "# \"Name\": Text data and can say that every records are unique\n",
    "# \"Age\": Because this column has 19.87% missing values\n",
    "# \"Cabin\": Because this column has 77.10% missing values\n",
    "# \"SibSP\" & \"Parch\": Because we have created a new column named \"family\"\n",
    "# \"Ticket\": Lots of unique values in this column\n",
    "\n",
    "df = df.drop(columns = [\"Name\", \"Age\", \"Cabin\", \"Embarked\", \"SibSp\", \"Parch\", \"Ticket\"])\n",
    "df.sample(10).style.set_table_styles([cell_hover, index_names, headers]).set_properties(**{\"background-color\": \"#023e8a\",\"color\":\"white\",\"border\": \"1.3px solid white\"}).highlight_null(null_color=\"#c600de\").set_caption(\"After dropping some features from the dataset:\")"
   ]
  },
  {
   "cell_type": "code",
   "execution_count": 123,
   "metadata": {
    "execution": {
     "iopub.execute_input": "2022-11-26T05:18:24.426882Z",
     "iopub.status.busy": "2022-11-26T05:18:24.426447Z",
     "iopub.status.idle": "2022-11-26T05:18:24.435186Z",
     "shell.execute_reply": "2022-11-26T05:18:24.434059Z",
     "shell.execute_reply.started": "2022-11-26T05:18:24.426847Z"
    }
   },
   "outputs": [],
   "source": [
    "# Separate the depedent and independent variable \n",
    "X = df.iloc[:, 1:]\n",
    "y = df[\"Survived\"]"
   ]
  },
  {
   "cell_type": "code",
   "execution_count": 124,
   "metadata": {
    "execution": {
     "iopub.execute_input": "2022-11-26T05:18:24.439515Z",
     "iopub.status.busy": "2022-11-26T05:18:24.439050Z",
     "iopub.status.idle": "2022-11-26T05:18:24.452416Z",
     "shell.execute_reply": "2022-11-26T05:18:24.451170Z",
     "shell.execute_reply.started": "2022-11-26T05:18:24.439479Z"
    }
   },
   "outputs": [
    {
     "name": "stdout",
     "output_type": "stream",
     "text": [
      "(712, 4) (712,)\n",
      "(179, 4) (179,)\n"
     ]
    }
   ],
   "source": [
    "# create a trining set and test set. Training set will use for training the model and the test set will use\n",
    "# for the evaluation of the model\n",
    "\n",
    "X_train, X_test, y_train, y_test = train_test_split(X, y, test_size=0.2,)\n",
    "\n",
    "print(X_train.shape, y_train.shape)\n",
    "print(X_test.shape, y_test.shape)"
   ]
  },
  {
   "cell_type": "markdown",
   "metadata": {},
   "source": [
    "# <span style=\"color:white;font-weight:bolder;background-color:#000066;padding:7px;border-radius:7px\" id=\"model_building\">5. Model Building</span>\n",
    "\n",
    "## <span style=\"color:white;font-weight:bolder;background-color:#000066;padding:7px;border-radius:7px\"><a href=\"https://scikit-learn.org/stable/modules/generated/sklearn.linear_model.LogisticRegression.html\" style=\"color:white\">5.1. Logistic Regression</a></span>\n",
    "\n",
    "<span style=\"color:#023e8a;font-weight:bolder\">\n",
    "Logistic regression is probably the most important supervised learning classification method. It’s a fast, versatile extension of a generalized linear model.\n",
    "Logistic regression produces feature weights that are generally interpretable, which makes it especially useful when you need to be able to explain the reasons for a decision.</span>\n",
    "\n",
    "### <span style=\"color:white;font-weight:bolder;background-color:#023e8a;padding:7px;border-radius:7px\">**Regularization**</span>\n",
    "\n",
    "<span style=\"color:#023e8a;font-weight:bolder\">There are 3 types of regularization techniques:<span>\n",
    "    \n",
    "* **<span style=\"color:#023e8a;\">1. L2 Regularization</span>**\n",
    "* **<span style=\"color:#023e8a;\">2. L1 Regularization</span>**\n",
    "* **<span style=\"color:#023e8a;\">3. ElasticNet</span>**\n",
    "\n",
    "#### <span style=\"color:#023e8a;font-weight:bolder\">**`l2` Regularization:**</span>\n",
    "    \n",
    "<span style=\"color:#023e8a;font-weight:bolder\">It is used when usually all the features are important for the model building.</span>\n",
    "    \n",
    "$$\\Large J = \\frac{1}{n}\\sum_{i=1}^{n}{L(y_i, \\hat{y_i})} + \\lambda||W||^2$$\n",
    "\n",
    "\n",
    "#### <span style=\"color:#023e8a;font-weight:bolder\">**`l1` Regularization:**</span>\n",
    "<span style=\"color:#023e8a;font-weight:bolder\">It is used when you know that some features are important for the model building.</span>\n",
    "\n",
    "$$\\Large J = \\frac{1}{n}\\sum_{i=1}^{n}{L(y_i, \\hat{y_i})} + \\lambda||W||$$\n",
    "\n",
    "#### <span style=\"color:#023e8a;font-weight:bolder\">**`elasticnet`:**</span>\n",
    "<span style=\"color:#023e8a;font-weight:bolder\">Combination of l2 and l1 regression.</span>\n",
    "\n",
    "$$\\Large J = \\frac{1}{n}\\sum_{i=1}^{n}{L(y_i, \\hat{y_i})} + (a*l2 + b*l1)$$\n",
    "\n",
    "$$\\Large \\lambda = a + b$$\n",
    "\n",
    "$$\\Large l1_{ratio} = \\frac{a}{a+b}$$\n",
    "\n",
    "### <span style=\"color:white;font-weight:bolder;background-color:#023e8a;padding:7px;border-radius:7px\">**Optimization Algorithms:**</span>\n",
    "    \n",
    "<span style=\"color:#023e8a;font-weight:bolder\">There are selevral optimation techniques that can be used in Scikit-Learn Logistic Regression algorithm. Sciikit-learn has five different solvers. Each solver tries to find the parameter weights that minimize a cost function.</span>\n",
    "\n",
    "#### <span style=\"color:#023e8a;font-weight:bolder\">**1. `newton-cg`:**</span>\n",
    "\n",
    "<span style=\"color:#023e8a;font-weight:bolder\">A newton method. Newton methods use an exact *Hessian matrix*. It's slow for large datasets, because it computes the second derivatives.</span>\n",
    "\n",
    "#### <span style=\"color:#023e8a;font-weight:bolder\">**2. `lbfgs`:**</span>\n",
    "<span style=\"color:#023e8a;font-weight:bolder\">Stands for Limited-memory Broyden–Fletcher–Goldfarb–Shanno. It approximates the second derivative matrix updates with gradient evaluations. It stores only the last few updates, so it saves memory. It isn't super fast with large data sets. It is the default solver in Scikit-Learn.</span>\n",
    "\n",
    "#### <span style=\"color:#023e8a;font-weight:bolder\">**3. `liblinear`:**</span>\n",
    "\n",
    "<span style=\"color:#023e8a;font-weight:bolder\">Library for Large Linear Classification. Uses a coordinate descent algorithm. Coordinate descent is based on minimizing a multivariate function by solving univariate optimization problems in a loop. *In other words, it moves toward the minimum in one direction at a time.* It performs pretty well with high dimensionality. It does have a number of drawbacks. It can get stuck, is unable to run in parallel, and can only solve multi-class logistic regression with one-vs.-rest.</span>\n",
    "\n",
    "#### <span style=\"color:#023e8a;font-weight:bolder\">**4. `sag`:**</span>\n",
    "\n",
    "<span style=\"color:#023e8a;font-weight:bolder\">Stochastic Average Gradient descent. A variation of gradient descent and incremental aggregated gradient approaches that uses a random sample of previous gradient values. Fast for big datasets.</span>\n",
    "\n",
    "#### <span style=\"color:#023e8a;font-weight:bolder\">**5. `saga`:**</span>\n",
    "\n",
    "<span style=\"color:#023e8a;font-weight:bolder\">Extension of `sag` that also allows for L1 regularization. Should generally train faster than sag.</span>"
   ]
  },
  {
   "cell_type": "code",
   "execution_count": 125,
   "metadata": {
    "execution": {
     "iopub.execute_input": "2022-11-26T05:18:24.456327Z",
     "iopub.status.busy": "2022-11-26T05:18:24.455960Z",
     "iopub.status.idle": "2022-11-26T05:18:24.463279Z",
     "shell.execute_reply": "2022-11-26T05:18:24.461696Z",
     "shell.execute_reply.started": "2022-11-26T05:18:24.456295Z"
    }
   },
   "outputs": [],
   "source": [
    "## Logistic Regression hyper-parameters:\n",
    "# penalty: {‘l1’, ‘l2’, ‘elasticnet’, ‘none’}. Default l2\n",
    "# l1_ratio: only if penalty=elasticnet.\n",
    "# solver: {‘newton-cg’, ‘lbfgs’, ‘liblinear’, ‘sag’, ‘saga’}. Default lbfgs\n",
    "# class_weight: dict or ‘balanced’. Default None.\n",
    "# multi_class: {‘auto’, ‘ovr’, ‘multinomial’}\n",
    "# n_jobs: Number of CPU cores used"
   ]
  },
  {
   "cell_type": "code",
   "execution_count": 126,
   "metadata": {
    "execution": {
     "iopub.execute_input": "2022-11-26T05:18:24.465289Z",
     "iopub.status.busy": "2022-11-26T05:18:24.464909Z",
     "iopub.status.idle": "2022-11-26T05:18:24.478662Z",
     "shell.execute_reply": "2022-11-26T05:18:24.477205Z",
     "shell.execute_reply.started": "2022-11-26T05:18:24.465255Z"
    }
   },
   "outputs": [
    {
     "data": {
      "text/plain": [
       "0    61.616162\n",
       "1    38.383838\n",
       "Name: Survived, dtype: float64"
      ]
     },
     "execution_count": 126,
     "metadata": {},
     "output_type": "execute_result"
    }
   ],
   "source": [
    "df[\"Survived\"].value_counts() / df[\"Survived\"].shape[0] * 100"
   ]
  },
  {
   "cell_type": "code",
   "execution_count": 127,
   "metadata": {
    "execution": {
     "iopub.execute_input": "2022-11-26T05:18:24.481100Z",
     "iopub.status.busy": "2022-11-26T05:18:24.480647Z",
     "iopub.status.idle": "2022-11-26T05:18:24.488208Z",
     "shell.execute_reply": "2022-11-26T05:18:24.487301Z",
     "shell.execute_reply.started": "2022-11-26T05:18:24.481058Z"
    }
   },
   "outputs": [],
   "source": [
    "## Let's see class_weight hyper-parameter. It can help us because we have imbalanced dataset."
   ]
  },
  {
   "cell_type": "code",
   "execution_count": 128,
   "metadata": {
    "execution": {
     "iopub.execute_input": "2022-11-26T05:18:24.490049Z",
     "iopub.status.busy": "2022-11-26T05:18:24.489590Z",
     "iopub.status.idle": "2022-11-26T05:18:24.517962Z",
     "shell.execute_reply": "2022-11-26T05:18:24.516679Z",
     "shell.execute_reply.started": "2022-11-26T05:18:24.490001Z"
    }
   },
   "outputs": [
    {
     "data": {
      "text/plain": [
       "0.8212290502793296"
      ]
     },
     "execution_count": 128,
     "metadata": {},
     "output_type": "execute_result"
    }
   ],
   "source": [
    "# defining the model without specifying any class_weight parameter\n",
    "logistic_reg = LogisticRegression(random_state = 72)\n",
    "# training the model\n",
    "logistic_reg.fit(X_train, y_train)\n",
    "# prediction the model\n",
    "y_pred_logistic = logistic_reg.predict(X_test)\n",
    "# result of the model\n",
    "accuracy_score(y_test, y_pred_logistic)"
   ]
  },
  {
   "cell_type": "code",
   "execution_count": 129,
   "metadata": {
    "execution": {
     "iopub.execute_input": "2022-11-26T05:18:24.519965Z",
     "iopub.status.busy": "2022-11-26T05:18:24.519284Z",
     "iopub.status.idle": "2022-11-26T05:18:24.550816Z",
     "shell.execute_reply": "2022-11-26T05:18:24.549638Z",
     "shell.execute_reply.started": "2022-11-26T05:18:24.519929Z"
    }
   },
   "outputs": [
    {
     "data": {
      "text/plain": [
       "0.8044692737430168"
      ]
     },
     "execution_count": 129,
     "metadata": {},
     "output_type": "execute_result"
    }
   ],
   "source": [
    "# defining the model by defining class_weight={1:0.8}\n",
    "logistic_reg = LogisticRegression(random_state = 72, class_weight={1:0.8})\n",
    "# training the model\n",
    "logistic_reg.fit(X_train, y_train)\n",
    "# prediction the model\n",
    "y_pred_logistic = logistic_reg.predict(X_test)\n",
    "# result of the model\n",
    "accuracy_score(y_test, y_pred_logistic)"
   ]
  },
  {
   "cell_type": "code",
   "execution_count": 130,
   "metadata": {
    "execution": {
     "iopub.execute_input": "2022-11-26T05:18:24.552708Z",
     "iopub.status.busy": "2022-11-26T05:18:24.552353Z",
     "iopub.status.idle": "2022-11-26T05:18:24.580011Z",
     "shell.execute_reply": "2022-11-26T05:18:24.578769Z",
     "shell.execute_reply.started": "2022-11-26T05:18:24.552676Z"
    }
   },
   "outputs": [
    {
     "data": {
      "text/plain": [
       "0.8044692737430168"
      ]
     },
     "execution_count": 130,
     "metadata": {},
     "output_type": "execute_result"
    }
   ],
   "source": [
    "# defining the model by defining class_weight={1:0.7}\n",
    "logistic_reg = LogisticRegression(random_state = 72, class_weight={1:0.7})\n",
    "# training the model\n",
    "logistic_reg.fit(X_train, y_train)\n",
    "# prediction the model\n",
    "y_pred_logistic = logistic_reg.predict(X_test)\n",
    "# result of the model\n",
    "accuracy_score(y_test, y_pred_logistic)"
   ]
  },
  {
   "cell_type": "code",
   "execution_count": 131,
   "metadata": {
    "execution": {
     "iopub.execute_input": "2022-11-26T05:18:24.582631Z",
     "iopub.status.busy": "2022-11-26T05:18:24.581593Z",
     "iopub.status.idle": "2022-11-26T05:19:04.868668Z",
     "shell.execute_reply": "2022-11-26T05:19:04.867818Z",
     "shell.execute_reply.started": "2022-11-26T05:18:24.582595Z"
    }
   },
   "outputs": [
    {
     "name": "stdout",
     "output_type": "stream",
     "text": [
      "Fitting 100 folds for each of 50 candidates, totalling 5000 fits\n"
     ]
    },
    {
     "data": {
      "text/plain": [
       "GridSearchCV(cv=100, estimator=LogisticRegression(random_state=72), n_jobs=-1,\n",
       "             param_grid={'class_weight': [{1: 0.01}, {1: 0.03}, {1: 0.05},\n",
       "                                          {1: 0.07}, {1: 0.09}, {1: 0.11},\n",
       "                                          {1: 0.13}, {1: 0.15}, {1: 0.17},\n",
       "                                          {1: 0.19}, {1: 0.21}, {1: 0.23},\n",
       "                                          {1: 0.25}, {1: 0.27}, {1: 0.29},\n",
       "                                          {1: 0.31}, {1: 0.33},\n",
       "                                          {1: 0.35000000000000003}, {1: 0.37},\n",
       "                                          {1: 0.39}, {1: 0.41000000000000003},\n",
       "                                          {1: 0.43}, {1: 0.45},\n",
       "                                          {1: 0.47000000000000003}, {1: 0.49},\n",
       "                                          {1: 0.51}, {1: 0.53}, {1: 0.55},\n",
       "                                          {1: 0.5700000000000001}, {1: 0.59}, ...]},\n",
       "             verbose=1)"
      ]
     },
     "execution_count": 131,
     "metadata": {},
     "output_type": "execute_result"
    }
   ],
   "source": [
    "# Searching best class_weight value using GridSearchCV\n",
    "class_weights = [{1: i*0.01} for i in range(1, 100, 2)]\n",
    "\n",
    "param_grid = {\"class_weight\": class_weights}\n",
    "\n",
    "logistic_reg = LogisticRegression(random_state=72)\n",
    "lr_grid = GridSearchCV(estimator = logistic_reg, param_grid = param_grid, cv=100, verbose=1, n_jobs = -1)\n",
    "\n",
    "lr_grid.fit(X_train, y_train)"
   ]
  },
  {
   "cell_type": "code",
   "execution_count": 132,
   "metadata": {
    "execution": {
     "iopub.execute_input": "2022-11-26T05:19:04.870527Z",
     "iopub.status.busy": "2022-11-26T05:19:04.869946Z",
     "iopub.status.idle": "2022-11-26T05:19:04.877805Z",
     "shell.execute_reply": "2022-11-26T05:19:04.876649Z",
     "shell.execute_reply.started": "2022-11-26T05:19:04.870493Z"
    }
   },
   "outputs": [
    {
     "data": {
      "text/plain": [
       "{'class_weight': {1: 0.73}}"
      ]
     },
     "execution_count": 132,
     "metadata": {},
     "output_type": "execute_result"
    }
   ],
   "source": [
    "# What is the best value for class_weight parameter\n",
    "lr_grid.best_params_"
   ]
  },
  {
   "cell_type": "code",
   "execution_count": 133,
   "metadata": {
    "execution": {
     "iopub.execute_input": "2022-11-26T05:19:04.879942Z",
     "iopub.status.busy": "2022-11-26T05:19:04.879555Z",
     "iopub.status.idle": "2022-11-26T05:19:04.889743Z",
     "shell.execute_reply": "2022-11-26T05:19:04.888841Z",
     "shell.execute_reply.started": "2022-11-26T05:19:04.879911Z"
    }
   },
   "outputs": [
    {
     "data": {
      "text/plain": [
       "0.80375"
      ]
     },
     "execution_count": 133,
     "metadata": {},
     "output_type": "execute_result"
    }
   ],
   "source": [
    "# what is the best score while searching the best parameter\n",
    "lr_grid.best_score_"
   ]
  },
  {
   "cell_type": "markdown",
   "metadata": {},
   "source": [
    "## <span style=\"color:white;font-weight:bolder;background-color:#000066;padding:7px;border-radius:7px\"><a href=\"https://scikit-learn.org/stable/modules/generated/sklearn.neighbors.KNeighborsClassifier.html\" style=\"color:white\">5.2. K-Nearest Neighbors Classifier</a></span>"
   ]
  },
  {
   "cell_type": "code",
   "execution_count": 134,
   "metadata": {
    "execution": {
     "iopub.execute_input": "2022-11-26T05:19:04.891985Z",
     "iopub.status.busy": "2022-11-26T05:19:04.890956Z",
     "iopub.status.idle": "2022-11-26T05:19:04.914834Z",
     "shell.execute_reply": "2022-11-26T05:19:04.913863Z",
     "shell.execute_reply.started": "2022-11-26T05:19:04.891939Z"
    }
   },
   "outputs": [
    {
     "data": {
      "text/plain": [
       "0.7597765363128491"
      ]
     },
     "execution_count": 134,
     "metadata": {},
     "output_type": "execute_result"
    }
   ],
   "source": [
    "# define the model\n",
    "knn_classifier = KNeighborsClassifier(n_neighbors=5)\n",
    "# train the model\n",
    "knn_classifier.fit(X_train, y_train)\n",
    "# some prediction time on our test set\n",
    "y_pred_knn = knn_classifier.predict(X_test)\n",
    "# performance of the model\n",
    "accuracy_score(y_test, y_pred_knn)"
   ]
  },
  {
   "cell_type": "markdown",
   "metadata": {},
   "source": [
    "##### <center><span style=\"color:white;font-weight:bolder;background-color:#000066;padding:7px;border-radius:7px\">Work is in progress. If you find this notebook useful or interesting, please, support with an upvote :)</span></center>"
   ]
  }
 ],
 "metadata": {
  "kernelspec": {
   "display_name": "Python 3 (ipykernel)",
   "language": "python",
   "name": "python3"
  },
  "language_info": {
   "codemirror_mode": {
    "name": "ipython",
    "version": 3
   },
   "file_extension": ".py",
   "mimetype": "text/x-python",
   "name": "python",
   "nbconvert_exporter": "python",
   "pygments_lexer": "ipython3",
   "version": "3.9.12"
  }
 },
 "nbformat": 4,
 "nbformat_minor": 4
}
